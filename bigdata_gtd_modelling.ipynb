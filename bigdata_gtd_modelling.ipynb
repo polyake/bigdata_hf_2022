{
  "nbformat": 4,
  "nbformat_minor": 0,
  "metadata": {
    "colab": {
      "provenance": [],
      "mount_file_id": "1cu9XvGz6srq7GMu24IBp7UL8obNF5hru",
      "authorship_tag": "ABX9TyO+dQID3hlHM7SxjsvRZKZJ",
      "include_colab_link": true
    },
    "kernelspec": {
      "name": "python3",
      "display_name": "Python 3"
    },
    "language_info": {
      "name": "python"
    }
  },
  "cells": [
    {
      "cell_type": "markdown",
      "metadata": {
        "id": "view-in-github",
        "colab_type": "text"
      },
      "source": [
        "<a href=\"https://colab.research.google.com/github/polyake/bigdata_hf_2022/blob/main/bigdata_gtd_modelling.ipynb\" target=\"_parent\"><img src=\"https://colab.research.google.com/assets/colab-badge.svg\" alt=\"Open In Colab\"/></a>"
      ]
    },
    {
      "cell_type": "code",
      "execution_count": 1,
      "metadata": {
        "id": "AMbRWL7MVDEU"
      },
      "outputs": [],
      "source": [
        "import pandas as pd\n",
        "import numpy as np\n",
        "import os\n",
        "import matplotlib\n",
        "import matplotlib.pyplot as plt"
      ]
    },
    {
      "cell_type": "markdown",
      "source": [
        "# Fájl beolvasása:"
      ],
      "metadata": {
        "id": "64qUDQV8MXfz"
      }
    },
    {
      "cell_type": "code",
      "source": [
        "#szűkített adathalmaz -- df_survived\n",
        "df = pd.read_parquet('/content/drive/MyDrive/df_survived.parquet.gzip')"
      ],
      "metadata": {
        "id": "GQZKNH0-7D1a"
      },
      "execution_count": 2,
      "outputs": []
    },
    {
      "cell_type": "code",
      "source": [
        "df"
      ],
      "metadata": {
        "colab": {
          "base_uri": "https://localhost:8080/",
          "height": 904
        },
        "id": "Xs94si4l75RZ",
        "outputId": "55f1ac81-89af-46e9-b616-aee32bae8e49"
      },
      "execution_count": 3,
      "outputs": [
        {
          "output_type": "execute_result",
          "data": {
            "text/plain": [
              "            eventid  iyear  imonth  iday  extended  country  \\\n",
              "2      197001220001   1970       1    22         0      222   \n",
              "4      197003060001   1970       3     6         1       83   \n",
              "5      197003110001   1970       3    11         1       30   \n",
              "6      197003140001   1970       3    14         1       65   \n",
              "8      197003240002   1970       3    24         1       58   \n",
              "...             ...    ...     ...   ...       ...      ...   \n",
              "16557  201005190003   2010       5    19         1       41   \n",
              "16558  201005240001   2010       5    24         0      160   \n",
              "16559  201005270009   2010       5    27         1      104   \n",
              "16564  201011290018   2010      11    29         1      153   \n",
              "16568  201109270021   2011       9    27         1      209   \n",
              "\n",
              "                    country_txt  region                   region_txt  \\\n",
              "2                     Venezuela       3                South America   \n",
              "4                     Guatemala       2  Central America & Caribbean   \n",
              "5                        Brazil       3                South America   \n",
              "6                      Ethiopia      11           Sub-Saharan Africa   \n",
              "8            Dominican Republic       2  Central America & Caribbean   \n",
              "...                         ...     ...                          ...   \n",
              "16557  Central African Republic      11           Sub-Saharan Africa   \n",
              "16558               Philippines       5               Southeast Asia   \n",
              "16559                     Kenya      11           Sub-Saharan Africa   \n",
              "16564                  Pakistan       6                   South Asia   \n",
              "16568                    Turkey      10   Middle East & North Africa   \n",
              "\n",
              "                                 provstate  ... hostkidoutcome  \\\n",
              "2                                  Caracas  ...            2.0   \n",
              "4                                Guatemala  ...            2.0   \n",
              "5                                Sao Paulo  ...            2.0   \n",
              "6                                  Unknown  ...            2.0   \n",
              "8                                 National  ...            2.0   \n",
              "...                                    ...  ...            ...   \n",
              "16557                          Haute-Kotto  ...            7.0   \n",
              "16558                       Davao Oriental  ...            6.0   \n",
              "16559                        North Eastern  ...            7.0   \n",
              "16564  Federally Administered Tribal Areas  ...            7.0   \n",
              "16568                              Tunceli  ...            7.0   \n",
              "\n",
              "                        hostkidoutcome_txt  nreleased  \\\n",
              "2      Hostage(s) released by perpetrators        1.0   \n",
              "4      Hostage(s) released by perpetrators        1.0   \n",
              "5      Hostage(s) released by perpetrators        1.0   \n",
              "6      Hostage(s) released by perpetrators        5.0   \n",
              "8      Hostage(s) released by perpetrators        1.0   \n",
              "...                                    ...        ...   \n",
              "16557                              Unknown        0.0   \n",
              "16558                          Combination        1.0   \n",
              "16559                              Unknown        0.0   \n",
              "16564                              Unknown        4.0   \n",
              "16568                              Unknown        0.0   \n",
              "\n",
              "                                                  scite1  dbsource INT_LOG  \\\n",
              "2                                                   None      PGIS       0   \n",
              "4                                                   None      PGIS       0   \n",
              "5                                                   None      PGIS       0   \n",
              "6                                                   None      PGIS       0   \n",
              "8                                                   None      PGIS       0   \n",
              "...                                                  ...       ...     ...   \n",
              "16557  National Counterterrorism Center, \"Two Civilia...      ISVG       1   \n",
              "16558  National Counterterrorism Center, \"Three Soldi...      ISVG       0   \n",
              "16559  National Counterterrorism Center, \"Four Civili...      ISVG       1   \n",
              "16564  News, \"Pakistan: Militants Set Three Trucks on...      ISVG      -9   \n",
              "16568  Today's Zaman, \"Suspected PKK Members Kidnap F...      ISVG       0   \n",
              "\n",
              "       INT_IDEO  INT_MISC  INT_ANY  survived  \n",
              "2             0         0        0  1.000000  \n",
              "4             1         1        1  1.000000  \n",
              "5             1         1        1  1.000000  \n",
              "6             1         1        1  1.000000  \n",
              "8             1         1        1  1.000000  \n",
              "...         ...       ...      ...       ...  \n",
              "16557         1         0        1  0.000000  \n",
              "16558         0         0        0  0.333333  \n",
              "16559         1         0        1  0.000000  \n",
              "16564        -9         0       -9  1.000000  \n",
              "16568         0         0        0  0.000000  \n",
              "\n",
              "[8071 rows x 67 columns]"
            ],
            "text/html": [
              "\n",
              "  <div id=\"df-75695108-eb61-4d90-84f6-bcac586d119d\">\n",
              "    <div class=\"colab-df-container\">\n",
              "      <div>\n",
              "<style scoped>\n",
              "    .dataframe tbody tr th:only-of-type {\n",
              "        vertical-align: middle;\n",
              "    }\n",
              "\n",
              "    .dataframe tbody tr th {\n",
              "        vertical-align: top;\n",
              "    }\n",
              "\n",
              "    .dataframe thead th {\n",
              "        text-align: right;\n",
              "    }\n",
              "</style>\n",
              "<table border=\"1\" class=\"dataframe\">\n",
              "  <thead>\n",
              "    <tr style=\"text-align: right;\">\n",
              "      <th></th>\n",
              "      <th>eventid</th>\n",
              "      <th>iyear</th>\n",
              "      <th>imonth</th>\n",
              "      <th>iday</th>\n",
              "      <th>extended</th>\n",
              "      <th>country</th>\n",
              "      <th>country_txt</th>\n",
              "      <th>region</th>\n",
              "      <th>region_txt</th>\n",
              "      <th>provstate</th>\n",
              "      <th>...</th>\n",
              "      <th>hostkidoutcome</th>\n",
              "      <th>hostkidoutcome_txt</th>\n",
              "      <th>nreleased</th>\n",
              "      <th>scite1</th>\n",
              "      <th>dbsource</th>\n",
              "      <th>INT_LOG</th>\n",
              "      <th>INT_IDEO</th>\n",
              "      <th>INT_MISC</th>\n",
              "      <th>INT_ANY</th>\n",
              "      <th>survived</th>\n",
              "    </tr>\n",
              "  </thead>\n",
              "  <tbody>\n",
              "    <tr>\n",
              "      <th>2</th>\n",
              "      <td>197001220001</td>\n",
              "      <td>1970</td>\n",
              "      <td>1</td>\n",
              "      <td>22</td>\n",
              "      <td>0</td>\n",
              "      <td>222</td>\n",
              "      <td>Venezuela</td>\n",
              "      <td>3</td>\n",
              "      <td>South America</td>\n",
              "      <td>Caracas</td>\n",
              "      <td>...</td>\n",
              "      <td>2.0</td>\n",
              "      <td>Hostage(s) released by perpetrators</td>\n",
              "      <td>1.0</td>\n",
              "      <td>None</td>\n",
              "      <td>PGIS</td>\n",
              "      <td>0</td>\n",
              "      <td>0</td>\n",
              "      <td>0</td>\n",
              "      <td>0</td>\n",
              "      <td>1.000000</td>\n",
              "    </tr>\n",
              "    <tr>\n",
              "      <th>4</th>\n",
              "      <td>197003060001</td>\n",
              "      <td>1970</td>\n",
              "      <td>3</td>\n",
              "      <td>6</td>\n",
              "      <td>1</td>\n",
              "      <td>83</td>\n",
              "      <td>Guatemala</td>\n",
              "      <td>2</td>\n",
              "      <td>Central America &amp; Caribbean</td>\n",
              "      <td>Guatemala</td>\n",
              "      <td>...</td>\n",
              "      <td>2.0</td>\n",
              "      <td>Hostage(s) released by perpetrators</td>\n",
              "      <td>1.0</td>\n",
              "      <td>None</td>\n",
              "      <td>PGIS</td>\n",
              "      <td>0</td>\n",
              "      <td>1</td>\n",
              "      <td>1</td>\n",
              "      <td>1</td>\n",
              "      <td>1.000000</td>\n",
              "    </tr>\n",
              "    <tr>\n",
              "      <th>5</th>\n",
              "      <td>197003110001</td>\n",
              "      <td>1970</td>\n",
              "      <td>3</td>\n",
              "      <td>11</td>\n",
              "      <td>1</td>\n",
              "      <td>30</td>\n",
              "      <td>Brazil</td>\n",
              "      <td>3</td>\n",
              "      <td>South America</td>\n",
              "      <td>Sao Paulo</td>\n",
              "      <td>...</td>\n",
              "      <td>2.0</td>\n",
              "      <td>Hostage(s) released by perpetrators</td>\n",
              "      <td>1.0</td>\n",
              "      <td>None</td>\n",
              "      <td>PGIS</td>\n",
              "      <td>0</td>\n",
              "      <td>1</td>\n",
              "      <td>1</td>\n",
              "      <td>1</td>\n",
              "      <td>1.000000</td>\n",
              "    </tr>\n",
              "    <tr>\n",
              "      <th>6</th>\n",
              "      <td>197003140001</td>\n",
              "      <td>1970</td>\n",
              "      <td>3</td>\n",
              "      <td>14</td>\n",
              "      <td>1</td>\n",
              "      <td>65</td>\n",
              "      <td>Ethiopia</td>\n",
              "      <td>11</td>\n",
              "      <td>Sub-Saharan Africa</td>\n",
              "      <td>Unknown</td>\n",
              "      <td>...</td>\n",
              "      <td>2.0</td>\n",
              "      <td>Hostage(s) released by perpetrators</td>\n",
              "      <td>5.0</td>\n",
              "      <td>None</td>\n",
              "      <td>PGIS</td>\n",
              "      <td>0</td>\n",
              "      <td>1</td>\n",
              "      <td>1</td>\n",
              "      <td>1</td>\n",
              "      <td>1.000000</td>\n",
              "    </tr>\n",
              "    <tr>\n",
              "      <th>8</th>\n",
              "      <td>197003240002</td>\n",
              "      <td>1970</td>\n",
              "      <td>3</td>\n",
              "      <td>24</td>\n",
              "      <td>1</td>\n",
              "      <td>58</td>\n",
              "      <td>Dominican Republic</td>\n",
              "      <td>2</td>\n",
              "      <td>Central America &amp; Caribbean</td>\n",
              "      <td>National</td>\n",
              "      <td>...</td>\n",
              "      <td>2.0</td>\n",
              "      <td>Hostage(s) released by perpetrators</td>\n",
              "      <td>1.0</td>\n",
              "      <td>None</td>\n",
              "      <td>PGIS</td>\n",
              "      <td>0</td>\n",
              "      <td>1</td>\n",
              "      <td>1</td>\n",
              "      <td>1</td>\n",
              "      <td>1.000000</td>\n",
              "    </tr>\n",
              "    <tr>\n",
              "      <th>...</th>\n",
              "      <td>...</td>\n",
              "      <td>...</td>\n",
              "      <td>...</td>\n",
              "      <td>...</td>\n",
              "      <td>...</td>\n",
              "      <td>...</td>\n",
              "      <td>...</td>\n",
              "      <td>...</td>\n",
              "      <td>...</td>\n",
              "      <td>...</td>\n",
              "      <td>...</td>\n",
              "      <td>...</td>\n",
              "      <td>...</td>\n",
              "      <td>...</td>\n",
              "      <td>...</td>\n",
              "      <td>...</td>\n",
              "      <td>...</td>\n",
              "      <td>...</td>\n",
              "      <td>...</td>\n",
              "      <td>...</td>\n",
              "      <td>...</td>\n",
              "    </tr>\n",
              "    <tr>\n",
              "      <th>16557</th>\n",
              "      <td>201005190003</td>\n",
              "      <td>2010</td>\n",
              "      <td>5</td>\n",
              "      <td>19</td>\n",
              "      <td>1</td>\n",
              "      <td>41</td>\n",
              "      <td>Central African Republic</td>\n",
              "      <td>11</td>\n",
              "      <td>Sub-Saharan Africa</td>\n",
              "      <td>Haute-Kotto</td>\n",
              "      <td>...</td>\n",
              "      <td>7.0</td>\n",
              "      <td>Unknown</td>\n",
              "      <td>0.0</td>\n",
              "      <td>National Counterterrorism Center, \"Two Civilia...</td>\n",
              "      <td>ISVG</td>\n",
              "      <td>1</td>\n",
              "      <td>1</td>\n",
              "      <td>0</td>\n",
              "      <td>1</td>\n",
              "      <td>0.000000</td>\n",
              "    </tr>\n",
              "    <tr>\n",
              "      <th>16558</th>\n",
              "      <td>201005240001</td>\n",
              "      <td>2010</td>\n",
              "      <td>5</td>\n",
              "      <td>24</td>\n",
              "      <td>0</td>\n",
              "      <td>160</td>\n",
              "      <td>Philippines</td>\n",
              "      <td>5</td>\n",
              "      <td>Southeast Asia</td>\n",
              "      <td>Davao Oriental</td>\n",
              "      <td>...</td>\n",
              "      <td>6.0</td>\n",
              "      <td>Combination</td>\n",
              "      <td>1.0</td>\n",
              "      <td>National Counterterrorism Center, \"Three Soldi...</td>\n",
              "      <td>ISVG</td>\n",
              "      <td>0</td>\n",
              "      <td>0</td>\n",
              "      <td>0</td>\n",
              "      <td>0</td>\n",
              "      <td>0.333333</td>\n",
              "    </tr>\n",
              "    <tr>\n",
              "      <th>16559</th>\n",
              "      <td>201005270009</td>\n",
              "      <td>2010</td>\n",
              "      <td>5</td>\n",
              "      <td>27</td>\n",
              "      <td>1</td>\n",
              "      <td>104</td>\n",
              "      <td>Kenya</td>\n",
              "      <td>11</td>\n",
              "      <td>Sub-Saharan Africa</td>\n",
              "      <td>North Eastern</td>\n",
              "      <td>...</td>\n",
              "      <td>7.0</td>\n",
              "      <td>Unknown</td>\n",
              "      <td>0.0</td>\n",
              "      <td>National Counterterrorism Center, \"Four Civili...</td>\n",
              "      <td>ISVG</td>\n",
              "      <td>1</td>\n",
              "      <td>1</td>\n",
              "      <td>0</td>\n",
              "      <td>1</td>\n",
              "      <td>0.000000</td>\n",
              "    </tr>\n",
              "    <tr>\n",
              "      <th>16564</th>\n",
              "      <td>201011290018</td>\n",
              "      <td>2010</td>\n",
              "      <td>11</td>\n",
              "      <td>29</td>\n",
              "      <td>1</td>\n",
              "      <td>153</td>\n",
              "      <td>Pakistan</td>\n",
              "      <td>6</td>\n",
              "      <td>South Asia</td>\n",
              "      <td>Federally Administered Tribal Areas</td>\n",
              "      <td>...</td>\n",
              "      <td>7.0</td>\n",
              "      <td>Unknown</td>\n",
              "      <td>4.0</td>\n",
              "      <td>News, \"Pakistan: Militants Set Three Trucks on...</td>\n",
              "      <td>ISVG</td>\n",
              "      <td>-9</td>\n",
              "      <td>-9</td>\n",
              "      <td>0</td>\n",
              "      <td>-9</td>\n",
              "      <td>1.000000</td>\n",
              "    </tr>\n",
              "    <tr>\n",
              "      <th>16568</th>\n",
              "      <td>201109270021</td>\n",
              "      <td>2011</td>\n",
              "      <td>9</td>\n",
              "      <td>27</td>\n",
              "      <td>1</td>\n",
              "      <td>209</td>\n",
              "      <td>Turkey</td>\n",
              "      <td>10</td>\n",
              "      <td>Middle East &amp; North Africa</td>\n",
              "      <td>Tunceli</td>\n",
              "      <td>...</td>\n",
              "      <td>7.0</td>\n",
              "      <td>Unknown</td>\n",
              "      <td>0.0</td>\n",
              "      <td>Today's Zaman, \"Suspected PKK Members Kidnap F...</td>\n",
              "      <td>ISVG</td>\n",
              "      <td>0</td>\n",
              "      <td>0</td>\n",
              "      <td>0</td>\n",
              "      <td>0</td>\n",
              "      <td>0.000000</td>\n",
              "    </tr>\n",
              "  </tbody>\n",
              "</table>\n",
              "<p>8071 rows × 67 columns</p>\n",
              "</div>\n",
              "      <button class=\"colab-df-convert\" onclick=\"convertToInteractive('df-75695108-eb61-4d90-84f6-bcac586d119d')\"\n",
              "              title=\"Convert this dataframe to an interactive table.\"\n",
              "              style=\"display:none;\">\n",
              "        \n",
              "  <svg xmlns=\"http://www.w3.org/2000/svg\" height=\"24px\"viewBox=\"0 0 24 24\"\n",
              "       width=\"24px\">\n",
              "    <path d=\"M0 0h24v24H0V0z\" fill=\"none\"/>\n",
              "    <path d=\"M18.56 5.44l.94 2.06.94-2.06 2.06-.94-2.06-.94-.94-2.06-.94 2.06-2.06.94zm-11 1L8.5 8.5l.94-2.06 2.06-.94-2.06-.94L8.5 2.5l-.94 2.06-2.06.94zm10 10l.94 2.06.94-2.06 2.06-.94-2.06-.94-.94-2.06-.94 2.06-2.06.94z\"/><path d=\"M17.41 7.96l-1.37-1.37c-.4-.4-.92-.59-1.43-.59-.52 0-1.04.2-1.43.59L10.3 9.45l-7.72 7.72c-.78.78-.78 2.05 0 2.83L4 21.41c.39.39.9.59 1.41.59.51 0 1.02-.2 1.41-.59l7.78-7.78 2.81-2.81c.8-.78.8-2.07 0-2.86zM5.41 20L4 18.59l7.72-7.72 1.47 1.35L5.41 20z\"/>\n",
              "  </svg>\n",
              "      </button>\n",
              "      \n",
              "  <style>\n",
              "    .colab-df-container {\n",
              "      display:flex;\n",
              "      flex-wrap:wrap;\n",
              "      gap: 12px;\n",
              "    }\n",
              "\n",
              "    .colab-df-convert {\n",
              "      background-color: #E8F0FE;\n",
              "      border: none;\n",
              "      border-radius: 50%;\n",
              "      cursor: pointer;\n",
              "      display: none;\n",
              "      fill: #1967D2;\n",
              "      height: 32px;\n",
              "      padding: 0 0 0 0;\n",
              "      width: 32px;\n",
              "    }\n",
              "\n",
              "    .colab-df-convert:hover {\n",
              "      background-color: #E2EBFA;\n",
              "      box-shadow: 0px 1px 2px rgba(60, 64, 67, 0.3), 0px 1px 3px 1px rgba(60, 64, 67, 0.15);\n",
              "      fill: #174EA6;\n",
              "    }\n",
              "\n",
              "    [theme=dark] .colab-df-convert {\n",
              "      background-color: #3B4455;\n",
              "      fill: #D2E3FC;\n",
              "    }\n",
              "\n",
              "    [theme=dark] .colab-df-convert:hover {\n",
              "      background-color: #434B5C;\n",
              "      box-shadow: 0px 1px 3px 1px rgba(0, 0, 0, 0.15);\n",
              "      filter: drop-shadow(0px 1px 2px rgba(0, 0, 0, 0.3));\n",
              "      fill: #FFFFFF;\n",
              "    }\n",
              "  </style>\n",
              "\n",
              "      <script>\n",
              "        const buttonEl =\n",
              "          document.querySelector('#df-75695108-eb61-4d90-84f6-bcac586d119d button.colab-df-convert');\n",
              "        buttonEl.style.display =\n",
              "          google.colab.kernel.accessAllowed ? 'block' : 'none';\n",
              "\n",
              "        async function convertToInteractive(key) {\n",
              "          const element = document.querySelector('#df-75695108-eb61-4d90-84f6-bcac586d119d');\n",
              "          const dataTable =\n",
              "            await google.colab.kernel.invokeFunction('convertToInteractive',\n",
              "                                                     [key], {});\n",
              "          if (!dataTable) return;\n",
              "\n",
              "          const docLinkHtml = 'Like what you see? Visit the ' +\n",
              "            '<a target=\"_blank\" href=https://colab.research.google.com/notebooks/data_table.ipynb>data table notebook</a>'\n",
              "            + ' to learn more about interactive tables.';\n",
              "          element.innerHTML = '';\n",
              "          dataTable['output_type'] = 'display_data';\n",
              "          await google.colab.output.renderOutput(dataTable, element);\n",
              "          const docLink = document.createElement('div');\n",
              "          docLink.innerHTML = docLinkHtml;\n",
              "          element.appendChild(docLink);\n",
              "        }\n",
              "      </script>\n",
              "    </div>\n",
              "  </div>\n",
              "  "
            ]
          },
          "metadata": {},
          "execution_count": 3
        }
      ]
    },
    {
      "cell_type": "code",
      "source": [
        "df.info()"
      ],
      "metadata": {
        "colab": {
          "base_uri": "https://localhost:8080/"
        },
        "id": "nNQG03tx8DqR",
        "outputId": "b4c013f4-1d14-4ee6-d05d-c5bcf1e54fcb"
      },
      "execution_count": 4,
      "outputs": [
        {
          "output_type": "stream",
          "name": "stdout",
          "text": [
            "<class 'pandas.core.frame.DataFrame'>\n",
            "Int64Index: 8071 entries, 2 to 16568\n",
            "Data columns (total 67 columns):\n",
            " #   Column              Non-Null Count  Dtype  \n",
            "---  ------              --------------  -----  \n",
            " 0   eventid             8071 non-null   int64  \n",
            " 1   iyear               8071 non-null   int64  \n",
            " 2   imonth              8071 non-null   int64  \n",
            " 3   iday                8071 non-null   int64  \n",
            " 4   extended            8071 non-null   int64  \n",
            " 5   country             8071 non-null   int64  \n",
            " 6   country_txt         8071 non-null   object \n",
            " 7   region              8071 non-null   int64  \n",
            " 8   region_txt          8071 non-null   object \n",
            " 9   provstate           8071 non-null   object \n",
            " 10  city                8051 non-null   object \n",
            " 11  latitude            7808 non-null   float64\n",
            " 12  longitude           7808 non-null   float64\n",
            " 13  specificity         8071 non-null   float64\n",
            " 14  vicinity            8071 non-null   int64  \n",
            " 15  summary             6938 non-null   object \n",
            " 16  crit1               8071 non-null   int64  \n",
            " 17  crit2               8071 non-null   int64  \n",
            " 18  crit3               8071 non-null   int64  \n",
            " 19  doubtterr           8071 non-null   int64  \n",
            " 20  multiple            8070 non-null   float64\n",
            " 21  success             8071 non-null   int64  \n",
            " 22  suicide             8071 non-null   int64  \n",
            " 23  attacktype1         8071 non-null   int64  \n",
            " 24  attacktype1_txt     8071 non-null   object \n",
            " 25  attacktype2         1628 non-null   float64\n",
            " 26  attacktype2_txt     1628 non-null   object \n",
            " 27  attacktype3         216 non-null    float64\n",
            " 28  attacktype3_txt     216 non-null    object \n",
            " 29  targtype1           8071 non-null   int64  \n",
            " 30  targtype1_txt       8071 non-null   object \n",
            " 31  targsubtype1        7756 non-null   float64\n",
            " 32  targsubtype1_txt    7756 non-null   object \n",
            " 33  corp1               7281 non-null   object \n",
            " 34  target1             8055 non-null   object \n",
            " 35  natlty1             8052 non-null   float64\n",
            " 36  natlty1_txt         8052 non-null   object \n",
            " 37  gname               8071 non-null   object \n",
            " 38  guncertain1         8067 non-null   float64\n",
            " 39  individual          8071 non-null   int64  \n",
            " 40  nperps              6854 non-null   float64\n",
            " 41  nperpcap            6811 non-null   float64\n",
            " 42  claimed             6940 non-null   float64\n",
            " 43  weaptype1           8071 non-null   int64  \n",
            " 44  weaptype1_txt       8071 non-null   object \n",
            " 45  nkill               7698 non-null   float64\n",
            " 46  nkillus             7017 non-null   float64\n",
            " 47  nkillter            6964 non-null   float64\n",
            " 48  nwound              7471 non-null   float64\n",
            " 49  nwoundus            7005 non-null   float64\n",
            " 50  nwoundte            6862 non-null   float64\n",
            " 51  property            8071 non-null   int64  \n",
            " 52  ishostkid           8071 non-null   float64\n",
            " 53  nhostkid            8071 non-null   float64\n",
            " 54  nhostkidus          8052 non-null   float64\n",
            " 55  ndays               4952 non-null   float64\n",
            " 56  ransom              7971 non-null   float64\n",
            " 57  hostkidoutcome      8052 non-null   float64\n",
            " 58  hostkidoutcome_txt  8052 non-null   object \n",
            " 59  nreleased           8071 non-null   float64\n",
            " 60  scite1              6935 non-null   object \n",
            " 61  dbsource            8071 non-null   object \n",
            " 62  INT_LOG             8071 non-null   int64  \n",
            " 63  INT_IDEO            8071 non-null   int64  \n",
            " 64  INT_MISC            8071 non-null   int64  \n",
            " 65  INT_ANY             8071 non-null   int64  \n",
            " 66  survived            8071 non-null   float64\n",
            "dtypes: float64(26), int64(23), object(18)\n",
            "memory usage: 4.2+ MB\n"
          ]
        }
      ]
    },
    {
      "cell_type": "markdown",
      "source": [
        "# Adathalmaz további feltárása, szűrése:"
      ],
      "metadata": {
        "id": "bcIAdsoePqy8"
      }
    },
    {
      "cell_type": "markdown",
      "source": [
        "**fontos változók az EDA alapján:**\n",
        "\n",
        "numerikus: iyear, extended, nperps, ndays (imonth, iday?)\n",
        "\n",
        "(latitude, longtitude is erősebben korrelál a célváltozóval, de helyette a country, region stb.. változókat vesszük figyelembe)\n",
        "\n",
        "kategorikus: country, region, targtype1, gname, weaptype1"
      ],
      "metadata": {
        "id": "FaWPMgQCbXPY"
      }
    },
    {
      "cell_type": "code",
      "source": [
        "df[df[\"extended\"]==0]"
      ],
      "metadata": {
        "colab": {
          "base_uri": "https://localhost:8080/",
          "height": 835
        },
        "id": "gHUdbCRcB-hL",
        "outputId": "90ad65cf-020e-4a51-8923-bfcbe6b1050e"
      },
      "execution_count": 5,
      "outputs": [
        {
          "output_type": "execute_result",
          "data": {
            "text/plain": [
              "            eventid  iyear  imonth  iday  extended  country     country_txt  \\\n",
              "2      197001220001   1970       1    22         0      222       Venezuela   \n",
              "10     197003290001   1970       3    29         0       11       Argentina   \n",
              "33     197008190001   1970       8    19         0      218         Uruguay   \n",
              "43     197009120002   1970       9    12         0      603  United Kingdom   \n",
              "59     197102210001   1971       2    21         0      222       Venezuela   \n",
              "...             ...    ...     ...   ...       ...      ...             ...   \n",
              "16541  200808180011   2008       8    18         0      160     Philippines   \n",
              "16544  200903180019   2009       3    18         0       92           India   \n",
              "16545  200903300028   2009       3    30         0      153        Pakistan   \n",
              "16548  200906230008   2009       6    23         0       92           India   \n",
              "16558  201005240001   2010       5    24         0      160     Philippines   \n",
              "\n",
              "       region      region_txt        provstate  ... hostkidoutcome  \\\n",
              "2           3   South America          Caracas  ...            2.0   \n",
              "10          3   South America     Buenos Aires  ...            5.0   \n",
              "33          3   South America       Montevideo  ...            2.0   \n",
              "43          8  Western Europe          England  ...            2.0   \n",
              "59          3   South America          Caracas  ...            2.0   \n",
              "...       ...             ...              ...  ...            ...   \n",
              "16541       5  Southeast Asia  Lanao del Norte  ...            2.0   \n",
              "16544       6      South Asia            Assam  ...            7.0   \n",
              "16545       6      South Asia           Punjab  ...            6.0   \n",
              "16548       6      South Asia           Orissa  ...            3.0   \n",
              "16558       5  Southeast Asia   Davao Oriental  ...            6.0   \n",
              "\n",
              "                                   hostkidoutcome_txt  nreleased  \\\n",
              "2                 Hostage(s) released by perpetrators        1.0   \n",
              "10                                  Successful Rescue        1.0   \n",
              "33                Hostage(s) released by perpetrators        1.0   \n",
              "43                Hostage(s) released by perpetrators        3.0   \n",
              "59                Hostage(s) released by perpetrators        1.0   \n",
              "...                                               ...        ...   \n",
              "16541             Hostage(s) released by perpetrators       63.0   \n",
              "16544                                         Unknown        0.0   \n",
              "16545                                     Combination      400.0   \n",
              "16548  Hostage(s) escaped (not during rescue attempt)        1.0   \n",
              "16558                                     Combination        1.0   \n",
              "\n",
              "                                                  scite1  dbsource INT_LOG  \\\n",
              "2                                                   None      PGIS       0   \n",
              "10                                                  None      PGIS       0   \n",
              "33                                                  None      PGIS       0   \n",
              "43                                                  None      PGIS       1   \n",
              "59                                                  None      PGIS       0   \n",
              "...                                                  ...       ...     ...   \n",
              "16541  GMA News, \"Central Mindanao Towns Tense after ...      ISVG       0   \n",
              "16544  Jane's Intelligence, \"KLNLF Militants Kill Civ...      ISVG       0   \n",
              "16545  National Counterterrorism Center, \"11 Police O...      ISVG       0   \n",
              "16548  National Counterterrorism Center, \"Two Governm...      ISVG       0   \n",
              "16558  National Counterterrorism Center, \"Three Soldi...      ISVG       0   \n",
              "\n",
              "       INT_IDEO  INT_MISC  INT_ANY  survived  \n",
              "2             0         0        0  1.000000  \n",
              "10            1         1        1  1.000000  \n",
              "33            1         1        1  1.000000  \n",
              "43            1         1        1  1.000000  \n",
              "59            0         0        0  0.333333  \n",
              "...         ...       ...      ...       ...  \n",
              "16541         0         0        0  1.000000  \n",
              "16544         0         0        0  0.000000  \n",
              "16545         0         0        0  1.000000  \n",
              "16548         0         0        0  1.000000  \n",
              "16558         0         0        0  0.333333  \n",
              "\n",
              "[3137 rows x 67 columns]"
            ],
            "text/html": [
              "\n",
              "  <div id=\"df-14cd4aa8-7fc6-4041-8f93-5b8201a4b542\">\n",
              "    <div class=\"colab-df-container\">\n",
              "      <div>\n",
              "<style scoped>\n",
              "    .dataframe tbody tr th:only-of-type {\n",
              "        vertical-align: middle;\n",
              "    }\n",
              "\n",
              "    .dataframe tbody tr th {\n",
              "        vertical-align: top;\n",
              "    }\n",
              "\n",
              "    .dataframe thead th {\n",
              "        text-align: right;\n",
              "    }\n",
              "</style>\n",
              "<table border=\"1\" class=\"dataframe\">\n",
              "  <thead>\n",
              "    <tr style=\"text-align: right;\">\n",
              "      <th></th>\n",
              "      <th>eventid</th>\n",
              "      <th>iyear</th>\n",
              "      <th>imonth</th>\n",
              "      <th>iday</th>\n",
              "      <th>extended</th>\n",
              "      <th>country</th>\n",
              "      <th>country_txt</th>\n",
              "      <th>region</th>\n",
              "      <th>region_txt</th>\n",
              "      <th>provstate</th>\n",
              "      <th>...</th>\n",
              "      <th>hostkidoutcome</th>\n",
              "      <th>hostkidoutcome_txt</th>\n",
              "      <th>nreleased</th>\n",
              "      <th>scite1</th>\n",
              "      <th>dbsource</th>\n",
              "      <th>INT_LOG</th>\n",
              "      <th>INT_IDEO</th>\n",
              "      <th>INT_MISC</th>\n",
              "      <th>INT_ANY</th>\n",
              "      <th>survived</th>\n",
              "    </tr>\n",
              "  </thead>\n",
              "  <tbody>\n",
              "    <tr>\n",
              "      <th>2</th>\n",
              "      <td>197001220001</td>\n",
              "      <td>1970</td>\n",
              "      <td>1</td>\n",
              "      <td>22</td>\n",
              "      <td>0</td>\n",
              "      <td>222</td>\n",
              "      <td>Venezuela</td>\n",
              "      <td>3</td>\n",
              "      <td>South America</td>\n",
              "      <td>Caracas</td>\n",
              "      <td>...</td>\n",
              "      <td>2.0</td>\n",
              "      <td>Hostage(s) released by perpetrators</td>\n",
              "      <td>1.0</td>\n",
              "      <td>None</td>\n",
              "      <td>PGIS</td>\n",
              "      <td>0</td>\n",
              "      <td>0</td>\n",
              "      <td>0</td>\n",
              "      <td>0</td>\n",
              "      <td>1.000000</td>\n",
              "    </tr>\n",
              "    <tr>\n",
              "      <th>10</th>\n",
              "      <td>197003290001</td>\n",
              "      <td>1970</td>\n",
              "      <td>3</td>\n",
              "      <td>29</td>\n",
              "      <td>0</td>\n",
              "      <td>11</td>\n",
              "      <td>Argentina</td>\n",
              "      <td>3</td>\n",
              "      <td>South America</td>\n",
              "      <td>Buenos Aires</td>\n",
              "      <td>...</td>\n",
              "      <td>5.0</td>\n",
              "      <td>Successful Rescue</td>\n",
              "      <td>1.0</td>\n",
              "      <td>None</td>\n",
              "      <td>PGIS</td>\n",
              "      <td>0</td>\n",
              "      <td>1</td>\n",
              "      <td>1</td>\n",
              "      <td>1</td>\n",
              "      <td>1.000000</td>\n",
              "    </tr>\n",
              "    <tr>\n",
              "      <th>33</th>\n",
              "      <td>197008190001</td>\n",
              "      <td>1970</td>\n",
              "      <td>8</td>\n",
              "      <td>19</td>\n",
              "      <td>0</td>\n",
              "      <td>218</td>\n",
              "      <td>Uruguay</td>\n",
              "      <td>3</td>\n",
              "      <td>South America</td>\n",
              "      <td>Montevideo</td>\n",
              "      <td>...</td>\n",
              "      <td>2.0</td>\n",
              "      <td>Hostage(s) released by perpetrators</td>\n",
              "      <td>1.0</td>\n",
              "      <td>None</td>\n",
              "      <td>PGIS</td>\n",
              "      <td>0</td>\n",
              "      <td>1</td>\n",
              "      <td>1</td>\n",
              "      <td>1</td>\n",
              "      <td>1.000000</td>\n",
              "    </tr>\n",
              "    <tr>\n",
              "      <th>43</th>\n",
              "      <td>197009120002</td>\n",
              "      <td>1970</td>\n",
              "      <td>9</td>\n",
              "      <td>12</td>\n",
              "      <td>0</td>\n",
              "      <td>603</td>\n",
              "      <td>United Kingdom</td>\n",
              "      <td>8</td>\n",
              "      <td>Western Europe</td>\n",
              "      <td>England</td>\n",
              "      <td>...</td>\n",
              "      <td>2.0</td>\n",
              "      <td>Hostage(s) released by perpetrators</td>\n",
              "      <td>3.0</td>\n",
              "      <td>None</td>\n",
              "      <td>PGIS</td>\n",
              "      <td>1</td>\n",
              "      <td>1</td>\n",
              "      <td>1</td>\n",
              "      <td>1</td>\n",
              "      <td>1.000000</td>\n",
              "    </tr>\n",
              "    <tr>\n",
              "      <th>59</th>\n",
              "      <td>197102210001</td>\n",
              "      <td>1971</td>\n",
              "      <td>2</td>\n",
              "      <td>21</td>\n",
              "      <td>0</td>\n",
              "      <td>222</td>\n",
              "      <td>Venezuela</td>\n",
              "      <td>3</td>\n",
              "      <td>South America</td>\n",
              "      <td>Caracas</td>\n",
              "      <td>...</td>\n",
              "      <td>2.0</td>\n",
              "      <td>Hostage(s) released by perpetrators</td>\n",
              "      <td>1.0</td>\n",
              "      <td>None</td>\n",
              "      <td>PGIS</td>\n",
              "      <td>0</td>\n",
              "      <td>0</td>\n",
              "      <td>0</td>\n",
              "      <td>0</td>\n",
              "      <td>0.333333</td>\n",
              "    </tr>\n",
              "    <tr>\n",
              "      <th>...</th>\n",
              "      <td>...</td>\n",
              "      <td>...</td>\n",
              "      <td>...</td>\n",
              "      <td>...</td>\n",
              "      <td>...</td>\n",
              "      <td>...</td>\n",
              "      <td>...</td>\n",
              "      <td>...</td>\n",
              "      <td>...</td>\n",
              "      <td>...</td>\n",
              "      <td>...</td>\n",
              "      <td>...</td>\n",
              "      <td>...</td>\n",
              "      <td>...</td>\n",
              "      <td>...</td>\n",
              "      <td>...</td>\n",
              "      <td>...</td>\n",
              "      <td>...</td>\n",
              "      <td>...</td>\n",
              "      <td>...</td>\n",
              "      <td>...</td>\n",
              "    </tr>\n",
              "    <tr>\n",
              "      <th>16541</th>\n",
              "      <td>200808180011</td>\n",
              "      <td>2008</td>\n",
              "      <td>8</td>\n",
              "      <td>18</td>\n",
              "      <td>0</td>\n",
              "      <td>160</td>\n",
              "      <td>Philippines</td>\n",
              "      <td>5</td>\n",
              "      <td>Southeast Asia</td>\n",
              "      <td>Lanao del Norte</td>\n",
              "      <td>...</td>\n",
              "      <td>2.0</td>\n",
              "      <td>Hostage(s) released by perpetrators</td>\n",
              "      <td>63.0</td>\n",
              "      <td>GMA News, \"Central Mindanao Towns Tense after ...</td>\n",
              "      <td>ISVG</td>\n",
              "      <td>0</td>\n",
              "      <td>0</td>\n",
              "      <td>0</td>\n",
              "      <td>0</td>\n",
              "      <td>1.000000</td>\n",
              "    </tr>\n",
              "    <tr>\n",
              "      <th>16544</th>\n",
              "      <td>200903180019</td>\n",
              "      <td>2009</td>\n",
              "      <td>3</td>\n",
              "      <td>18</td>\n",
              "      <td>0</td>\n",
              "      <td>92</td>\n",
              "      <td>India</td>\n",
              "      <td>6</td>\n",
              "      <td>South Asia</td>\n",
              "      <td>Assam</td>\n",
              "      <td>...</td>\n",
              "      <td>7.0</td>\n",
              "      <td>Unknown</td>\n",
              "      <td>0.0</td>\n",
              "      <td>Jane's Intelligence, \"KLNLF Militants Kill Civ...</td>\n",
              "      <td>ISVG</td>\n",
              "      <td>0</td>\n",
              "      <td>0</td>\n",
              "      <td>0</td>\n",
              "      <td>0</td>\n",
              "      <td>0.000000</td>\n",
              "    </tr>\n",
              "    <tr>\n",
              "      <th>16545</th>\n",
              "      <td>200903300028</td>\n",
              "      <td>2009</td>\n",
              "      <td>3</td>\n",
              "      <td>30</td>\n",
              "      <td>0</td>\n",
              "      <td>153</td>\n",
              "      <td>Pakistan</td>\n",
              "      <td>6</td>\n",
              "      <td>South Asia</td>\n",
              "      <td>Punjab</td>\n",
              "      <td>...</td>\n",
              "      <td>6.0</td>\n",
              "      <td>Combination</td>\n",
              "      <td>400.0</td>\n",
              "      <td>National Counterterrorism Center, \"11 Police O...</td>\n",
              "      <td>ISVG</td>\n",
              "      <td>0</td>\n",
              "      <td>0</td>\n",
              "      <td>0</td>\n",
              "      <td>0</td>\n",
              "      <td>1.000000</td>\n",
              "    </tr>\n",
              "    <tr>\n",
              "      <th>16548</th>\n",
              "      <td>200906230008</td>\n",
              "      <td>2009</td>\n",
              "      <td>6</td>\n",
              "      <td>23</td>\n",
              "      <td>0</td>\n",
              "      <td>92</td>\n",
              "      <td>India</td>\n",
              "      <td>6</td>\n",
              "      <td>South Asia</td>\n",
              "      <td>Orissa</td>\n",
              "      <td>...</td>\n",
              "      <td>3.0</td>\n",
              "      <td>Hostage(s) escaped (not during rescue attempt)</td>\n",
              "      <td>1.0</td>\n",
              "      <td>National Counterterrorism Center, \"Two Governm...</td>\n",
              "      <td>ISVG</td>\n",
              "      <td>0</td>\n",
              "      <td>0</td>\n",
              "      <td>0</td>\n",
              "      <td>0</td>\n",
              "      <td>1.000000</td>\n",
              "    </tr>\n",
              "    <tr>\n",
              "      <th>16558</th>\n",
              "      <td>201005240001</td>\n",
              "      <td>2010</td>\n",
              "      <td>5</td>\n",
              "      <td>24</td>\n",
              "      <td>0</td>\n",
              "      <td>160</td>\n",
              "      <td>Philippines</td>\n",
              "      <td>5</td>\n",
              "      <td>Southeast Asia</td>\n",
              "      <td>Davao Oriental</td>\n",
              "      <td>...</td>\n",
              "      <td>6.0</td>\n",
              "      <td>Combination</td>\n",
              "      <td>1.0</td>\n",
              "      <td>National Counterterrorism Center, \"Three Soldi...</td>\n",
              "      <td>ISVG</td>\n",
              "      <td>0</td>\n",
              "      <td>0</td>\n",
              "      <td>0</td>\n",
              "      <td>0</td>\n",
              "      <td>0.333333</td>\n",
              "    </tr>\n",
              "  </tbody>\n",
              "</table>\n",
              "<p>3137 rows × 67 columns</p>\n",
              "</div>\n",
              "      <button class=\"colab-df-convert\" onclick=\"convertToInteractive('df-14cd4aa8-7fc6-4041-8f93-5b8201a4b542')\"\n",
              "              title=\"Convert this dataframe to an interactive table.\"\n",
              "              style=\"display:none;\">\n",
              "        \n",
              "  <svg xmlns=\"http://www.w3.org/2000/svg\" height=\"24px\"viewBox=\"0 0 24 24\"\n",
              "       width=\"24px\">\n",
              "    <path d=\"M0 0h24v24H0V0z\" fill=\"none\"/>\n",
              "    <path d=\"M18.56 5.44l.94 2.06.94-2.06 2.06-.94-2.06-.94-.94-2.06-.94 2.06-2.06.94zm-11 1L8.5 8.5l.94-2.06 2.06-.94-2.06-.94L8.5 2.5l-.94 2.06-2.06.94zm10 10l.94 2.06.94-2.06 2.06-.94-2.06-.94-.94-2.06-.94 2.06-2.06.94z\"/><path d=\"M17.41 7.96l-1.37-1.37c-.4-.4-.92-.59-1.43-.59-.52 0-1.04.2-1.43.59L10.3 9.45l-7.72 7.72c-.78.78-.78 2.05 0 2.83L4 21.41c.39.39.9.59 1.41.59.51 0 1.02-.2 1.41-.59l7.78-7.78 2.81-2.81c.8-.78.8-2.07 0-2.86zM5.41 20L4 18.59l7.72-7.72 1.47 1.35L5.41 20z\"/>\n",
              "  </svg>\n",
              "      </button>\n",
              "      \n",
              "  <style>\n",
              "    .colab-df-container {\n",
              "      display:flex;\n",
              "      flex-wrap:wrap;\n",
              "      gap: 12px;\n",
              "    }\n",
              "\n",
              "    .colab-df-convert {\n",
              "      background-color: #E8F0FE;\n",
              "      border: none;\n",
              "      border-radius: 50%;\n",
              "      cursor: pointer;\n",
              "      display: none;\n",
              "      fill: #1967D2;\n",
              "      height: 32px;\n",
              "      padding: 0 0 0 0;\n",
              "      width: 32px;\n",
              "    }\n",
              "\n",
              "    .colab-df-convert:hover {\n",
              "      background-color: #E2EBFA;\n",
              "      box-shadow: 0px 1px 2px rgba(60, 64, 67, 0.3), 0px 1px 3px 1px rgba(60, 64, 67, 0.15);\n",
              "      fill: #174EA6;\n",
              "    }\n",
              "\n",
              "    [theme=dark] .colab-df-convert {\n",
              "      background-color: #3B4455;\n",
              "      fill: #D2E3FC;\n",
              "    }\n",
              "\n",
              "    [theme=dark] .colab-df-convert:hover {\n",
              "      background-color: #434B5C;\n",
              "      box-shadow: 0px 1px 3px 1px rgba(0, 0, 0, 0.15);\n",
              "      filter: drop-shadow(0px 1px 2px rgba(0, 0, 0, 0.3));\n",
              "      fill: #FFFFFF;\n",
              "    }\n",
              "  </style>\n",
              "\n",
              "      <script>\n",
              "        const buttonEl =\n",
              "          document.querySelector('#df-14cd4aa8-7fc6-4041-8f93-5b8201a4b542 button.colab-df-convert');\n",
              "        buttonEl.style.display =\n",
              "          google.colab.kernel.accessAllowed ? 'block' : 'none';\n",
              "\n",
              "        async function convertToInteractive(key) {\n",
              "          const element = document.querySelector('#df-14cd4aa8-7fc6-4041-8f93-5b8201a4b542');\n",
              "          const dataTable =\n",
              "            await google.colab.kernel.invokeFunction('convertToInteractive',\n",
              "                                                     [key], {});\n",
              "          if (!dataTable) return;\n",
              "\n",
              "          const docLinkHtml = 'Like what you see? Visit the ' +\n",
              "            '<a target=\"_blank\" href=https://colab.research.google.com/notebooks/data_table.ipynb>data table notebook</a>'\n",
              "            + ' to learn more about interactive tables.';\n",
              "          element.innerHTML = '';\n",
              "          dataTable['output_type'] = 'display_data';\n",
              "          await google.colab.output.renderOutput(dataTable, element);\n",
              "          const docLink = document.createElement('div');\n",
              "          docLink.innerHTML = docLinkHtml;\n",
              "          element.appendChild(docLink);\n",
              "        }\n",
              "      </script>\n",
              "    </div>\n",
              "  </div>\n",
              "  "
            ]
          },
          "metadata": {},
          "execution_count": 5
        }
      ]
    },
    {
      "cell_type": "code",
      "source": [
        "df[((df[\"extended\"]==1)&(df['ndays']<0))]"
      ],
      "metadata": {
        "colab": {
          "base_uri": "https://localhost:8080/",
          "height": 1000
        },
        "id": "JPHUhqy0AyJL",
        "outputId": "7a098d10-bed9-43db-a2f4-e98e4715f677"
      },
      "execution_count": 6,
      "outputs": [
        {
          "output_type": "execute_result",
          "data": {
            "text/plain": [
              "            eventid  iyear  imonth  iday  extended  country  \\\n",
              "1787   198601100011   1987       1    20         1      110   \n",
              "3932   199802040002   1998       2     4         1       42   \n",
              "3933   199802150018   1998       2    15         1      177   \n",
              "3934   199802200003   1998       2    20         1       74   \n",
              "3944   199806000000   1998       6     0         1       45   \n",
              "...             ...    ...     ...   ...       ...      ...   \n",
              "16555  201002190001   2010       2    19         1       41   \n",
              "16557  201005190003   2010       5    19         1       41   \n",
              "16559  201005270009   2010       5    27         1      104   \n",
              "16564  201011290018   2010      11    29         1      153   \n",
              "16568  201109270021   2011       9    27         1      209   \n",
              "\n",
              "                    country_txt  region                  region_txt  \\\n",
              "1787                    Lebanon      10  Middle East & North Africa   \n",
              "3932                       Chad      11          Sub-Saharan Africa   \n",
              "3933               Sierra Leone      11          Sub-Saharan Africa   \n",
              "3934                    Georgia       7                Central Asia   \n",
              "3944                   Colombia       3               South America   \n",
              "...                         ...     ...                         ...   \n",
              "16555  Central African Republic      11          Sub-Saharan Africa   \n",
              "16557  Central African Republic      11          Sub-Saharan Africa   \n",
              "16559                     Kenya      11          Sub-Saharan Africa   \n",
              "16564                  Pakistan       6                  South Asia   \n",
              "16568                    Turkey      10  Middle East & North Africa   \n",
              "\n",
              "                                 provstate  ... hostkidoutcome  \\\n",
              "1787                                Beirut  ...            2.0   \n",
              "3932                           Moyen-Chari  ...            2.0   \n",
              "3933                               Western  ...            2.0   \n",
              "3934                Samegrelo-Zemo Svaneti  ...            2.0   \n",
              "3944                               Unknown  ...            6.0   \n",
              "...                                    ...  ...            ...   \n",
              "16555                               Mbomou  ...            2.0   \n",
              "16557                          Haute-Kotto  ...            7.0   \n",
              "16559                        North Eastern  ...            7.0   \n",
              "16564  Federally Administered Tribal Areas  ...            7.0   \n",
              "16568                              Tunceli  ...            7.0   \n",
              "\n",
              "                        hostkidoutcome_txt  nreleased  \\\n",
              "1787   Hostage(s) released by perpetrators        1.0   \n",
              "3932   Hostage(s) released by perpetrators        4.0   \n",
              "3933   Hostage(s) released by perpetrators        5.0   \n",
              "3934   Hostage(s) released by perpetrators       10.0   \n",
              "3944                           Combination        1.0   \n",
              "...                                    ...        ...   \n",
              "16555  Hostage(s) released by perpetrators        2.0   \n",
              "16557                              Unknown        0.0   \n",
              "16559                              Unknown        0.0   \n",
              "16564                              Unknown        4.0   \n",
              "16568                              Unknown        0.0   \n",
              "\n",
              "                                                  scite1  \\\n",
              "1787   \"Waite expresses hope hostage crisis almost ov...   \n",
              "3932   “Four French Nationals Kidnapped in Chad,” Age...   \n",
              "3933   “Italian Friar, Four Others Kidnapped in Sierr...   \n",
              "3934   “Terrorists release all hostages in Georgia,” ...   \n",
              "3944   Edward F. Mickolus, Terrorism, 1996-2001: A Ch...   \n",
              "...                                                  ...   \n",
              "16555  Jane’s Intelligence, “LRA Militants Attack Cit...   \n",
              "16557  National Counterterrorism Center, \"Two Civilia...   \n",
              "16559  National Counterterrorism Center, \"Four Civili...   \n",
              "16564  News, \"Pakistan: Militants Set Three Trucks on...   \n",
              "16568  Today's Zaman, \"Suspected PKK Members Kidnap F...   \n",
              "\n",
              "                                       dbsource INT_LOG  INT_IDEO  INT_MISC  \\\n",
              "1787   UMD Encyclopedia of World Terrorism 2012       0         1         1   \n",
              "3932                                      CETIS       0         1         1   \n",
              "3933                                      CETIS      -9        -9         0   \n",
              "3934                                      CETIS       0         1         1   \n",
              "3944                                      CETIS       0         1         1   \n",
              "...                                         ...     ...       ...       ...   \n",
              "16555                                      ISVG       1         1         0   \n",
              "16557                                      ISVG       1         1         0   \n",
              "16559                                      ISVG       1         1         0   \n",
              "16564                                      ISVG      -9        -9         0   \n",
              "16568                                      ISVG       0         0         0   \n",
              "\n",
              "       INT_ANY  survived  \n",
              "1787         1      1.00  \n",
              "3932         1      1.00  \n",
              "3933        -9      1.00  \n",
              "3934         1      1.00  \n",
              "3944         1      0.50  \n",
              "...        ...       ...  \n",
              "16555        1      0.05  \n",
              "16557        1      0.00  \n",
              "16559        1      0.00  \n",
              "16564       -9      1.00  \n",
              "16568        0      0.00  \n",
              "\n",
              "[937 rows x 67 columns]"
            ],
            "text/html": [
              "\n",
              "  <div id=\"df-bfb24d3b-9917-4496-a9a4-c45a5bcd770d\">\n",
              "    <div class=\"colab-df-container\">\n",
              "      <div>\n",
              "<style scoped>\n",
              "    .dataframe tbody tr th:only-of-type {\n",
              "        vertical-align: middle;\n",
              "    }\n",
              "\n",
              "    .dataframe tbody tr th {\n",
              "        vertical-align: top;\n",
              "    }\n",
              "\n",
              "    .dataframe thead th {\n",
              "        text-align: right;\n",
              "    }\n",
              "</style>\n",
              "<table border=\"1\" class=\"dataframe\">\n",
              "  <thead>\n",
              "    <tr style=\"text-align: right;\">\n",
              "      <th></th>\n",
              "      <th>eventid</th>\n",
              "      <th>iyear</th>\n",
              "      <th>imonth</th>\n",
              "      <th>iday</th>\n",
              "      <th>extended</th>\n",
              "      <th>country</th>\n",
              "      <th>country_txt</th>\n",
              "      <th>region</th>\n",
              "      <th>region_txt</th>\n",
              "      <th>provstate</th>\n",
              "      <th>...</th>\n",
              "      <th>hostkidoutcome</th>\n",
              "      <th>hostkidoutcome_txt</th>\n",
              "      <th>nreleased</th>\n",
              "      <th>scite1</th>\n",
              "      <th>dbsource</th>\n",
              "      <th>INT_LOG</th>\n",
              "      <th>INT_IDEO</th>\n",
              "      <th>INT_MISC</th>\n",
              "      <th>INT_ANY</th>\n",
              "      <th>survived</th>\n",
              "    </tr>\n",
              "  </thead>\n",
              "  <tbody>\n",
              "    <tr>\n",
              "      <th>1787</th>\n",
              "      <td>198601100011</td>\n",
              "      <td>1987</td>\n",
              "      <td>1</td>\n",
              "      <td>20</td>\n",
              "      <td>1</td>\n",
              "      <td>110</td>\n",
              "      <td>Lebanon</td>\n",
              "      <td>10</td>\n",
              "      <td>Middle East &amp; North Africa</td>\n",
              "      <td>Beirut</td>\n",
              "      <td>...</td>\n",
              "      <td>2.0</td>\n",
              "      <td>Hostage(s) released by perpetrators</td>\n",
              "      <td>1.0</td>\n",
              "      <td>\"Waite expresses hope hostage crisis almost ov...</td>\n",
              "      <td>UMD Encyclopedia of World Terrorism 2012</td>\n",
              "      <td>0</td>\n",
              "      <td>1</td>\n",
              "      <td>1</td>\n",
              "      <td>1</td>\n",
              "      <td>1.00</td>\n",
              "    </tr>\n",
              "    <tr>\n",
              "      <th>3932</th>\n",
              "      <td>199802040002</td>\n",
              "      <td>1998</td>\n",
              "      <td>2</td>\n",
              "      <td>4</td>\n",
              "      <td>1</td>\n",
              "      <td>42</td>\n",
              "      <td>Chad</td>\n",
              "      <td>11</td>\n",
              "      <td>Sub-Saharan Africa</td>\n",
              "      <td>Moyen-Chari</td>\n",
              "      <td>...</td>\n",
              "      <td>2.0</td>\n",
              "      <td>Hostage(s) released by perpetrators</td>\n",
              "      <td>4.0</td>\n",
              "      <td>“Four French Nationals Kidnapped in Chad,” Age...</td>\n",
              "      <td>CETIS</td>\n",
              "      <td>0</td>\n",
              "      <td>1</td>\n",
              "      <td>1</td>\n",
              "      <td>1</td>\n",
              "      <td>1.00</td>\n",
              "    </tr>\n",
              "    <tr>\n",
              "      <th>3933</th>\n",
              "      <td>199802150018</td>\n",
              "      <td>1998</td>\n",
              "      <td>2</td>\n",
              "      <td>15</td>\n",
              "      <td>1</td>\n",
              "      <td>177</td>\n",
              "      <td>Sierra Leone</td>\n",
              "      <td>11</td>\n",
              "      <td>Sub-Saharan Africa</td>\n",
              "      <td>Western</td>\n",
              "      <td>...</td>\n",
              "      <td>2.0</td>\n",
              "      <td>Hostage(s) released by perpetrators</td>\n",
              "      <td>5.0</td>\n",
              "      <td>“Italian Friar, Four Others Kidnapped in Sierr...</td>\n",
              "      <td>CETIS</td>\n",
              "      <td>-9</td>\n",
              "      <td>-9</td>\n",
              "      <td>0</td>\n",
              "      <td>-9</td>\n",
              "      <td>1.00</td>\n",
              "    </tr>\n",
              "    <tr>\n",
              "      <th>3934</th>\n",
              "      <td>199802200003</td>\n",
              "      <td>1998</td>\n",
              "      <td>2</td>\n",
              "      <td>20</td>\n",
              "      <td>1</td>\n",
              "      <td>74</td>\n",
              "      <td>Georgia</td>\n",
              "      <td>7</td>\n",
              "      <td>Central Asia</td>\n",
              "      <td>Samegrelo-Zemo Svaneti</td>\n",
              "      <td>...</td>\n",
              "      <td>2.0</td>\n",
              "      <td>Hostage(s) released by perpetrators</td>\n",
              "      <td>10.0</td>\n",
              "      <td>“Terrorists release all hostages in Georgia,” ...</td>\n",
              "      <td>CETIS</td>\n",
              "      <td>0</td>\n",
              "      <td>1</td>\n",
              "      <td>1</td>\n",
              "      <td>1</td>\n",
              "      <td>1.00</td>\n",
              "    </tr>\n",
              "    <tr>\n",
              "      <th>3944</th>\n",
              "      <td>199806000000</td>\n",
              "      <td>1998</td>\n",
              "      <td>6</td>\n",
              "      <td>0</td>\n",
              "      <td>1</td>\n",
              "      <td>45</td>\n",
              "      <td>Colombia</td>\n",
              "      <td>3</td>\n",
              "      <td>South America</td>\n",
              "      <td>Unknown</td>\n",
              "      <td>...</td>\n",
              "      <td>6.0</td>\n",
              "      <td>Combination</td>\n",
              "      <td>1.0</td>\n",
              "      <td>Edward F. Mickolus, Terrorism, 1996-2001: A Ch...</td>\n",
              "      <td>CETIS</td>\n",
              "      <td>0</td>\n",
              "      <td>1</td>\n",
              "      <td>1</td>\n",
              "      <td>1</td>\n",
              "      <td>0.50</td>\n",
              "    </tr>\n",
              "    <tr>\n",
              "      <th>...</th>\n",
              "      <td>...</td>\n",
              "      <td>...</td>\n",
              "      <td>...</td>\n",
              "      <td>...</td>\n",
              "      <td>...</td>\n",
              "      <td>...</td>\n",
              "      <td>...</td>\n",
              "      <td>...</td>\n",
              "      <td>...</td>\n",
              "      <td>...</td>\n",
              "      <td>...</td>\n",
              "      <td>...</td>\n",
              "      <td>...</td>\n",
              "      <td>...</td>\n",
              "      <td>...</td>\n",
              "      <td>...</td>\n",
              "      <td>...</td>\n",
              "      <td>...</td>\n",
              "      <td>...</td>\n",
              "      <td>...</td>\n",
              "      <td>...</td>\n",
              "    </tr>\n",
              "    <tr>\n",
              "      <th>16555</th>\n",
              "      <td>201002190001</td>\n",
              "      <td>2010</td>\n",
              "      <td>2</td>\n",
              "      <td>19</td>\n",
              "      <td>1</td>\n",
              "      <td>41</td>\n",
              "      <td>Central African Republic</td>\n",
              "      <td>11</td>\n",
              "      <td>Sub-Saharan Africa</td>\n",
              "      <td>Mbomou</td>\n",
              "      <td>...</td>\n",
              "      <td>2.0</td>\n",
              "      <td>Hostage(s) released by perpetrators</td>\n",
              "      <td>2.0</td>\n",
              "      <td>Jane’s Intelligence, “LRA Militants Attack Cit...</td>\n",
              "      <td>ISVG</td>\n",
              "      <td>1</td>\n",
              "      <td>1</td>\n",
              "      <td>0</td>\n",
              "      <td>1</td>\n",
              "      <td>0.05</td>\n",
              "    </tr>\n",
              "    <tr>\n",
              "      <th>16557</th>\n",
              "      <td>201005190003</td>\n",
              "      <td>2010</td>\n",
              "      <td>5</td>\n",
              "      <td>19</td>\n",
              "      <td>1</td>\n",
              "      <td>41</td>\n",
              "      <td>Central African Republic</td>\n",
              "      <td>11</td>\n",
              "      <td>Sub-Saharan Africa</td>\n",
              "      <td>Haute-Kotto</td>\n",
              "      <td>...</td>\n",
              "      <td>7.0</td>\n",
              "      <td>Unknown</td>\n",
              "      <td>0.0</td>\n",
              "      <td>National Counterterrorism Center, \"Two Civilia...</td>\n",
              "      <td>ISVG</td>\n",
              "      <td>1</td>\n",
              "      <td>1</td>\n",
              "      <td>0</td>\n",
              "      <td>1</td>\n",
              "      <td>0.00</td>\n",
              "    </tr>\n",
              "    <tr>\n",
              "      <th>16559</th>\n",
              "      <td>201005270009</td>\n",
              "      <td>2010</td>\n",
              "      <td>5</td>\n",
              "      <td>27</td>\n",
              "      <td>1</td>\n",
              "      <td>104</td>\n",
              "      <td>Kenya</td>\n",
              "      <td>11</td>\n",
              "      <td>Sub-Saharan Africa</td>\n",
              "      <td>North Eastern</td>\n",
              "      <td>...</td>\n",
              "      <td>7.0</td>\n",
              "      <td>Unknown</td>\n",
              "      <td>0.0</td>\n",
              "      <td>National Counterterrorism Center, \"Four Civili...</td>\n",
              "      <td>ISVG</td>\n",
              "      <td>1</td>\n",
              "      <td>1</td>\n",
              "      <td>0</td>\n",
              "      <td>1</td>\n",
              "      <td>0.00</td>\n",
              "    </tr>\n",
              "    <tr>\n",
              "      <th>16564</th>\n",
              "      <td>201011290018</td>\n",
              "      <td>2010</td>\n",
              "      <td>11</td>\n",
              "      <td>29</td>\n",
              "      <td>1</td>\n",
              "      <td>153</td>\n",
              "      <td>Pakistan</td>\n",
              "      <td>6</td>\n",
              "      <td>South Asia</td>\n",
              "      <td>Federally Administered Tribal Areas</td>\n",
              "      <td>...</td>\n",
              "      <td>7.0</td>\n",
              "      <td>Unknown</td>\n",
              "      <td>4.0</td>\n",
              "      <td>News, \"Pakistan: Militants Set Three Trucks on...</td>\n",
              "      <td>ISVG</td>\n",
              "      <td>-9</td>\n",
              "      <td>-9</td>\n",
              "      <td>0</td>\n",
              "      <td>-9</td>\n",
              "      <td>1.00</td>\n",
              "    </tr>\n",
              "    <tr>\n",
              "      <th>16568</th>\n",
              "      <td>201109270021</td>\n",
              "      <td>2011</td>\n",
              "      <td>9</td>\n",
              "      <td>27</td>\n",
              "      <td>1</td>\n",
              "      <td>209</td>\n",
              "      <td>Turkey</td>\n",
              "      <td>10</td>\n",
              "      <td>Middle East &amp; North Africa</td>\n",
              "      <td>Tunceli</td>\n",
              "      <td>...</td>\n",
              "      <td>7.0</td>\n",
              "      <td>Unknown</td>\n",
              "      <td>0.0</td>\n",
              "      <td>Today's Zaman, \"Suspected PKK Members Kidnap F...</td>\n",
              "      <td>ISVG</td>\n",
              "      <td>0</td>\n",
              "      <td>0</td>\n",
              "      <td>0</td>\n",
              "      <td>0</td>\n",
              "      <td>0.00</td>\n",
              "    </tr>\n",
              "  </tbody>\n",
              "</table>\n",
              "<p>937 rows × 67 columns</p>\n",
              "</div>\n",
              "      <button class=\"colab-df-convert\" onclick=\"convertToInteractive('df-bfb24d3b-9917-4496-a9a4-c45a5bcd770d')\"\n",
              "              title=\"Convert this dataframe to an interactive table.\"\n",
              "              style=\"display:none;\">\n",
              "        \n",
              "  <svg xmlns=\"http://www.w3.org/2000/svg\" height=\"24px\"viewBox=\"0 0 24 24\"\n",
              "       width=\"24px\">\n",
              "    <path d=\"M0 0h24v24H0V0z\" fill=\"none\"/>\n",
              "    <path d=\"M18.56 5.44l.94 2.06.94-2.06 2.06-.94-2.06-.94-.94-2.06-.94 2.06-2.06.94zm-11 1L8.5 8.5l.94-2.06 2.06-.94-2.06-.94L8.5 2.5l-.94 2.06-2.06.94zm10 10l.94 2.06.94-2.06 2.06-.94-2.06-.94-.94-2.06-.94 2.06-2.06.94z\"/><path d=\"M17.41 7.96l-1.37-1.37c-.4-.4-.92-.59-1.43-.59-.52 0-1.04.2-1.43.59L10.3 9.45l-7.72 7.72c-.78.78-.78 2.05 0 2.83L4 21.41c.39.39.9.59 1.41.59.51 0 1.02-.2 1.41-.59l7.78-7.78 2.81-2.81c.8-.78.8-2.07 0-2.86zM5.41 20L4 18.59l7.72-7.72 1.47 1.35L5.41 20z\"/>\n",
              "  </svg>\n",
              "      </button>\n",
              "      \n",
              "  <style>\n",
              "    .colab-df-container {\n",
              "      display:flex;\n",
              "      flex-wrap:wrap;\n",
              "      gap: 12px;\n",
              "    }\n",
              "\n",
              "    .colab-df-convert {\n",
              "      background-color: #E8F0FE;\n",
              "      border: none;\n",
              "      border-radius: 50%;\n",
              "      cursor: pointer;\n",
              "      display: none;\n",
              "      fill: #1967D2;\n",
              "      height: 32px;\n",
              "      padding: 0 0 0 0;\n",
              "      width: 32px;\n",
              "    }\n",
              "\n",
              "    .colab-df-convert:hover {\n",
              "      background-color: #E2EBFA;\n",
              "      box-shadow: 0px 1px 2px rgba(60, 64, 67, 0.3), 0px 1px 3px 1px rgba(60, 64, 67, 0.15);\n",
              "      fill: #174EA6;\n",
              "    }\n",
              "\n",
              "    [theme=dark] .colab-df-convert {\n",
              "      background-color: #3B4455;\n",
              "      fill: #D2E3FC;\n",
              "    }\n",
              "\n",
              "    [theme=dark] .colab-df-convert:hover {\n",
              "      background-color: #434B5C;\n",
              "      box-shadow: 0px 1px 3px 1px rgba(0, 0, 0, 0.15);\n",
              "      filter: drop-shadow(0px 1px 2px rgba(0, 0, 0, 0.3));\n",
              "      fill: #FFFFFF;\n",
              "    }\n",
              "  </style>\n",
              "\n",
              "      <script>\n",
              "        const buttonEl =\n",
              "          document.querySelector('#df-bfb24d3b-9917-4496-a9a4-c45a5bcd770d button.colab-df-convert');\n",
              "        buttonEl.style.display =\n",
              "          google.colab.kernel.accessAllowed ? 'block' : 'none';\n",
              "\n",
              "        async function convertToInteractive(key) {\n",
              "          const element = document.querySelector('#df-bfb24d3b-9917-4496-a9a4-c45a5bcd770d');\n",
              "          const dataTable =\n",
              "            await google.colab.kernel.invokeFunction('convertToInteractive',\n",
              "                                                     [key], {});\n",
              "          if (!dataTable) return;\n",
              "\n",
              "          const docLinkHtml = 'Like what you see? Visit the ' +\n",
              "            '<a target=\"_blank\" href=https://colab.research.google.com/notebooks/data_table.ipynb>data table notebook</a>'\n",
              "            + ' to learn more about interactive tables.';\n",
              "          element.innerHTML = '';\n",
              "          dataTable['output_type'] = 'display_data';\n",
              "          await google.colab.output.renderOutput(dataTable, element);\n",
              "          const docLink = document.createElement('div');\n",
              "          docLink.innerHTML = docLinkHtml;\n",
              "          element.appendChild(docLink);\n",
              "        }\n",
              "      </script>\n",
              "    </div>\n",
              "  </div>\n",
              "  "
            ]
          },
          "metadata": {},
          "execution_count": 6
        }
      ]
    },
    {
      "cell_type": "markdown",
      "source": [
        "sok olyan eset van, ahol az ndays nem mond semmit, mivel nem tartott 1 napnál tovább a támadás, illetve az extended=1 esetben is számottevő azon esetek száma, ahol nem ismert az ndays értéke --> kihagyjuk a magyarázó változók közül"
      ],
      "metadata": {
        "id": "gO0TgbL9CXSb"
      }
    },
    {
      "cell_type": "code",
      "source": [
        "df.groupby(by=df[\"nperps\"]).count()[\"eventid\"]"
      ],
      "metadata": {
        "colab": {
          "base_uri": "https://localhost:8080/"
        },
        "id": "Owt5MNxGCx6i",
        "outputId": "0d0eae5d-a12d-426f-cbd5-c76348825afd"
      },
      "execution_count": 7,
      "outputs": [
        {
          "output_type": "execute_result",
          "data": {
            "text/plain": [
              "nperps\n",
              "-99.0      5055\n",
              " 0.0          7\n",
              " 1.0         90\n",
              " 2.0        165\n",
              " 3.0        211\n",
              " 4.0        246\n",
              " 5.0        178\n",
              " 6.0        121\n",
              " 7.0         60\n",
              " 8.0         55\n",
              " 9.0         23\n",
              " 10.0        94\n",
              " 11.0        15\n",
              " 12.0        42\n",
              " 13.0         4\n",
              " 14.0         6\n",
              " 15.0        74\n",
              " 16.0         2\n",
              " 17.0         2\n",
              " 19.0         2\n",
              " 20.0        85\n",
              " 21.0         3\n",
              " 22.0         2\n",
              " 23.0         1\n",
              " 24.0        13\n",
              " 25.0        23\n",
              " 26.0         1\n",
              " 30.0        84\n",
              " 35.0         2\n",
              " 36.0         5\n",
              " 40.0        28\n",
              " 41.0         1\n",
              " 50.0        46\n",
              " 51.0         1\n",
              " 60.0        11\n",
              " 70.0         4\n",
              " 80.0         5\n",
              " 100.0       38\n",
              " 101.0        3\n",
              " 130.0        2\n",
              " 140.0        1\n",
              " 150.0        5\n",
              " 156.0        1\n",
              " 200.0       19\n",
              " 250.0        1\n",
              " 300.0        8\n",
              " 400.0        3\n",
              " 600.0        1\n",
              " 700.0        4\n",
              " 1000.0       1\n",
              "Name: eventid, dtype: int64"
            ]
          },
          "metadata": {},
          "execution_count": 7
        }
      ]
    },
    {
      "cell_type": "markdown",
      "source": [
        "nperps változóból szintén az esetek több, mint felében nem ismert valójában az érték (-99) --> kihagyjuk a magyarázó változók közül"
      ],
      "metadata": {
        "id": "ojeSuhW9DFN4"
      }
    },
    {
      "cell_type": "markdown",
      "source": [
        "## Modellezéshez használt adathalmaz(ok) kialakítása:"
      ],
      "metadata": {
        "id": "oSoJQahgWK3D"
      }
    },
    {
      "cell_type": "markdown",
      "source": [
        "2 adathalmaz (magyarázó változók halmaza):\n",
        "\n",
        "\n",
        "*   EDA alapján fontosnak tűnő változók, az előbbiekben elvégzett szűréssel (nperps, ndays kihagyása) --> továbbiakban \"**szűkített adathalmaz**\"\n",
        "*   összes olyan változó, amely kevés (legfeljebb 10-20) hiányzó értéket tartalmaz --- hiányzó értéknek számítanak azok is, amik nem NaN értékek, de a jelentésük valójában az, hogy nem ismert az adott információ (pl.: -99-es érték) --> továbbiakban \"**bővített adathalmaz**\"\n",
        "\n"
      ],
      "metadata": {
        "id": "lSZrF8LPcE8c"
      }
    },
    {
      "cell_type": "code",
      "source": [
        "cols_to_model = ['iyear', 'extended', 'country', 'region', 'targtype1', 'gname', 'weaptype1', 'survived']\n",
        "df_model = df[cols_to_model]"
      ],
      "metadata": {
        "id": "PqNXqWWX9eNf"
      },
      "execution_count": 8,
      "outputs": []
    },
    {
      "cell_type": "code",
      "source": [
        "cols_to_model_extended = ['iyear', 'imonth', 'iday', 'extended', 'country', 'region', 'provstate', 'specificity', 'vicinity', 'crit1', 'crit2', 'crit3', 'multiple', 'suicide', 'attacktype1', 'targtype1', 'target1', 'natlty1', 'gname', 'individual', 'weaptype1', 'INT_MISC', 'survived']\n",
        "df_model_extended = df[cols_to_model_extended]"
      ],
      "metadata": {
        "id": "2shZnFfJODvK"
      },
      "execution_count": 9,
      "outputs": []
    },
    {
      "cell_type": "code",
      "source": [
        "df_model.info()"
      ],
      "metadata": {
        "colab": {
          "base_uri": "https://localhost:8080/"
        },
        "id": "-ruDi5qeDP-n",
        "outputId": "236f59e9-23bd-4379-ff7a-2312a97c1d4b"
      },
      "execution_count": 10,
      "outputs": [
        {
          "output_type": "stream",
          "name": "stdout",
          "text": [
            "<class 'pandas.core.frame.DataFrame'>\n",
            "Int64Index: 8071 entries, 2 to 16568\n",
            "Data columns (total 8 columns):\n",
            " #   Column     Non-Null Count  Dtype  \n",
            "---  ------     --------------  -----  \n",
            " 0   iyear      8071 non-null   int64  \n",
            " 1   extended   8071 non-null   int64  \n",
            " 2   country    8071 non-null   int64  \n",
            " 3   region     8071 non-null   int64  \n",
            " 4   targtype1  8071 non-null   int64  \n",
            " 5   gname      8071 non-null   object \n",
            " 6   weaptype1  8071 non-null   int64  \n",
            " 7   survived   8071 non-null   float64\n",
            "dtypes: float64(1), int64(6), object(1)\n",
            "memory usage: 567.5+ KB\n"
          ]
        }
      ]
    },
    {
      "cell_type": "code",
      "source": [
        "## szöveges változó kódolása\n",
        "df_model['gname'] = pd.factorize(df_model['gname'])[0]"
      ],
      "metadata": {
        "colab": {
          "base_uri": "https://localhost:8080/"
        },
        "id": "siS119lADcr_",
        "outputId": "8fb3c382-2842-4625-e04a-7be69fe29937"
      },
      "execution_count": 11,
      "outputs": [
        {
          "output_type": "stream",
          "name": "stderr",
          "text": [
            "<ipython-input-11-305e3422c979>:2: SettingWithCopyWarning: \n",
            "A value is trying to be set on a copy of a slice from a DataFrame.\n",
            "Try using .loc[row_indexer,col_indexer] = value instead\n",
            "\n",
            "See the caveats in the documentation: https://pandas.pydata.org/pandas-docs/stable/user_guide/indexing.html#returning-a-view-versus-a-copy\n",
            "  df_model['gname'] = pd.factorize(df_model['gname'])[0]\n"
          ]
        }
      ]
    },
    {
      "cell_type": "code",
      "source": [
        "df_model.info()"
      ],
      "metadata": {
        "colab": {
          "base_uri": "https://localhost:8080/"
        },
        "id": "IuDuY5EuEKQD",
        "outputId": "d55d962e-7c1e-4d77-e77b-c1a08fcb96ba"
      },
      "execution_count": 12,
      "outputs": [
        {
          "output_type": "stream",
          "name": "stdout",
          "text": [
            "<class 'pandas.core.frame.DataFrame'>\n",
            "Int64Index: 8071 entries, 2 to 16568\n",
            "Data columns (total 8 columns):\n",
            " #   Column     Non-Null Count  Dtype  \n",
            "---  ------     --------------  -----  \n",
            " 0   iyear      8071 non-null   int64  \n",
            " 1   extended   8071 non-null   int64  \n",
            " 2   country    8071 non-null   int64  \n",
            " 3   region     8071 non-null   int64  \n",
            " 4   targtype1  8071 non-null   int64  \n",
            " 5   gname      8071 non-null   int64  \n",
            " 6   weaptype1  8071 non-null   int64  \n",
            " 7   survived   8071 non-null   float64\n",
            "dtypes: float64(1), int64(7)\n",
            "memory usage: 567.5 KB\n"
          ]
        }
      ]
    },
    {
      "cell_type": "code",
      "source": [
        "df_model_extended.info()"
      ],
      "metadata": {
        "colab": {
          "base_uri": "https://localhost:8080/"
        },
        "id": "Y_R_xQKtQFEq",
        "outputId": "5341c3dd-cbe4-453f-b5aa-112baf50b9ca"
      },
      "execution_count": 13,
      "outputs": [
        {
          "output_type": "stream",
          "name": "stdout",
          "text": [
            "<class 'pandas.core.frame.DataFrame'>\n",
            "Int64Index: 8071 entries, 2 to 16568\n",
            "Data columns (total 23 columns):\n",
            " #   Column       Non-Null Count  Dtype  \n",
            "---  ------       --------------  -----  \n",
            " 0   iyear        8071 non-null   int64  \n",
            " 1   imonth       8071 non-null   int64  \n",
            " 2   iday         8071 non-null   int64  \n",
            " 3   extended     8071 non-null   int64  \n",
            " 4   country      8071 non-null   int64  \n",
            " 5   region       8071 non-null   int64  \n",
            " 6   provstate    8071 non-null   object \n",
            " 7   specificity  8071 non-null   float64\n",
            " 8   vicinity     8071 non-null   int64  \n",
            " 9   crit1        8071 non-null   int64  \n",
            " 10  crit2        8071 non-null   int64  \n",
            " 11  crit3        8071 non-null   int64  \n",
            " 12  multiple     8070 non-null   float64\n",
            " 13  suicide      8071 non-null   int64  \n",
            " 14  attacktype1  8071 non-null   int64  \n",
            " 15  targtype1    8071 non-null   int64  \n",
            " 16  target1      8055 non-null   object \n",
            " 17  natlty1      8052 non-null   float64\n",
            " 18  gname        8071 non-null   object \n",
            " 19  individual   8071 non-null   int64  \n",
            " 20  weaptype1    8071 non-null   int64  \n",
            " 21  INT_MISC     8071 non-null   int64  \n",
            " 22  survived     8071 non-null   float64\n",
            "dtypes: float64(4), int64(16), object(3)\n",
            "memory usage: 1.5+ MB\n"
          ]
        }
      ]
    },
    {
      "cell_type": "code",
      "source": [
        "## hiányzó értékeket tartalmazó sorok elhagyása\n",
        "df_model_extended=df_model_extended.dropna(axis=0)\n",
        "df_model_extended.info()"
      ],
      "metadata": {
        "colab": {
          "base_uri": "https://localhost:8080/"
        },
        "id": "l2hV_2iOQktC",
        "outputId": "6eed921b-64a0-4caa-cb25-c37104100bf7"
      },
      "execution_count": 14,
      "outputs": [
        {
          "output_type": "stream",
          "name": "stdout",
          "text": [
            "<class 'pandas.core.frame.DataFrame'>\n",
            "Int64Index: 8035 entries, 2 to 16568\n",
            "Data columns (total 23 columns):\n",
            " #   Column       Non-Null Count  Dtype  \n",
            "---  ------       --------------  -----  \n",
            " 0   iyear        8035 non-null   int64  \n",
            " 1   imonth       8035 non-null   int64  \n",
            " 2   iday         8035 non-null   int64  \n",
            " 3   extended     8035 non-null   int64  \n",
            " 4   country      8035 non-null   int64  \n",
            " 5   region       8035 non-null   int64  \n",
            " 6   provstate    8035 non-null   object \n",
            " 7   specificity  8035 non-null   float64\n",
            " 8   vicinity     8035 non-null   int64  \n",
            " 9   crit1        8035 non-null   int64  \n",
            " 10  crit2        8035 non-null   int64  \n",
            " 11  crit3        8035 non-null   int64  \n",
            " 12  multiple     8035 non-null   float64\n",
            " 13  suicide      8035 non-null   int64  \n",
            " 14  attacktype1  8035 non-null   int64  \n",
            " 15  targtype1    8035 non-null   int64  \n",
            " 16  target1      8035 non-null   object \n",
            " 17  natlty1      8035 non-null   float64\n",
            " 18  gname        8035 non-null   object \n",
            " 19  individual   8035 non-null   int64  \n",
            " 20  weaptype1    8035 non-null   int64  \n",
            " 21  INT_MISC     8035 non-null   int64  \n",
            " 22  survived     8035 non-null   float64\n",
            "dtypes: float64(4), int64(16), object(3)\n",
            "memory usage: 1.5+ MB\n"
          ]
        }
      ]
    },
    {
      "cell_type": "code",
      "source": [
        "## szöveges változók kódolása\n",
        "df_model_extended['provstate'], label_provstate = pd.factorize(df_model_extended['provstate'])\n",
        "df_model_extended['gname'], label_gname = pd.factorize(df_model_extended['gname'])\n",
        "df_model_extended['target1'], label_target1 = pd.factorize(df_model_extended['target1'])"
      ],
      "metadata": {
        "id": "qnhyLif0QNWq"
      },
      "execution_count": 15,
      "outputs": []
    },
    {
      "cell_type": "code",
      "source": [
        "df_model_extended.info()"
      ],
      "metadata": {
        "colab": {
          "base_uri": "https://localhost:8080/"
        },
        "id": "9PIDVZcVRA-9",
        "outputId": "7802dc4e-81fe-4224-c4c1-57cd5ccf69f9"
      },
      "execution_count": 16,
      "outputs": [
        {
          "output_type": "stream",
          "name": "stdout",
          "text": [
            "<class 'pandas.core.frame.DataFrame'>\n",
            "Int64Index: 8035 entries, 2 to 16568\n",
            "Data columns (total 23 columns):\n",
            " #   Column       Non-Null Count  Dtype  \n",
            "---  ------       --------------  -----  \n",
            " 0   iyear        8035 non-null   int64  \n",
            " 1   imonth       8035 non-null   int64  \n",
            " 2   iday         8035 non-null   int64  \n",
            " 3   extended     8035 non-null   int64  \n",
            " 4   country      8035 non-null   int64  \n",
            " 5   region       8035 non-null   int64  \n",
            " 6   provstate    8035 non-null   int64  \n",
            " 7   specificity  8035 non-null   float64\n",
            " 8   vicinity     8035 non-null   int64  \n",
            " 9   crit1        8035 non-null   int64  \n",
            " 10  crit2        8035 non-null   int64  \n",
            " 11  crit3        8035 non-null   int64  \n",
            " 12  multiple     8035 non-null   float64\n",
            " 13  suicide      8035 non-null   int64  \n",
            " 14  attacktype1  8035 non-null   int64  \n",
            " 15  targtype1    8035 non-null   int64  \n",
            " 16  target1      8035 non-null   int64  \n",
            " 17  natlty1      8035 non-null   float64\n",
            " 18  gname        8035 non-null   int64  \n",
            " 19  individual   8035 non-null   int64  \n",
            " 20  weaptype1    8035 non-null   int64  \n",
            " 21  INT_MISC     8035 non-null   int64  \n",
            " 22  survived     8035 non-null   float64\n",
            "dtypes: float64(4), int64(19)\n",
            "memory usage: 1.5 MB\n"
          ]
        }
      ]
    },
    {
      "cell_type": "code",
      "source": [
        "## túlélési arány a szűkített adathalmazban (kicsit több esetet tartalmaz, mint a bővített)\n",
        "plt.hist(df_model[\"survived\"])\n",
        "plt.title(\"Túlélési arány (\\\"survived\\\") eloszlása a szűkített adathalmazban\")\n",
        "plt.xlabel(\"survived\")\n",
        "plt.ylabel(\"db\")"
      ],
      "metadata": {
        "colab": {
          "base_uri": "https://localhost:8080/",
          "height": 312
        },
        "id": "3Aqqic47Eux0",
        "outputId": "999fbdfd-add7-4bdd-f0e0-f9b348b38f5d"
      },
      "execution_count": 18,
      "outputs": [
        {
          "output_type": "execute_result",
          "data": {
            "text/plain": [
              "Text(0, 0.5, 'db')"
            ]
          },
          "metadata": {},
          "execution_count": 18
        },
        {
          "output_type": "display_data",
          "data": {
            "text/plain": [
              "<Figure size 432x288 with 1 Axes>"
            ],
            "image/png": "[encoded data removed]"
          },
          "metadata": {
            "needs_background": "light"
          }
        }
      ]
    },
    {
      "cell_type": "code",
      "source": [
        "## túlélési arány a bővített adathalmazban (kicsit kevesebb esetet tartalmaz, mint a szűkített, itt ugyanis néhány eset a hiányzó értékek miatt eldobásra került)\n",
        "plt.hist(df_model_extended[\"survived\"])\n",
        "plt.title(\"Túlélési arány (\\\"survived\\\") eloszlása a bővített adathalmazban\")\n",
        "plt.xlabel(\"survived\")\n",
        "plt.ylabel(\"db\")"
      ],
      "metadata": {
        "colab": {
          "base_uri": "https://localhost:8080/",
          "height": 312
        },
        "id": "WKX0bIMlQNEe",
        "outputId": "4270bac6-148d-4568-aa54-b357c562c8d0"
      },
      "execution_count": 20,
      "outputs": [
        {
          "output_type": "execute_result",
          "data": {
            "text/plain": [
              "Text(0, 0.5, 'db')"
            ]
          },
          "metadata": {},
          "execution_count": 20
        },
        {
          "output_type": "display_data",
          "data": {
            "text/plain": [
              "<Figure size 432x288 with 1 Axes>"
            ],
            "image/png": "[encoded data removed]"
          },
          "metadata": {
            "needs_background": "light"
          }
        }
      ]
    },
    {
      "cell_type": "markdown",
      "source": [
        "túlélési arány (\"survived\") alapján a következő értelmes osztályok lehetnek: \n",
        "\n",
        "*   0.5-nél elvágva az adathalmazt\n",
        "*   mindenki megmenekült (=1) vs van aki nem (!=1)\n",
        "\n",
        "\n",
        "\n"
      ],
      "metadata": {
        "id": "MYW2Hc7eJD7y"
      }
    },
    {
      "cell_type": "code",
      "source": [
        "## célváltozók kialakítása\n",
        "df_model['class1'] = np.where(df_model['survived']==1, 1, 0)\n",
        "df_model['class2'] = np.where(df_model['survived']>0.5, 1, 0)"
      ],
      "metadata": {
        "id": "X6HCWCiTWF-T",
        "colab": {
          "base_uri": "https://localhost:8080/"
        },
        "outputId": "bd62dc9b-fb27-4fc6-d9f1-7c395169f567"
      },
      "execution_count": 21,
      "outputs": [
        {
          "output_type": "stream",
          "name": "stderr",
          "text": [
            "<ipython-input-21-254c1fd063aa>:2: SettingWithCopyWarning: \n",
            "A value is trying to be set on a copy of a slice from a DataFrame.\n",
            "Try using .loc[row_indexer,col_indexer] = value instead\n",
            "\n",
            "See the caveats in the documentation: https://pandas.pydata.org/pandas-docs/stable/user_guide/indexing.html#returning-a-view-versus-a-copy\n",
            "  df_model['class1'] = np.where(df_model['survived']==1, 1, 0)\n",
            "<ipython-input-21-254c1fd063aa>:3: SettingWithCopyWarning: \n",
            "A value is trying to be set on a copy of a slice from a DataFrame.\n",
            "Try using .loc[row_indexer,col_indexer] = value instead\n",
            "\n",
            "See the caveats in the documentation: https://pandas.pydata.org/pandas-docs/stable/user_guide/indexing.html#returning-a-view-versus-a-copy\n",
            "  df_model['class2'] = np.where(df_model['survived']>0.5, 1, 0)\n"
          ]
        }
      ]
    },
    {
      "cell_type": "code",
      "source": [
        "## célváltozók kialakítása\n",
        "df_model_extended['class1'] = np.where(df_model_extended['survived']==1, 1, 0)\n",
        "df_model_extended['class2'] = np.where(df_model_extended['survived']>0.5, 1, 0)"
      ],
      "metadata": {
        "id": "ojQ-1bI6RMCY"
      },
      "execution_count": 22,
      "outputs": []
    },
    {
      "cell_type": "markdown",
      "source": [
        "Mindkét osztályozással elvégeztük a modellezést, nagyon hasonló teljesítményt lehetett elérni mindkét verziónál. A továbbiakban a 0.5-nél való vágás szerinti osztályozás részletei és eredményei láthatók."
      ],
      "metadata": {
        "id": "HYSTGrkee5zK"
      }
    },
    {
      "cell_type": "markdown",
      "source": [
        "# Modellezés Spark-ban:"
      ],
      "metadata": {
        "id": "POpVwJ948KOo"
      }
    },
    {
      "cell_type": "code",
      "source": [
        "pip install pyspark"
      ],
      "metadata": {
        "id": "kgHI_6q5V7E5",
        "colab": {
          "base_uri": "https://localhost:8080/"
        },
        "outputId": "2ff69d7d-8d0d-412e-c5e9-7bd5e40a1b85"
      },
      "execution_count": 23,
      "outputs": [
        {
          "output_type": "stream",
          "name": "stdout",
          "text": [
            "Looking in indexes: https://pypi.org/simple, https://us-python.pkg.dev/colab-wheels/public/simple/\n",
            "Collecting pyspark\n",
            "  Downloading pyspark-3.3.1.tar.gz (281.4 MB)\n",
            "\u001b[K     |████████████████████████████████| 281.4 MB 43 kB/s \n",
            "\u001b[?25hCollecting py4j==0.10.9.5\n",
            "  Downloading py4j-0.10.9.5-py2.py3-none-any.whl (199 kB)\n",
            "\u001b[K     |████████████████████████████████| 199 kB 60.2 MB/s \n",
            "\u001b[?25hBuilding wheels for collected packages: pyspark\n",
            "  Building wheel for pyspark (setup.py) ... \u001b[?25l\u001b[?25hdone\n",
            "  Created wheel for pyspark: filename=pyspark-3.3.1-py2.py3-none-any.whl size=281845512 sha256=ed7efdd87f7e3cd57f347397df84fe799eb0f71e16d2694b1426555d76bd8470\n",
            "  Stored in directory: /root/.cache/pip/wheels/43/dc/11/ec201cd671da62fa9c5cc77078235e40722170ceba231d7598\n",
            "Successfully built pyspark\n",
            "Installing collected packages: py4j, pyspark\n",
            "Successfully installed py4j-0.10.9.5 pyspark-3.3.1\n"
          ]
        }
      ]
    },
    {
      "cell_type": "code",
      "source": [
        "import pyspark\n",
        "import pyarrow\n",
        "from pyspark.sql import *\n",
        "from pyspark.sql.types import *\n",
        "from pyspark.sql import functions as F\n",
        "from pyspark.sql import SparkSession\n",
        "from pyspark.ml.feature import VectorAssembler, StringIndexer\n",
        "from pyspark.ml import Pipeline\n",
        "from pyspark.ml.classification import GBTClassifier\n",
        "import pyspark.ml.evaluation as evals\n",
        "import pyspark.ml.tuning as tune\n",
        "from pyspark.ml.evaluation import BinaryClassificationEvaluator\n",
        "from pyspark.ml.classification import LogisticRegression\n",
        "from pyspark.ml.classification import DecisionTreeClassifier"
      ],
      "metadata": {
        "id": "DmEh66IPV2Ji"
      },
      "execution_count": 24,
      "outputs": []
    },
    {
      "cell_type": "code",
      "source": [
        "## spark session létrehozása\n",
        "spark = SparkSession.builder.getOrCreate()\n",
        "spark"
      ],
      "metadata": {
        "id": "QvstyxNaVQbH",
        "colab": {
          "base_uri": "https://localhost:8080/",
          "height": 219
        },
        "outputId": "d3c350ad-cd60-4388-f577-053632e13211"
      },
      "execution_count": 25,
      "outputs": [
        {
          "output_type": "execute_result",
          "data": {
            "text/plain": [
              "<pyspark.sql.session.SparkSession at 0x7f95383db370>"
            ],
            "text/html": [
              "\n",
              "            <div>\n",
              "                <p><b>SparkSession - in-memory</b></p>\n",
              "                \n",
              "        <div>\n",
              "            <p><b>SparkContext</b></p>\n",
              "\n",
              "            <p><a href=\"http://f0f811303cee:4040\">Spark UI</a></p>\n",
              "\n",
              "            <dl>\n",
              "              <dt>Version</dt>\n",
              "                <dd><code>v3.3.1</code></dd>\n",
              "              <dt>Master</dt>\n",
              "                <dd><code>local[*]</code></dd>\n",
              "              <dt>AppName</dt>\n",
              "                <dd><code>pyspark-shell</code></dd>\n",
              "            </dl>\n",
              "        </div>\n",
              "        \n",
              "            </div>\n",
              "        "
            ]
          },
          "metadata": {},
          "execution_count": 25
        }
      ]
    },
    {
      "cell_type": "code",
      "source": [
        "## spark dataframe-ek létrehozása a pandas dataframe-ekből\n",
        "\n",
        "new_df = spark.createDataFrame(df_model)\n",
        "\n",
        "new_df_ext = spark.createDataFrame(df_model_extended)"
      ],
      "metadata": {
        "id": "1vnAg4BxWI1U"
      },
      "execution_count": 26,
      "outputs": []
    },
    {
      "cell_type": "code",
      "source": [
        "## magyarázó változók halmazainak létrehozása\n",
        "\n",
        "feature_cols=new_df.columns\n",
        "feature_cols = [e for e in feature_cols if e not in (\"survived\",\"class1\", \"class2\")]\n",
        "\n",
        "feature_cols_ext=new_df_ext.columns\n",
        "feature_cols_ext = [e for e in feature_cols_ext if e not in (\"survived\",\"class1\", \"class2\")]"
      ],
      "metadata": {
        "id": "0qrJKm-OWLfo"
      },
      "execution_count": 27,
      "outputs": []
    },
    {
      "cell_type": "code",
      "source": [
        "## magyarázó változók \"vektorosítása\" -- vector assembler\n",
        "## egyéb transzformációra nem volt már itt szükség, ugyanis a szöveges változók kódolása már korábban megtörtént\n",
        "\n",
        "## szűkített halmazon\n",
        "vec_assembler = VectorAssembler(inputCols=feature_cols, outputCol=\"features\")\n",
        "credit_pipe = Pipeline(stages=[vec_assembler])\n",
        "piped_data = credit_pipe.fit(new_df).transform(new_df)\n",
        "\n",
        "## bővített halmazon\n",
        "vec_assembler_ext = VectorAssembler(inputCols=feature_cols_ext, outputCol=\"features_ext\")\n",
        "credit_pipe_ext = Pipeline(stages=[vec_assembler_ext])\n",
        "piped_data_ext = credit_pipe_ext.fit(new_df_ext).transform(new_df_ext)"
      ],
      "metadata": {
        "id": "JjSOpxiDWNtF"
      },
      "execution_count": 28,
      "outputs": []
    },
    {
      "cell_type": "code",
      "source": [
        "## tanító és teszt halmazok kialakítása 70/30 arányban történő felosztással\n",
        "\n",
        "training, test = piped_data.randomSplit([.7, .3])\n",
        "\n",
        "training_ext, test_ext = piped_data_ext.randomSplit([.7, .3])"
      ],
      "metadata": {
        "id": "lYIqo8uzWQKv"
      },
      "execution_count": 29,
      "outputs": []
    },
    {
      "cell_type": "markdown",
      "source": [
        "### Döntési fa modell:"
      ],
      "metadata": {
        "id": "iPufXgqYbGjw"
      }
    },
    {
      "cell_type": "code",
      "source": [
        "## döntési fa modell építése 5-szörös keresztvalidációval, AUC alapján történő kiértékeléssel\n",
        "## hiperparamétereket az alapbeállításokkal használjuk itt, ezért \"üres\" a grid search buildere\n",
        "\n",
        "## szűkített magyarázó változó halmazon\n",
        "tree = DecisionTreeClassifier(featuresCol='features', labelCol='class2')\n",
        "evaluator = BinaryClassificationEvaluator(labelCol='class2')\n",
        "grid3=tune.ParamGridBuilder()\n",
        "grid3=grid3.build()\n",
        "cv3= tune.CrossValidator(estimator=tree, estimatorParamMaps=grid3, evaluator=evaluator, numFolds=5)\n",
        "\n",
        "## bővített magyarázó változó halmazon\n",
        "tree_ext = DecisionTreeClassifier(featuresCol='features_ext', labelCol='class2')\n",
        "evaluator_ext = BinaryClassificationEvaluator(labelCol='class2')\n",
        "grid3_ext=tune.ParamGridBuilder()\n",
        "grid3_ext=grid3_ext.build()\n",
        "cv3_ext= tune.CrossValidator(estimator=tree_ext, estimatorParamMaps=grid3_ext, evaluator=evaluator_ext, numFolds=5)"
      ],
      "metadata": {
        "id": "ptmt1JYrLzFC"
      },
      "execution_count": 30,
      "outputs": []
    },
    {
      "cell_type": "code",
      "source": [
        "## tanítás\n",
        "\n",
        "%%time\n",
        "pipelineCV = Pipeline(stages=[cv3])\n",
        "models3 = pipelineCV.fit(training)\n",
        "best_tree = models3.stages[-1].bestModel"
      ],
      "metadata": {
        "colab": {
          "base_uri": "https://localhost:8080/"
        },
        "id": "ztcZc2GnLy5I",
        "outputId": "a3989ca3-633c-469c-fcaf-0cc035169886"
      },
      "execution_count": 31,
      "outputs": [
        {
          "output_type": "stream",
          "name": "stdout",
          "text": [
            "CPU times: user 412 ms, sys: 53.5 ms, total: 466 ms\n",
            "Wall time: 28.9 s\n"
          ]
        }
      ]
    },
    {
      "cell_type": "code",
      "source": [
        "## kiértékelés a teszt halmazon\n",
        "\n",
        "test_results3=best_tree.transform(test)\n",
        "print(\"AUC a teszt halmazon (szűkített magyarázó változó halmazzal): \"+str(evaluator.evaluate(test_results3)))"
      ],
      "metadata": {
        "id": "BaVmkhzTchNT",
        "colab": {
          "base_uri": "https://localhost:8080/"
        },
        "outputId": "72296d87-a307-4403-c298-47a99a9c4f94"
      },
      "execution_count": 32,
      "outputs": [
        {
          "output_type": "stream",
          "name": "stdout",
          "text": [
            "AUC a teszt halmazon (szűkített magyarázó változó halmazzal): 0.6297246309781026\n"
          ]
        }
      ]
    },
    {
      "cell_type": "code",
      "source": [
        "## tanítás\n",
        "\n",
        "%%time\n",
        "pipelineCV_ext = Pipeline(stages=[cv3_ext])\n",
        "models3_ext = pipelineCV_ext.fit(training_ext)\n",
        "best_tree_ext = models3_ext.stages[-1].bestModel"
      ],
      "metadata": {
        "colab": {
          "base_uri": "https://localhost:8080/"
        },
        "id": "Dv_wYZS5Ue_E",
        "outputId": "60715394-2113-4cd8-d8f6-4dbae85d674b"
      },
      "execution_count": 33,
      "outputs": [
        {
          "output_type": "stream",
          "name": "stdout",
          "text": [
            "CPU times: user 309 ms, sys: 60.7 ms, total: 370 ms\n",
            "Wall time: 16.8 s\n"
          ]
        }
      ]
    },
    {
      "cell_type": "code",
      "source": [
        "## kiértékelés a teszt halmazon\n",
        "\n",
        "test_results3_ext=best_tree_ext.transform(test_ext)\n",
        "print(\"AUC a teszt halmazon (bővített magyarázó változó halmazzal): \"+str(evaluator_ext.evaluate(test_results3_ext)))"
      ],
      "metadata": {
        "colab": {
          "base_uri": "https://localhost:8080/"
        },
        "id": "Y15h3HiDUuWY",
        "outputId": "38688ac4-4f0e-4d02-883a-e5d9892db237"
      },
      "execution_count": 34,
      "outputs": [
        {
          "output_type": "stream",
          "name": "stdout",
          "text": [
            "AUC a teszt halmazon (bővített magyarázó változó halmazzal): 0.6861388098478286\n"
          ]
        }
      ]
    },
    {
      "cell_type": "markdown",
      "source": [
        "A kapott döntési fa (szűkített halmazzal):"
      ],
      "metadata": {
        "id": "713XTzDPiKH_"
      }
    },
    {
      "cell_type": "code",
      "source": [
        "display(best_tree)\n",
        "print(best_tree.toDebugString)"
      ],
      "metadata": {
        "colab": {
          "base_uri": "https://localhost:8080/",
          "height": 1000
        },
        "id": "qCEppywnV5I4",
        "outputId": "04342139-a67d-4c5d-e585-6d0379904b20"
      },
      "execution_count": 35,
      "outputs": [
        {
          "output_type": "display_data",
          "data": {
            "text/plain": [
              "DecisionTreeClassificationModel: uid=DecisionTreeClassifier_ccda13118810, depth=5, numNodes=41, numClasses=2, numFeatures=7"
            ]
          },
          "metadata": {}
        },
        {
          "output_type": "stream",
          "name": "stdout",
          "text": [
            "DecisionTreeClassificationModel: uid=DecisionTreeClassifier_ccda13118810, depth=5, numNodes=41, numClasses=2, numFeatures=7\n",
            "  If (feature 0 <= 1999.5)\n",
            "   If (feature 2 <= 9.5)\n",
            "    If (feature 0 <= 1995.5)\n",
            "     If (feature 4 <= 3.5)\n",
            "      If (feature 4 <= 1.5)\n",
            "       Predict: 1.0\n",
            "      Else (feature 4 > 1.5)\n",
            "       Predict: 0.0\n",
            "     Else (feature 4 > 3.5)\n",
            "      If (feature 2 <= 7.0)\n",
            "       Predict: 1.0\n",
            "      Else (feature 2 > 7.0)\n",
            "       Predict: 0.0\n",
            "    Else (feature 0 > 1995.5)\n",
            "     Predict: 0.0\n",
            "   Else (feature 2 > 9.5)\n",
            "    If (feature 0 <= 1995.5)\n",
            "     If (feature 3 <= 11.5)\n",
            "      If (feature 5 <= 230.5)\n",
            "       Predict: 1.0\n",
            "      Else (feature 5 > 230.5)\n",
            "       Predict: 0.0\n",
            "     Else (feature 3 > 11.5)\n",
            "      Predict: 0.0\n",
            "    Else (feature 0 > 1995.5)\n",
            "     Predict: 1.0\n",
            "  Else (feature 0 > 1999.5)\n",
            "   If (feature 4 <= 13.5)\n",
            "    If (feature 4 <= 5.0)\n",
            "     If (feature 4 <= 2.5)\n",
            "      Predict: 1.0\n",
            "     Else (feature 4 > 2.5)\n",
            "      If (feature 3 <= 5.5)\n",
            "       Predict: 1.0\n",
            "      Else (feature 3 > 5.5)\n",
            "       Predict: 0.0\n",
            "    Else (feature 4 > 5.0)\n",
            "     If (feature 4 <= 7.5)\n",
            "      If (feature 0 <= 2019.5)\n",
            "       Predict: 1.0\n",
            "      Else (feature 0 > 2019.5)\n",
            "       Predict: 0.0\n",
            "     Else (feature 4 > 7.5)\n",
            "      Predict: 1.0\n",
            "   Else (feature 4 > 13.5)\n",
            "    If (feature 1 <= 0.5)\n",
            "     If (feature 5 <= 285.5)\n",
            "      If (feature 2 <= 179.5)\n",
            "       Predict: 0.0\n",
            "      Else (feature 2 > 179.5)\n",
            "       Predict: 1.0\n",
            "     Else (feature 5 > 285.5)\n",
            "      Predict: 0.0\n",
            "    Else (feature 1 > 0.5)\n",
            "     If (feature 3 <= 5.5)\n",
            "      Predict: 1.0\n",
            "     Else (feature 3 > 5.5)\n",
            "      If (feature 0 <= 2011.5)\n",
            "       Predict: 0.0\n",
            "      Else (feature 0 > 2011.5)\n",
            "       Predict: 1.0\n",
            "\n"
          ]
        }
      ]
    },
    {
      "cell_type": "code",
      "source": [
        "## összes változó\n",
        "feature_cols"
      ],
      "metadata": {
        "colab": {
          "base_uri": "https://localhost:8080/"
        },
        "id": "G11-yFi2at1i",
        "outputId": "25be2635-2664-4cf8-e741-59ea81fe7ccc"
      },
      "execution_count": 36,
      "outputs": [
        {
          "output_type": "execute_result",
          "data": {
            "text/plain": [
              "['iyear', 'extended', 'country', 'region', 'targtype1', 'gname', 'weaptype1']"
            ]
          },
          "metadata": {},
          "execution_count": 36
        }
      ]
    },
    {
      "cell_type": "markdown",
      "source": [
        "Fontos változók:"
      ],
      "metadata": {
        "id": "sU36uV3IiXhm"
      }
    },
    {
      "cell_type": "code",
      "source": [
        "## fontosság\n",
        "best_tree.featureImportances"
      ],
      "metadata": {
        "colab": {
          "base_uri": "https://localhost:8080/"
        },
        "id": "nkz6TqJvUqCB",
        "outputId": "f0de6d46-150d-4aa5-d3fa-cd99911a3be0"
      },
      "execution_count": 37,
      "outputs": [
        {
          "output_type": "execute_result",
          "data": {
            "text/plain": [
              "SparseVector(7, {0: 0.4216, 1: 0.0563, 2: 0.0278, 3: 0.0824, 4: 0.3656, 5: 0.0464})"
            ]
          },
          "metadata": {},
          "execution_count": 37
        }
      ]
    },
    {
      "cell_type": "markdown",
      "source": [
        "legfontosabb változók: iyear, targtype1 --> tehát az elkövetés éve és a célpont típusa"
      ],
      "metadata": {
        "id": "DvjjtLDiidcF"
      }
    },
    {
      "cell_type": "markdown",
      "source": [
        "A kapott döntési fa (bővített halmazon):"
      ],
      "metadata": {
        "id": "KcuoOMboin3l"
      }
    },
    {
      "cell_type": "code",
      "source": [
        "display(best_tree_ext)\n",
        "print(best_tree_ext.toDebugString)"
      ],
      "metadata": {
        "colab": {
          "base_uri": "https://localhost:8080/",
          "height": 1000
        },
        "id": "-tiHu9KgU8JI",
        "outputId": "d6dc1702-d873-49ee-8bdd-aa01ff06db6e"
      },
      "execution_count": 38,
      "outputs": [
        {
          "output_type": "display_data",
          "data": {
            "text/plain": [
              "DecisionTreeClassificationModel: uid=DecisionTreeClassifier_f5c16e8e9b2b, depth=5, numNodes=41, numClasses=2, numFeatures=22"
            ]
          },
          "metadata": {}
        },
        {
          "output_type": "stream",
          "name": "stdout",
          "text": [
            "DecisionTreeClassificationModel: uid=DecisionTreeClassifier_f5c16e8e9b2b, depth=5, numNodes=41, numClasses=2, numFeatures=22\n",
            "  If (feature 0 <= 1999.5)\n",
            "   If (feature 16 <= 1072.5)\n",
            "    If (feature 17 <= 9.5)\n",
            "     If (feature 20 <= 5.5)\n",
            "      Predict: 0.0\n",
            "     Else (feature 20 > 5.5)\n",
            "      Predict: 1.0\n",
            "    Else (feature 17 > 9.5)\n",
            "     Predict: 1.0\n",
            "   Else (feature 16 > 1072.5)\n",
            "    If (feature 4 <= 93.5)\n",
            "     If (feature 1 <= 6.5)\n",
            "      If (feature 6 <= 45.5)\n",
            "       Predict: 1.0\n",
            "      Else (feature 6 > 45.5)\n",
            "       Predict: 0.0\n",
            "     Else (feature 1 > 6.5)\n",
            "      If (feature 4 <= 7.0)\n",
            "       Predict: 0.0\n",
            "      Else (feature 4 > 7.0)\n",
            "       Predict: 1.0\n",
            "    Else (feature 4 > 93.5)\n",
            "     If (feature 2 <= 6.5)\n",
            "      If (feature 6 <= 203.5)\n",
            "       Predict: 1.0\n",
            "      Else (feature 6 > 203.5)\n",
            "       Predict: 0.0\n",
            "     Else (feature 2 > 6.5)\n",
            "      Predict: 1.0\n",
            "  Else (feature 0 > 1999.5)\n",
            "   If (feature 15 <= 13.5)\n",
            "    If (feature 15 <= 5.0)\n",
            "     If (feature 15 <= 2.5)\n",
            "      Predict: 1.0\n",
            "     Else (feature 15 > 2.5)\n",
            "      If (feature 5 <= 5.5)\n",
            "       Predict: 1.0\n",
            "      Else (feature 5 > 5.5)\n",
            "       Predict: 0.0\n",
            "    Else (feature 15 > 5.0)\n",
            "     Predict: 1.0\n",
            "   Else (feature 15 > 13.5)\n",
            "    If (feature 3 <= 0.5)\n",
            "     If (feature 14 <= 5.5)\n",
            "      If (feature 14 <= 2.5)\n",
            "       Predict: 0.0\n",
            "      Else (feature 14 > 2.5)\n",
            "       Predict: 1.0\n",
            "     Else (feature 14 > 5.5)\n",
            "      Predict: 0.0\n",
            "    Else (feature 3 > 0.5)\n",
            "     If (feature 0 <= 2011.5)\n",
            "      If (feature 16 <= 1564.0)\n",
            "       Predict: 1.0\n",
            "      Else (feature 16 > 1564.0)\n",
            "       Predict: 0.0\n",
            "     Else (feature 0 > 2011.5)\n",
            "      If (feature 17 <= 392.0)\n",
            "       Predict: 1.0\n",
            "      Else (feature 17 > 392.0)\n",
            "       Predict: 0.0\n",
            "\n"
          ]
        }
      ]
    },
    {
      "cell_type": "code",
      "source": [
        "## összes változó\n",
        "feature_cols_ext"
      ],
      "metadata": {
        "id": "iVFo--W8ePyF",
        "colab": {
          "base_uri": "https://localhost:8080/"
        },
        "outputId": "ad76ef0f-5c3a-4dc0-eb7b-ea7a98e23866"
      },
      "execution_count": 39,
      "outputs": [
        {
          "output_type": "execute_result",
          "data": {
            "text/plain": [
              "['iyear',\n",
              " 'imonth',\n",
              " 'iday',\n",
              " 'extended',\n",
              " 'country',\n",
              " 'region',\n",
              " 'provstate',\n",
              " 'specificity',\n",
              " 'vicinity',\n",
              " 'crit1',\n",
              " 'crit2',\n",
              " 'crit3',\n",
              " 'multiple',\n",
              " 'suicide',\n",
              " 'attacktype1',\n",
              " 'targtype1',\n",
              " 'target1',\n",
              " 'natlty1',\n",
              " 'gname',\n",
              " 'individual',\n",
              " 'weaptype1',\n",
              " 'INT_MISC']"
            ]
          },
          "metadata": {},
          "execution_count": 39
        }
      ]
    },
    {
      "cell_type": "markdown",
      "source": [
        "Fontos változók:"
      ],
      "metadata": {
        "id": "DWWNDSBkivfd"
      }
    },
    {
      "cell_type": "code",
      "source": [
        "## fontosság\n",
        "best_tree_ext.featureImportances"
      ],
      "metadata": {
        "colab": {
          "base_uri": "https://localhost:8080/"
        },
        "id": "Z5HQ-zaOU795",
        "outputId": "0dcd55e5-2c38-47f7-adf3-49186d6bbd0b"
      },
      "execution_count": 40,
      "outputs": [
        {
          "output_type": "execute_result",
          "data": {
            "text/plain": [
              "SparseVector(22, {0: 0.3702, 1: 0.0047, 2: 0.0038, 3: 0.0635, 4: 0.0136, 5: 0.0425, 6: 0.0131, 14: 0.0594, 15: 0.3539, 16: 0.0426, 17: 0.0264, 20: 0.0063})"
            ]
          },
          "metadata": {},
          "execution_count": 40
        }
      ]
    },
    {
      "cell_type": "markdown",
      "source": [
        "legfontosabb változók: iyear, targtype1 --> tehát akárcsak az szűkített halmaz esetében, az elkövetés éve és a célpont típusa"
      ],
      "metadata": {
        "id": "enM4rw2hVLqN"
      }
    },
    {
      "cell_type": "markdown",
      "source": [
        "### Gradient boosted tree modell:"
      ],
      "metadata": {
        "id": "Pxl0lcaUfm1n"
      }
    },
    {
      "cell_type": "code",
      "source": [
        "## GBT modell építése 5-szörös keresztvalidációval, AUC alapján történő kiértékeléssel\n",
        "## hiperparamétereket az alapbeállításokkal használjuk itt, ezért \"üres\" a grid search buildere\n",
        "\n",
        "## szűkített halmazzal\n",
        "gbt = GBTClassifier(featuresCol='features', labelCol='class2')\n",
        "evaluator = BinaryClassificationEvaluator(labelCol='class2')\n",
        "grid2=tune.ParamGridBuilder()\n",
        "grid2=grid2.build()\n",
        "cv2= tune.CrossValidator(estimator=gbt, estimatorParamMaps=grid2, evaluator=evaluator, numFolds=5)\n",
        "\n",
        "## bővített halmazzal\n",
        "gbt_ext = GBTClassifier(featuresCol='features_ext', labelCol='class2')\n",
        "evaluator_ext = BinaryClassificationEvaluator(labelCol='class2')\n",
        "grid2_ext=tune.ParamGridBuilder()\n",
        "grid2_ext=grid2_ext.build()\n",
        "cv2_ext= tune.CrossValidator(estimator=gbt_ext, estimatorParamMaps=grid2_ext, evaluator=evaluator_ext, numFolds=5)"
      ],
      "metadata": {
        "id": "VMBgkVOiWSkg"
      },
      "execution_count": 41,
      "outputs": []
    },
    {
      "cell_type": "code",
      "source": [
        "## tanítás (szűkített halmazzal)\n",
        "\n",
        "%%time\n",
        "models2=cv2.fit(training)\n",
        "best_gbt=models2.bestModel"
      ],
      "metadata": {
        "colab": {
          "base_uri": "https://localhost:8080/"
        },
        "id": "RzSL6eJdWUz9",
        "outputId": "1ceea8f3-d016-484a-dd9a-ec8d7dbe17a4"
      },
      "execution_count": 42,
      "outputs": [
        {
          "output_type": "stream",
          "name": "stdout",
          "text": [
            "CPU times: user 774 ms, sys: 144 ms, total: 918 ms\n",
            "Wall time: 1min 15s\n"
          ]
        }
      ]
    },
    {
      "cell_type": "code",
      "source": [
        "## tanítás (bővített halmazzal)\n",
        "\n",
        "%%time\n",
        "models2_ext=cv2_ext.fit(training_ext)\n",
        "best_gbt_ext=models2_ext.bestModel"
      ],
      "metadata": {
        "colab": {
          "base_uri": "https://localhost:8080/"
        },
        "id": "gYwVcsDASiiH",
        "outputId": "eb89e4da-6518-410c-db9e-09ea77c34496"
      },
      "execution_count": 43,
      "outputs": [
        {
          "output_type": "stream",
          "name": "stdout",
          "text": [
            "CPU times: user 633 ms, sys: 137 ms, total: 769 ms\n",
            "Wall time: 53 s\n"
          ]
        }
      ]
    },
    {
      "cell_type": "code",
      "source": [
        "## kiértékelés a teszt halmazokon\n",
        "\n",
        "test_results2=best_gbt.transform(test)\n",
        "\n",
        "test_results2_ext=best_gbt_ext.transform(test_ext)"
      ],
      "metadata": {
        "id": "x5y_cm7XZFiC"
      },
      "execution_count": 44,
      "outputs": []
    },
    {
      "cell_type": "code",
      "source": [
        "print(\"AUC a teszt halmazon (szűkített halmazzal): \"+str(evaluator.evaluate(test_results2)))"
      ],
      "metadata": {
        "colab": {
          "base_uri": "https://localhost:8080/"
        },
        "id": "Xeji6a-QcQKq",
        "outputId": "795d5e6a-f320-4263-e48c-2a70bbe4a587"
      },
      "execution_count": 46,
      "outputs": [
        {
          "output_type": "stream",
          "name": "stdout",
          "text": [
            "AUC a teszt halmazon (szűkített halmazzal): 0.8090340075863712\n"
          ]
        }
      ]
    },
    {
      "cell_type": "code",
      "source": [
        "print(\"AUC a teszt halmazon (bővített halmazzal): \"+str(evaluator_ext.evaluate(test_results2_ext)))"
      ],
      "metadata": {
        "colab": {
          "base_uri": "https://localhost:8080/"
        },
        "id": "SVH_rAMASuSe",
        "outputId": "91a9bfb7-011d-441c-dc65-76b2db91fc10"
      },
      "execution_count": 47,
      "outputs": [
        {
          "output_type": "stream",
          "name": "stdout",
          "text": [
            "AUC a teszt halmazon (bővített halmazzal): 0.804376380763861\n"
          ]
        }
      ]
    },
    {
      "cell_type": "markdown",
      "source": [
        "Fontos változók (szűkített halmazzal):"
      ],
      "metadata": {
        "id": "mTDuWq99lGna"
      }
    },
    {
      "cell_type": "code",
      "source": [
        "## változók\n",
        "feature_cols"
      ],
      "metadata": {
        "colab": {
          "base_uri": "https://localhost:8080/"
        },
        "id": "Je8xvI6-Tsnr",
        "outputId": "4bde6fa7-31e8-4e32-8118-1bafe32643c7"
      },
      "execution_count": 48,
      "outputs": [
        {
          "output_type": "execute_result",
          "data": {
            "text/plain": [
              "['iyear', 'extended', 'country', 'region', 'targtype1', 'gname', 'weaptype1']"
            ]
          },
          "metadata": {},
          "execution_count": 48
        }
      ]
    },
    {
      "cell_type": "code",
      "source": [
        "## fontosság\n",
        "best_gbt.featureImportances"
      ],
      "metadata": {
        "colab": {
          "base_uri": "https://localhost:8080/"
        },
        "id": "eYogjxlb7KVg",
        "outputId": "5bd23c32-c751-44f1-eeb2-20bd93091169"
      },
      "execution_count": 49,
      "outputs": [
        {
          "output_type": "execute_result",
          "data": {
            "text/plain": [
              "SparseVector(7, {0: 0.1837, 1: 0.0433, 2: 0.1896, 3: 0.1078, 4: 0.1892, 5: 0.1541, 6: 0.1324})"
            ]
          },
          "metadata": {},
          "execution_count": 49
        }
      ]
    },
    {
      "cell_type": "markdown",
      "source": [
        "fontos változók rendre: iyear, extended, country, region, targtype2, gname, weaptype1\n",
        "\n",
        "változók jelentése: elkövetés éve, 24 óránál hosszabb ideig tartott-e a támadás, melyik országban történt az eset, melyik régióban történt az eset, célpont típusa, elkövető szervezet neve, elsődleges fegyvertípus"
      ],
      "metadata": {
        "id": "dW5ctiLNEj59"
      }
    },
    {
      "cell_type": "markdown",
      "source": [
        "Fontos változók (bővített halmazzal):"
      ],
      "metadata": {
        "id": "3JDYqogplRZg"
      }
    },
    {
      "cell_type": "code",
      "source": [
        "## összes változó\n",
        "feature_cols_ext"
      ],
      "metadata": {
        "colab": {
          "base_uri": "https://localhost:8080/"
        },
        "id": "LdjLnn9kTQkV",
        "outputId": "48924014-ef8e-4f2b-d2ad-8efd65485810"
      },
      "execution_count": 50,
      "outputs": [
        {
          "output_type": "execute_result",
          "data": {
            "text/plain": [
              "['iyear',\n",
              " 'imonth',\n",
              " 'iday',\n",
              " 'extended',\n",
              " 'country',\n",
              " 'region',\n",
              " 'provstate',\n",
              " 'specificity',\n",
              " 'vicinity',\n",
              " 'crit1',\n",
              " 'crit2',\n",
              " 'crit3',\n",
              " 'multiple',\n",
              " 'suicide',\n",
              " 'attacktype1',\n",
              " 'targtype1',\n",
              " 'target1',\n",
              " 'natlty1',\n",
              " 'gname',\n",
              " 'individual',\n",
              " 'weaptype1',\n",
              " 'INT_MISC']"
            ]
          },
          "metadata": {},
          "execution_count": 50
        }
      ]
    },
    {
      "cell_type": "code",
      "source": [
        "## fontosság\n",
        "best_gbt_ext.featureImportances"
      ],
      "metadata": {
        "colab": {
          "base_uri": "https://localhost:8080/"
        },
        "id": "o0vn9l8RS3pO",
        "outputId": "9116f12f-77dd-47cd-c285-8308247a6375"
      },
      "execution_count": 51,
      "outputs": [
        {
          "output_type": "execute_result",
          "data": {
            "text/plain": [
              "SparseVector(22, {0: 0.1067, 1: 0.0311, 2: 0.0354, 3: 0.0336, 4: 0.0989, 5: 0.0732, 6: 0.1107, 7: 0.0104, 8: 0.0058, 9: 0.0018, 10: 0.0005, 11: 0.0041, 12: 0.0072, 13: 0.0028, 14: 0.0344, 15: 0.1153, 16: 0.0592, 17: 0.0802, 18: 0.0863, 19: 0.0004, 20: 0.0771, 21: 0.0251})"
            ]
          },
          "metadata": {},
          "execution_count": 51
        }
      ]
    },
    {
      "cell_type": "markdown",
      "source": [
        "legfontosabb változók: iyear, provstate, targtype1 --> tehát az elkövetés éve, az elkövetés helyszíne (olyan szinten meghatározva, mint például, hogy melyik államban történt), célpont típusa"
      ],
      "metadata": {
        "id": "hGXmGwrsTrgs"
      }
    },
    {
      "cell_type": "markdown",
      "source": [
        "# Modellezés sklearn-nel, fontos változók bővebb feltárása:"
      ],
      "metadata": {
        "id": "HqIbtueE8Dmd"
      }
    },
    {
      "cell_type": "code",
      "source": [
        "pip install shap"
      ],
      "metadata": {
        "colab": {
          "base_uri": "https://localhost:8080/"
        },
        "id": "PRCADr1yRJp5",
        "outputId": "316edd60-9ef3-4376-d01b-5fff88600201"
      },
      "execution_count": 52,
      "outputs": [
        {
          "output_type": "stream",
          "name": "stdout",
          "text": [
            "Looking in indexes: https://pypi.org/simple, https://us-python.pkg.dev/colab-wheels/public/simple/\n",
            "Collecting shap\n",
            "  Downloading shap-0.41.0-cp38-cp38-manylinux_2_12_x86_64.manylinux2010_x86_64.whl (575 kB)\n",
            "\u001b[K     |████████████████████████████████| 575 kB 7.8 MB/s \n",
            "\u001b[?25hRequirement already satisfied: numba in /usr/local/lib/python3.8/dist-packages (from shap) (0.56.4)\n",
            "Requirement already satisfied: scikit-learn in /usr/local/lib/python3.8/dist-packages (from shap) (1.0.2)\n",
            "Requirement already satisfied: pandas in /usr/local/lib/python3.8/dist-packages (from shap) (1.3.5)\n",
            "Requirement already satisfied: numpy in /usr/local/lib/python3.8/dist-packages (from shap) (1.21.6)\n",
            "Requirement already satisfied: cloudpickle in /usr/local/lib/python3.8/dist-packages (from shap) (1.5.0)\n",
            "Requirement already satisfied: packaging>20.9 in /usr/local/lib/python3.8/dist-packages (from shap) (21.3)\n",
            "Requirement already satisfied: scipy in /usr/local/lib/python3.8/dist-packages (from shap) (1.7.3)\n",
            "Requirement already satisfied: tqdm>4.25.0 in /usr/local/lib/python3.8/dist-packages (from shap) (4.64.1)\n",
            "Collecting slicer==0.0.7\n",
            "  Downloading slicer-0.0.7-py3-none-any.whl (14 kB)\n",
            "Requirement already satisfied: pyparsing!=3.0.5,>=2.0.2 in /usr/local/lib/python3.8/dist-packages (from packaging>20.9->shap) (3.0.9)\n",
            "Requirement already satisfied: llvmlite<0.40,>=0.39.0dev0 in /usr/local/lib/python3.8/dist-packages (from numba->shap) (0.39.1)\n",
            "Requirement already satisfied: setuptools in /usr/local/lib/python3.8/dist-packages (from numba->shap) (57.4.0)\n",
            "Requirement already satisfied: importlib-metadata in /usr/local/lib/python3.8/dist-packages (from numba->shap) (4.13.0)\n",
            "Requirement already satisfied: zipp>=0.5 in /usr/local/lib/python3.8/dist-packages (from importlib-metadata->numba->shap) (3.11.0)\n",
            "Requirement already satisfied: python-dateutil>=2.7.3 in /usr/local/lib/python3.8/dist-packages (from pandas->shap) (2.8.2)\n",
            "Requirement already satisfied: pytz>=2017.3 in /usr/local/lib/python3.8/dist-packages (from pandas->shap) (2022.6)\n",
            "Requirement already satisfied: six>=1.5 in /usr/local/lib/python3.8/dist-packages (from python-dateutil>=2.7.3->pandas->shap) (1.15.0)\n",
            "Requirement already satisfied: threadpoolctl>=2.0.0 in /usr/local/lib/python3.8/dist-packages (from scikit-learn->shap) (3.1.0)\n",
            "Requirement already satisfied: joblib>=0.11 in /usr/local/lib/python3.8/dist-packages (from scikit-learn->shap) (1.2.0)\n",
            "Installing collected packages: slicer, shap\n",
            "Successfully installed shap-0.41.0 slicer-0.0.7\n"
          ]
        }
      ]
    },
    {
      "cell_type": "code",
      "source": [
        "import graphviz\n",
        "from sklearn import tree\n",
        "import xgboost as xgb\n",
        "from sklearn.tree import DecisionTreeClassifier\n",
        "from sklearn import metrics\n",
        "from sklearn.model_selection import train_test_split\n",
        "from sklearn.model_selection import GridSearchCV\n",
        "from sklearn.inspection import permutation_importance\n",
        "from sklearn.ensemble import RandomForestClassifier\n",
        "import shap"
      ],
      "metadata": {
        "id": "4UwZEbOT8C-a"
      },
      "execution_count": 53,
      "outputs": []
    },
    {
      "cell_type": "code",
      "source": [
        "## magyarázó változók halmazainak kialakítása\n",
        "\n",
        "features=df_model.loc[:, ~df_model.columns.isin(['survived', 'class1', 'class2'])]\n",
        "\n",
        "features_ext=df_model_extended.loc[:, ~df_model_extended.columns.isin(['survived', 'class1', 'class2'])]"
      ],
      "metadata": {
        "id": "Cd0DuILmAuY-"
      },
      "execution_count": 54,
      "outputs": []
    },
    {
      "cell_type": "code",
      "source": [
        "## tanító és teszt halmazok létrehozása 70/30 arányban történő felosztással\n",
        "\n",
        "X_train, X_test, Y_train, Y_test = train_test_split(features, df_model[\"class2\"], test_size=0.3, random_state=42)\n",
        "\n",
        "X_train_ext, X_test_ext, Y_train_ext, Y_test_ext = train_test_split(features_ext, df_model_extended[\"class2\"], test_size=0.3, random_state=42)"
      ],
      "metadata": {
        "id": "5ydXnUN08Czl"
      },
      "execution_count": 55,
      "outputs": []
    },
    {
      "cell_type": "markdown",
      "source": [
        "## Döntési fa modell:"
      ],
      "metadata": {
        "id": "yAzC96M2Wyv1"
      }
    },
    {
      "cell_type": "code",
      "source": [
        "## döntési fa modellek építése, 10-szeres keresztvalidációval\n",
        "## grid search alkalmazása a következő hiperparamétereknél: max_depth, min_samples_leaf\n",
        "## maximális mélység maximumát 5-re állítjuk, hogy a fa ábrázolása értelmesen lehetséges legyen\n",
        "## alapértelmezetten az estimator scoring-ja alapján történik a legjobb modell kiválasztása -- ebben az esetben ez az accuracy\n",
        "\n",
        "parameters = {'max_depth':range(1,6), 'random_state':[42], 'min_samples_leaf':range(1,10)}\n",
        "\n",
        "## szűkített halmazzal\n",
        "dt=DecisionTreeClassifier()\n",
        "dt_gs = GridSearchCV(dt, parameters, cv=10)\n",
        "dt_gs.fit(X_train,Y_train)\n",
        "\n",
        "## bővített halmazzal\n",
        "dt_ext=DecisionTreeClassifier()\n",
        "dt_gs_ext = GridSearchCV(dt_ext, parameters, cv=10)\n",
        "dt_gs_ext.fit(X_train_ext,Y_train_ext)"
      ],
      "metadata": {
        "colab": {
          "base_uri": "https://localhost:8080/"
        },
        "id": "I42g74R5FmCk",
        "outputId": "e73e132d-03de-4782-e8c5-a19aae34ecdf"
      },
      "execution_count": 56,
      "outputs": [
        {
          "output_type": "execute_result",
          "data": {
            "text/plain": [
              "GridSearchCV(cv=10, estimator=DecisionTreeClassifier(),\n",
              "             param_grid={'max_depth': range(1, 6),\n",
              "                         'min_samples_leaf': range(1, 10),\n",
              "                         'random_state': [42]})"
            ]
          },
          "metadata": {},
          "execution_count": 56
        }
      ]
    },
    {
      "cell_type": "code",
      "source": [
        "## legjobb modell kiválasztása\n",
        "\n",
        "## szűkített halmazzal\n",
        "best_tree=dt_gs.best_estimator_\n",
        "\n",
        "## bővített halmazzal\n",
        "best_tree_ext=dt_gs_ext.best_estimator_"
      ],
      "metadata": {
        "id": "cnYJdLPTGBu7"
      },
      "execution_count": 57,
      "outputs": []
    },
    {
      "cell_type": "code",
      "source": [
        "## legjobb modell a szűkített halmazzal\n",
        "best_tree"
      ],
      "metadata": {
        "colab": {
          "base_uri": "https://localhost:8080/"
        },
        "id": "kyH9roUgGeKD",
        "outputId": "98938c99-eb40-42db-a6e2-a5c584988d61"
      },
      "execution_count": 58,
      "outputs": [
        {
          "output_type": "execute_result",
          "data": {
            "text/plain": [
              "DecisionTreeClassifier(max_depth=5, min_samples_leaf=9, random_state=42)"
            ]
          },
          "metadata": {},
          "execution_count": 58
        }
      ]
    },
    {
      "cell_type": "code",
      "source": [
        "## legjobb modell a bővített halmazzal\n",
        "best_tree_ext"
      ],
      "metadata": {
        "colab": {
          "base_uri": "https://localhost:8080/"
        },
        "id": "XdMHgdD0dIvB",
        "outputId": "9c9dd195-4714-4c23-9636-83b900eb78a0"
      },
      "execution_count": 59,
      "outputs": [
        {
          "output_type": "execute_result",
          "data": {
            "text/plain": [
              "DecisionTreeClassifier(max_depth=5, random_state=42)"
            ]
          },
          "metadata": {},
          "execution_count": 59
        }
      ]
    },
    {
      "cell_type": "code",
      "source": [
        "## kiértékelés a teszt halmazon accuracy és AUC alapján\n",
        "\n",
        "## szűkített halmazzal\n",
        "prob=best_tree.predict_proba(X_test)\n",
        "pred=best_tree.predict(X_test)\n",
        "fpr,tpr,thresholds = metrics.roc_curve(Y_test, prob[:,1], pos_label=1, sample_weight=None)\n",
        "auc=metrics.auc(fpr,tpr)\n",
        "accuracy=metrics.accuracy_score(Y_test, pred)\n",
        "\n",
        "## bővített halmazzal\n",
        "prob_ext=best_tree_ext.predict_proba(X_test_ext)\n",
        "pred_ext=best_tree_ext.predict(X_test_ext)\n",
        "fpr_ext,tpr_ext,thresholds_ext = metrics.roc_curve(Y_test_ext, prob_ext[:,1], pos_label=1, sample_weight=None)\n",
        "auc_ext=metrics.auc(fpr_ext,tpr_ext)\n",
        "accuracy_ext=metrics.accuracy_score(Y_test_ext, pred_ext)"
      ],
      "metadata": {
        "id": "puiO4eBMBFxf"
      },
      "execution_count": 60,
      "outputs": []
    },
    {
      "cell_type": "code",
      "source": [
        "print(\"AUC a teszt halmazon (szűkített halmazzal): \"+str(auc)+\"\\n Accuracy a teszt halmazon (szűkített halmazzal): \"+ str(accuracy))"
      ],
      "metadata": {
        "colab": {
          "base_uri": "https://localhost:8080/"
        },
        "id": "146I6KpGCh6v",
        "outputId": "5d8f6fec-54cc-492b-ba66-5c7c19d29624"
      },
      "execution_count": 61,
      "outputs": [
        {
          "output_type": "stream",
          "name": "stdout",
          "text": [
            "AUC a teszt halmazon (szűkített halmazzal): 0.7679181629046967\n",
            " Accuracy a teszt halmazon (szűkített halmazzal): 0.6994219653179191\n"
          ]
        }
      ]
    },
    {
      "cell_type": "code",
      "source": [
        "print(\"AUC a teszt halmazon (bővített halmazzal): \"+str(auc_ext)+\"\\n Accuracy a teszt halmazon (bővített halmazzal): \"+ str(accuracy_ext))"
      ],
      "metadata": {
        "colab": {
          "base_uri": "https://localhost:8080/"
        },
        "id": "YyS3KFkjdxVY",
        "outputId": "08941d7f-470e-434d-f860-7d32c382d34a"
      },
      "execution_count": 62,
      "outputs": [
        {
          "output_type": "stream",
          "name": "stdout",
          "text": [
            "AUC a teszt halmazon (bővített halmazzal): 0.7650898877199436\n",
            " Accuracy a teszt halmazon (bővített halmazzal): 0.7109083367897138\n"
          ]
        }
      ]
    },
    {
      "cell_type": "markdown",
      "source": [
        "### A szűkített magyarázó változó halmazzal épített modell értelmezése:"
      ],
      "metadata": {
        "id": "8MhCNl2jav3V"
      }
    },
    {
      "cell_type": "code",
      "source": [
        "## döntési fa modell ábrázolása\n",
        "tree_viz=graphviz.Source(tree.export_graphviz(best_tree, filled=True, rounded=True,feature_names=list(features.columns)))\n",
        "tree_viz"
      ],
      "metadata": {
        "colab": {
          "base_uri": "https://localhost:8080/",
          "height": 816
        },
        "id": "BDDbSW4jCkIt",
        "outputId": "89b9ecd5-3fd2-490f-824c-ee3bf72618f2"
      },
      "execution_count": 66,
      "outputs": [
        {
          "output_type": "execute_result",
          "data": {
            "text/plain": [
              "<graphviz.files.Source at 0x7f953737b400>"
            ],
            "image/svg+xml": "<?xml version=\"1.0\" encoding=\"UTF-8\" standalone=\"no\"?>\n<!DOCTYPE svg PUBLIC \"-//W3C//DTD SVG 1.1//EN\"\n \"http://www.w3.org/Graphics/SVG/1.1/DTD/svg11.dtd\">\n<!-- Generated by graphviz version 2.40.1 (20161225.0304)\n -->\n<!-- Title: Tree Pages: 1 -->\n<svg width=\"3017pt\" height=\"581pt\"\n viewBox=\"0.00 0.00 3017.00 581.00\" xmlns=\"http://www.w3.org/2000/svg\" xmlns:xlink=\"http://www.w3.org/1999/xlink\">\n<g id=\"graph0\" class=\"graph\" transform=\"scale(1 1) rotate(0) translate(4 577)\">\n<title>Tree</title>\n<polygon fill=\"#ffffff\" stroke=\"transparent\" points=\"-4,4 -4,-577 3013,-577 3013,4 -4,4\"/>\n<!-- 0 -->\n<g id=\"node1\" class=\"node\">\n<title>0</title>\n<path fill=\"#c4e2f7\" stroke=\"#000000\" d=\"M934,-573C934,-573 809,-573 809,-573 803,-573 797,-567 797,-561 797,-561 797,-517 797,-517 797,-511 803,-505 809,-505 809,-505 934,-505 934,-505 940,-505 946,-511 946,-517 946,-517 946,-561 946,-561 946,-567 940,-573 934,-573\"/>\n<text text-anchor=\"middle\" x=\"871.5\" y=\"-557.8\" font-family=\"Helvetica,sans-Serif\" font-size=\"14.00\" fill=\"#000000\">iyear &lt;= 1997.5</text>\n<text text-anchor=\"middle\" x=\"871.5\" y=\"-542.8\" font-family=\"Helvetica,sans-Serif\" font-size=\"14.00\" fill=\"#000000\">gini = 0.485</text>\n<text text-anchor=\"middle\" x=\"871.5\" y=\"-527.8\" font-family=\"Helvetica,sans-Serif\" font-size=\"14.00\" fill=\"#000000\">samples = 5649</text>\n<text text-anchor=\"middle\" x=\"871.5\" y=\"-512.8\" font-family=\"Helvetica,sans-Serif\" font-size=\"14.00\" fill=\"#000000\">value = [2331, 3318]</text>\n</g>\n<!-- 1 -->\n<g id=\"node2\" class=\"node\">\n<title>1</title>\n<path fill=\"#48a4e7\" stroke=\"#000000\" d=\"M635.5,-469C635.5,-469 535.5,-469 535.5,-469 529.5,-469 523.5,-463 523.5,-457 523.5,-457 523.5,-413 523.5,-413 523.5,-407 529.5,-401 535.5,-401 535.5,-401 635.5,-401 635.5,-401 641.5,-401 647.5,-407 647.5,-413 647.5,-413 647.5,-457 647.5,-457 647.5,-463 641.5,-469 635.5,-469\"/>\n<text text-anchor=\"middle\" x=\"585.5\" y=\"-453.8\" font-family=\"Helvetica,sans-Serif\" font-size=\"14.00\" fill=\"#000000\">country &lt;= 8.5</text>\n<text text-anchor=\"middle\" x=\"585.5\" y=\"-438.8\" font-family=\"Helvetica,sans-Serif\" font-size=\"14.00\" fill=\"#000000\">gini = 0.131</text>\n<text text-anchor=\"middle\" x=\"585.5\" y=\"-423.8\" font-family=\"Helvetica,sans-Serif\" font-size=\"14.00\" fill=\"#000000\">samples = 783</text>\n<text text-anchor=\"middle\" x=\"585.5\" y=\"-408.8\" font-family=\"Helvetica,sans-Serif\" font-size=\"14.00\" fill=\"#000000\">value = [55, 728]</text>\n</g>\n<!-- 0&#45;&gt;1 -->\n<g id=\"edge1\" class=\"edge\">\n<title>0&#45;&gt;1</title>\n<path fill=\"none\" stroke=\"#000000\" d=\"M796.7304,-511.8111C753.6471,-496.1444 699.7711,-476.5531 657.2137,-461.0777\"/>\n<polygon fill=\"#000000\" stroke=\"#000000\" points=\"658.3557,-457.7688 647.7616,-457.6406 655.9634,-464.3474 658.3557,-457.7688\"/>\n<text text-anchor=\"middle\" x=\"658.3337\" y=\"-476.5952\" font-family=\"Helvetica,sans-Serif\" font-size=\"14.00\" fill=\"#000000\">True</text>\n</g>\n<!-- 16 -->\n<g id=\"node17\" class=\"node\">\n<title>16</title>\n<path fill=\"#e7f3fc\" stroke=\"#000000\" d=\"M1393,-469C1393,-469 1268,-469 1268,-469 1262,-469 1256,-463 1256,-457 1256,-457 1256,-413 1256,-413 1256,-407 1262,-401 1268,-401 1268,-401 1393,-401 1393,-401 1399,-401 1405,-407 1405,-413 1405,-413 1405,-457 1405,-457 1405,-463 1399,-469 1393,-469\"/>\n<text text-anchor=\"middle\" x=\"1330.5\" y=\"-453.8\" font-family=\"Helvetica,sans-Serif\" font-size=\"14.00\" fill=\"#000000\">targtype1 &lt;= 13.5</text>\n<text text-anchor=\"middle\" x=\"1330.5\" y=\"-438.8\" font-family=\"Helvetica,sans-Serif\" font-size=\"14.00\" fill=\"#000000\">gini = 0.498</text>\n<text text-anchor=\"middle\" x=\"1330.5\" y=\"-423.8\" font-family=\"Helvetica,sans-Serif\" font-size=\"14.00\" fill=\"#000000\">samples = 4866</text>\n<text text-anchor=\"middle\" x=\"1330.5\" y=\"-408.8\" font-family=\"Helvetica,sans-Serif\" font-size=\"14.00\" fill=\"#000000\">value = [2276, 2590]</text>\n</g>\n<!-- 0&#45;&gt;16 -->\n<g id=\"edge16\" class=\"edge\">\n<title>0&#45;&gt;16</title>\n<path fill=\"none\" stroke=\"#000000\" d=\"M946.012,-522.1171C1028.066,-503.5254 1159.7382,-473.6911 1245.6879,-454.2167\"/>\n<polygon fill=\"#000000\" stroke=\"#000000\" points=\"1246.6968,-457.5769 1255.6761,-451.9536 1245.1499,-450.7499 1246.6968,-457.5769\"/>\n<text text-anchor=\"middle\" x=\"1242.3419\" y=\"-469.4006\" font-family=\"Helvetica,sans-Serif\" font-size=\"14.00\" fill=\"#000000\">False</text>\n</g>\n<!-- 2 -->\n<g id=\"node3\" class=\"node\">\n<title>2</title>\n<path fill=\"#c6e3f8\" stroke=\"#000000\" d=\"M493.5,-357.5C493.5,-357.5 413.5,-357.5 413.5,-357.5 407.5,-357.5 401.5,-351.5 401.5,-345.5 401.5,-345.5 401.5,-316.5 401.5,-316.5 401.5,-310.5 407.5,-304.5 413.5,-304.5 413.5,-304.5 493.5,-304.5 493.5,-304.5 499.5,-304.5 505.5,-310.5 505.5,-316.5 505.5,-316.5 505.5,-345.5 505.5,-345.5 505.5,-351.5 499.5,-357.5 493.5,-357.5\"/>\n<text text-anchor=\"middle\" x=\"453.5\" y=\"-342.3\" font-family=\"Helvetica,sans-Serif\" font-size=\"14.00\" fill=\"#000000\">gini = 0.486</text>\n<text text-anchor=\"middle\" x=\"453.5\" y=\"-327.3\" font-family=\"Helvetica,sans-Serif\" font-size=\"14.00\" fill=\"#000000\">samples = 12</text>\n<text text-anchor=\"middle\" x=\"453.5\" y=\"-312.3\" font-family=\"Helvetica,sans-Serif\" font-size=\"14.00\" fill=\"#000000\">value = [5, 7]</text>\n</g>\n<!-- 1&#45;&gt;2 -->\n<g id=\"edge2\" class=\"edge\">\n<title>1&#45;&gt;2</title>\n<path fill=\"none\" stroke=\"#000000\" d=\"M542.2783,-400.9465C527.1794,-389.0504 510.2676,-375.726 495.2878,-363.9237\"/>\n<polygon fill=\"#000000\" stroke=\"#000000\" points=\"497.2091,-360.9817 487.1881,-357.5422 492.877,-366.4802 497.2091,-360.9817\"/>\n</g>\n<!-- 3 -->\n<g id=\"node4\" class=\"node\">\n<title>3</title>\n<path fill=\"#47a4e7\" stroke=\"#000000\" d=\"M635.5,-365C635.5,-365 535.5,-365 535.5,-365 529.5,-365 523.5,-359 523.5,-353 523.5,-353 523.5,-309 523.5,-309 523.5,-303 529.5,-297 535.5,-297 535.5,-297 635.5,-297 635.5,-297 641.5,-297 647.5,-303 647.5,-309 647.5,-309 647.5,-353 647.5,-353 647.5,-359 641.5,-365 635.5,-365\"/>\n<text text-anchor=\"middle\" x=\"585.5\" y=\"-349.8\" font-family=\"Helvetica,sans-Serif\" font-size=\"14.00\" fill=\"#000000\">gname &lt;= 48.5</text>\n<text text-anchor=\"middle\" x=\"585.5\" y=\"-334.8\" font-family=\"Helvetica,sans-Serif\" font-size=\"14.00\" fill=\"#000000\">gini = 0.121</text>\n<text text-anchor=\"middle\" x=\"585.5\" y=\"-319.8\" font-family=\"Helvetica,sans-Serif\" font-size=\"14.00\" fill=\"#000000\">samples = 771</text>\n<text text-anchor=\"middle\" x=\"585.5\" y=\"-304.8\" font-family=\"Helvetica,sans-Serif\" font-size=\"14.00\" fill=\"#000000\">value = [50, 721]</text>\n</g>\n<!-- 1&#45;&gt;3 -->\n<g id=\"edge3\" class=\"edge\">\n<title>1&#45;&gt;3</title>\n<path fill=\"none\" stroke=\"#000000\" d=\"M585.5,-400.9465C585.5,-392.776 585.5,-383.9318 585.5,-375.3697\"/>\n<polygon fill=\"#000000\" stroke=\"#000000\" points=\"589.0001,-375.13 585.5,-365.13 582.0001,-375.13 589.0001,-375.13\"/>\n</g>\n<!-- 4 -->\n<g id=\"node5\" class=\"node\">\n<title>4</title>\n<path fill=\"#41a1e6\" stroke=\"#000000\" d=\"M403.5,-261C403.5,-261 303.5,-261 303.5,-261 297.5,-261 291.5,-255 291.5,-249 291.5,-249 291.5,-205 291.5,-205 291.5,-199 297.5,-193 303.5,-193 303.5,-193 403.5,-193 403.5,-193 409.5,-193 415.5,-199 415.5,-205 415.5,-205 415.5,-249 415.5,-249 415.5,-255 409.5,-261 403.5,-261\"/>\n<text text-anchor=\"middle\" x=\"353.5\" y=\"-245.8\" font-family=\"Helvetica,sans-Serif\" font-size=\"14.00\" fill=\"#000000\">iyear &lt;= 1987.5</text>\n<text text-anchor=\"middle\" x=\"353.5\" y=\"-230.8\" font-family=\"Helvetica,sans-Serif\" font-size=\"14.00\" fill=\"#000000\">gini = 0.076</text>\n<text text-anchor=\"middle\" x=\"353.5\" y=\"-215.8\" font-family=\"Helvetica,sans-Serif\" font-size=\"14.00\" fill=\"#000000\">samples = 507</text>\n<text text-anchor=\"middle\" x=\"353.5\" y=\"-200.8\" font-family=\"Helvetica,sans-Serif\" font-size=\"14.00\" fill=\"#000000\">value = [20, 487]</text>\n</g>\n<!-- 3&#45;&gt;4 -->\n<g id=\"edge4\" class=\"edge\">\n<title>3&#45;&gt;4</title>\n<path fill=\"none\" stroke=\"#000000\" d=\"M523.2223,-301.0189C520.278,-299.6512 517.3594,-298.3057 514.5,-297 485.3561,-283.6916 453.0008,-269.5102 424.9851,-257.4165\"/>\n<polygon fill=\"#000000\" stroke=\"#000000\" points=\"426.2302,-254.142 415.6614,-253.3995 423.4604,-260.5707 426.2302,-254.142\"/>\n</g>\n<!-- 11 -->\n<g id=\"node12\" class=\"node\">\n<title>11</title>\n<path fill=\"#52aae8\" stroke=\"#000000\" d=\"M635.5,-261C635.5,-261 535.5,-261 535.5,-261 529.5,-261 523.5,-255 523.5,-249 523.5,-249 523.5,-205 523.5,-205 523.5,-199 529.5,-193 535.5,-193 535.5,-193 635.5,-193 635.5,-193 641.5,-193 647.5,-199 647.5,-205 647.5,-205 647.5,-249 647.5,-249 647.5,-255 641.5,-261 635.5,-261\"/>\n<text text-anchor=\"middle\" x=\"585.5\" y=\"-245.8\" font-family=\"Helvetica,sans-Serif\" font-size=\"14.00\" fill=\"#000000\">gname &lt;= 59.5</text>\n<text text-anchor=\"middle\" x=\"585.5\" y=\"-230.8\" font-family=\"Helvetica,sans-Serif\" font-size=\"14.00\" fill=\"#000000\">gini = 0.201</text>\n<text text-anchor=\"middle\" x=\"585.5\" y=\"-215.8\" font-family=\"Helvetica,sans-Serif\" font-size=\"14.00\" fill=\"#000000\">samples = 264</text>\n<text text-anchor=\"middle\" x=\"585.5\" y=\"-200.8\" font-family=\"Helvetica,sans-Serif\" font-size=\"14.00\" fill=\"#000000\">value = [30, 234]</text>\n</g>\n<!-- 3&#45;&gt;11 -->\n<g id=\"edge11\" class=\"edge\">\n<title>3&#45;&gt;11</title>\n<path fill=\"none\" stroke=\"#000000\" d=\"M585.5,-296.9465C585.5,-288.776 585.5,-279.9318 585.5,-271.3697\"/>\n<polygon fill=\"#000000\" stroke=\"#000000\" points=\"589.0001,-271.13 585.5,-261.13 582.0001,-271.13 589.0001,-271.13\"/>\n</g>\n<!-- 5 -->\n<g id=\"node6\" class=\"node\">\n<title>5</title>\n<path fill=\"#3b9ee5\" stroke=\"#000000\" d=\"M229.5,-157C229.5,-157 137.5,-157 137.5,-157 131.5,-157 125.5,-151 125.5,-145 125.5,-145 125.5,-101 125.5,-101 125.5,-95 131.5,-89 137.5,-89 137.5,-89 229.5,-89 229.5,-89 235.5,-89 241.5,-95 241.5,-101 241.5,-101 241.5,-145 241.5,-145 241.5,-151 235.5,-157 229.5,-157\"/>\n<text text-anchor=\"middle\" x=\"183.5\" y=\"-141.8\" font-family=\"Helvetica,sans-Serif\" font-size=\"14.00\" fill=\"#000000\">gname &lt;= 3.5</text>\n<text text-anchor=\"middle\" x=\"183.5\" y=\"-126.8\" font-family=\"Helvetica,sans-Serif\" font-size=\"14.00\" fill=\"#000000\">gini = 0.021</text>\n<text text-anchor=\"middle\" x=\"183.5\" y=\"-111.8\" font-family=\"Helvetica,sans-Serif\" font-size=\"14.00\" fill=\"#000000\">samples = 282</text>\n<text text-anchor=\"middle\" x=\"183.5\" y=\"-96.8\" font-family=\"Helvetica,sans-Serif\" font-size=\"14.00\" fill=\"#000000\">value = [3, 279]</text>\n</g>\n<!-- 4&#45;&gt;5 -->\n<g id=\"edge5\" class=\"edge\">\n<title>4&#45;&gt;5</title>\n<path fill=\"none\" stroke=\"#000000\" d=\"M297.8356,-192.9465C281.9851,-183.2497 264.5832,-172.6039 248.2421,-162.6069\"/>\n<polygon fill=\"#000000\" stroke=\"#000000\" points=\"249.6463,-159.363 239.2894,-157.13 245.9933,-165.3342 249.6463,-159.363\"/>\n</g>\n<!-- 8 -->\n<g id=\"node9\" class=\"node\">\n<title>8</title>\n<path fill=\"#49a5e7\" stroke=\"#000000\" d=\"M403.5,-157C403.5,-157 303.5,-157 303.5,-157 297.5,-157 291.5,-151 291.5,-145 291.5,-145 291.5,-101 291.5,-101 291.5,-95 297.5,-89 303.5,-89 303.5,-89 403.5,-89 403.5,-89 409.5,-89 415.5,-95 415.5,-101 415.5,-101 415.5,-145 415.5,-145 415.5,-151 409.5,-157 403.5,-157\"/>\n<text text-anchor=\"middle\" x=\"353.5\" y=\"-141.8\" font-family=\"Helvetica,sans-Serif\" font-size=\"14.00\" fill=\"#000000\">iyear &lt;= 1993.0</text>\n<text text-anchor=\"middle\" x=\"353.5\" y=\"-126.8\" font-family=\"Helvetica,sans-Serif\" font-size=\"14.00\" fill=\"#000000\">gini = 0.14</text>\n<text text-anchor=\"middle\" x=\"353.5\" y=\"-111.8\" font-family=\"Helvetica,sans-Serif\" font-size=\"14.00\" fill=\"#000000\">samples = 225</text>\n<text text-anchor=\"middle\" x=\"353.5\" y=\"-96.8\" font-family=\"Helvetica,sans-Serif\" font-size=\"14.00\" fill=\"#000000\">value = [17, 208]</text>\n</g>\n<!-- 4&#45;&gt;8 -->\n<g id=\"edge8\" class=\"edge\">\n<title>4&#45;&gt;8</title>\n<path fill=\"none\" stroke=\"#000000\" d=\"M353.5,-192.9465C353.5,-184.776 353.5,-175.9318 353.5,-167.3697\"/>\n<polygon fill=\"#000000\" stroke=\"#000000\" points=\"357.0001,-167.13 353.5,-157.13 350.0001,-167.13 357.0001,-167.13\"/>\n</g>\n<!-- 6 -->\n<g id=\"node7\" class=\"node\">\n<title>6</title>\n<path fill=\"#53aae8\" stroke=\"#000000\" d=\"M95,-53C95,-53 12,-53 12,-53 6,-53 0,-47 0,-41 0,-41 0,-12 0,-12 0,-6 6,0 12,0 12,0 95,0 95,0 101,0 107,-6 107,-12 107,-12 107,-41 107,-41 107,-47 101,-53 95,-53\"/>\n<text text-anchor=\"middle\" x=\"53.5\" y=\"-37.8\" font-family=\"Helvetica,sans-Serif\" font-size=\"14.00\" fill=\"#000000\">gini = 0.208</text>\n<text text-anchor=\"middle\" x=\"53.5\" y=\"-22.8\" font-family=\"Helvetica,sans-Serif\" font-size=\"14.00\" fill=\"#000000\">samples = 17</text>\n<text text-anchor=\"middle\" x=\"53.5\" y=\"-7.8\" font-family=\"Helvetica,sans-Serif\" font-size=\"14.00\" fill=\"#000000\">value = [2, 15]</text>\n</g>\n<!-- 5&#45;&gt;6 -->\n<g id=\"edge6\" class=\"edge\">\n<title>5&#45;&gt;6</title>\n<path fill=\"none\" stroke=\"#000000\" d=\"M137.6669,-88.9777C124.7143,-79.3629 110.6465,-68.9203 97.7867,-59.3743\"/>\n<polygon fill=\"#000000\" stroke=\"#000000\" points=\"99.6499,-56.3986 89.5342,-53.2485 95.4776,-62.0193 99.6499,-56.3986\"/>\n</g>\n<!-- 7 -->\n<g id=\"node8\" class=\"node\">\n<title>7</title>\n<path fill=\"#3a9de5\" stroke=\"#000000\" d=\"M229.5,-53C229.5,-53 137.5,-53 137.5,-53 131.5,-53 125.5,-47 125.5,-41 125.5,-41 125.5,-12 125.5,-12 125.5,-6 131.5,0 137.5,0 137.5,0 229.5,0 229.5,0 235.5,0 241.5,-6 241.5,-12 241.5,-12 241.5,-41 241.5,-41 241.5,-47 235.5,-53 229.5,-53\"/>\n<text text-anchor=\"middle\" x=\"183.5\" y=\"-37.8\" font-family=\"Helvetica,sans-Serif\" font-size=\"14.00\" fill=\"#000000\">gini = 0.008</text>\n<text text-anchor=\"middle\" x=\"183.5\" y=\"-22.8\" font-family=\"Helvetica,sans-Serif\" font-size=\"14.00\" fill=\"#000000\">samples = 265</text>\n<text text-anchor=\"middle\" x=\"183.5\" y=\"-7.8\" font-family=\"Helvetica,sans-Serif\" font-size=\"14.00\" fill=\"#000000\">value = [1, 264]</text>\n</g>\n<!-- 5&#45;&gt;7 -->\n<g id=\"edge7\" class=\"edge\">\n<title>5&#45;&gt;7</title>\n<path fill=\"none\" stroke=\"#000000\" d=\"M183.5,-88.9777C183.5,-80.7364 183.5,-71.887 183.5,-63.5153\"/>\n<polygon fill=\"#000000\" stroke=\"#000000\" points=\"187.0001,-63.2484 183.5,-53.2485 180.0001,-63.2485 187.0001,-63.2484\"/>\n</g>\n<!-- 9 -->\n<g id=\"node10\" class=\"node\">\n<title>9</title>\n<path fill=\"#5aade9\" stroke=\"#000000\" d=\"M363.5,-53C363.5,-53 271.5,-53 271.5,-53 265.5,-53 259.5,-47 259.5,-41 259.5,-41 259.5,-12 259.5,-12 259.5,-6 265.5,0 271.5,0 271.5,0 363.5,0 363.5,0 369.5,0 375.5,-6 375.5,-12 375.5,-12 375.5,-41 375.5,-41 375.5,-47 369.5,-53 363.5,-53\"/>\n<text text-anchor=\"middle\" x=\"317.5\" y=\"-37.8\" font-family=\"Helvetica,sans-Serif\" font-size=\"14.00\" fill=\"#000000\">gini = 0.245</text>\n<text text-anchor=\"middle\" x=\"317.5\" y=\"-22.8\" font-family=\"Helvetica,sans-Serif\" font-size=\"14.00\" fill=\"#000000\">samples = 98</text>\n<text text-anchor=\"middle\" x=\"317.5\" y=\"-7.8\" font-family=\"Helvetica,sans-Serif\" font-size=\"14.00\" fill=\"#000000\">value = [14, 84]</text>\n</g>\n<!-- 8&#45;&gt;9 -->\n<g id=\"edge9\" class=\"edge\">\n<title>8&#45;&gt;9</title>\n<path fill=\"none\" stroke=\"#000000\" d=\"M340.8077,-88.9777C337.6308,-80.4617 334.2116,-71.2963 330.9971,-62.6798\"/>\n<polygon fill=\"#000000\" stroke=\"#000000\" points=\"334.2533,-61.3944 327.4787,-53.2485 327.6948,-63.8411 334.2533,-61.3944\"/>\n</g>\n<!-- 10 -->\n<g id=\"node11\" class=\"node\">\n<title>10</title>\n<path fill=\"#3e9fe6\" stroke=\"#000000\" d=\"M497.5,-53C497.5,-53 405.5,-53 405.5,-53 399.5,-53 393.5,-47 393.5,-41 393.5,-41 393.5,-12 393.5,-12 393.5,-6 399.5,0 405.5,0 405.5,0 497.5,0 497.5,0 503.5,0 509.5,-6 509.5,-12 509.5,-12 509.5,-41 509.5,-41 509.5,-47 503.5,-53 497.5,-53\"/>\n<text text-anchor=\"middle\" x=\"451.5\" y=\"-37.8\" font-family=\"Helvetica,sans-Serif\" font-size=\"14.00\" fill=\"#000000\">gini = 0.046</text>\n<text text-anchor=\"middle\" x=\"451.5\" y=\"-22.8\" font-family=\"Helvetica,sans-Serif\" font-size=\"14.00\" fill=\"#000000\">samples = 127</text>\n<text text-anchor=\"middle\" x=\"451.5\" y=\"-7.8\" font-family=\"Helvetica,sans-Serif\" font-size=\"14.00\" fill=\"#000000\">value = [3, 124]</text>\n</g>\n<!-- 8&#45;&gt;10 -->\n<g id=\"edge10\" class=\"edge\">\n<title>8&#45;&gt;10</title>\n<path fill=\"none\" stroke=\"#000000\" d=\"M388.0511,-88.9777C397.4434,-79.7292 407.6136,-69.7147 417.0029,-60.4691\"/>\n<polygon fill=\"#000000\" stroke=\"#000000\" points=\"419.6661,-62.7587 424.3357,-53.2485 414.7546,-57.7709 419.6661,-62.7587\"/>\n</g>\n<!-- 12 -->\n<g id=\"node13\" class=\"node\">\n<title>12</title>\n<path fill=\"#8bc6f0\" stroke=\"#000000\" d=\"M560,-149.5C560,-149.5 477,-149.5 477,-149.5 471,-149.5 465,-143.5 465,-137.5 465,-137.5 465,-108.5 465,-108.5 465,-102.5 471,-96.5 477,-96.5 477,-96.5 560,-96.5 560,-96.5 566,-96.5 572,-102.5 572,-108.5 572,-108.5 572,-137.5 572,-137.5 572,-143.5 566,-149.5 560,-149.5\"/>\n<text text-anchor=\"middle\" x=\"518.5\" y=\"-134.3\" font-family=\"Helvetica,sans-Serif\" font-size=\"14.00\" fill=\"#000000\">gini = 0.415</text>\n<text text-anchor=\"middle\" x=\"518.5\" y=\"-119.3\" font-family=\"Helvetica,sans-Serif\" font-size=\"14.00\" fill=\"#000000\">samples = 17</text>\n<text text-anchor=\"middle\" x=\"518.5\" y=\"-104.3\" font-family=\"Helvetica,sans-Serif\" font-size=\"14.00\" fill=\"#000000\">value = [5, 12]</text>\n</g>\n<!-- 11&#45;&gt;12 -->\n<g id=\"edge12\" class=\"edge\">\n<title>11&#45;&gt;12</title>\n<path fill=\"none\" stroke=\"#000000\" d=\"M563.5617,-192.9465C556.3946,-181.8215 548.4227,-169.4473 541.2007,-158.237\"/>\n<polygon fill=\"#000000\" stroke=\"#000000\" points=\"543.9574,-156.0532 535.5993,-149.5422 538.0728,-159.8442 543.9574,-156.0532\"/>\n</g>\n<!-- 13 -->\n<g id=\"node14\" class=\"node\">\n<title>13</title>\n<path fill=\"#4fa8e8\" stroke=\"#000000\" d=\"M702.5,-157C702.5,-157 602.5,-157 602.5,-157 596.5,-157 590.5,-151 590.5,-145 590.5,-145 590.5,-101 590.5,-101 590.5,-95 596.5,-89 602.5,-89 602.5,-89 702.5,-89 702.5,-89 708.5,-89 714.5,-95 714.5,-101 714.5,-101 714.5,-145 714.5,-145 714.5,-151 708.5,-157 702.5,-157\"/>\n<text text-anchor=\"middle\" x=\"652.5\" y=\"-141.8\" font-family=\"Helvetica,sans-Serif\" font-size=\"14.00\" fill=\"#000000\">targtype1 &lt;= 1.5</text>\n<text text-anchor=\"middle\" x=\"652.5\" y=\"-126.8\" font-family=\"Helvetica,sans-Serif\" font-size=\"14.00\" fill=\"#000000\">gini = 0.182</text>\n<text text-anchor=\"middle\" x=\"652.5\" y=\"-111.8\" font-family=\"Helvetica,sans-Serif\" font-size=\"14.00\" fill=\"#000000\">samples = 247</text>\n<text text-anchor=\"middle\" x=\"652.5\" y=\"-96.8\" font-family=\"Helvetica,sans-Serif\" font-size=\"14.00\" fill=\"#000000\">value = [25, 222]</text>\n</g>\n<!-- 11&#45;&gt;13 -->\n<g id=\"edge13\" class=\"edge\">\n<title>11&#45;&gt;13</title>\n<path fill=\"none\" stroke=\"#000000\" d=\"M607.4383,-192.9465C613.049,-184.2373 619.1529,-174.7626 625.0042,-165.6801\"/>\n<polygon fill=\"#000000\" stroke=\"#000000\" points=\"628.0389,-167.4321 630.5124,-157.13 622.1543,-163.641 628.0389,-167.4321\"/>\n</g>\n<!-- 14 -->\n<g id=\"node15\" class=\"node\">\n<title>14</title>\n<path fill=\"#42a2e6\" stroke=\"#000000\" d=\"M623,-53C623,-53 540,-53 540,-53 534,-53 528,-47 528,-41 528,-41 528,-12 528,-12 528,-6 534,0 540,0 540,0 623,0 623,0 629,0 635,-6 635,-12 635,-12 635,-41 635,-41 635,-47 629,-53 623,-53\"/>\n<text text-anchor=\"middle\" x=\"581.5\" y=\"-37.8\" font-family=\"Helvetica,sans-Serif\" font-size=\"14.00\" fill=\"#000000\">gini = 0.085</text>\n<text text-anchor=\"middle\" x=\"581.5\" y=\"-22.8\" font-family=\"Helvetica,sans-Serif\" font-size=\"14.00\" fill=\"#000000\">samples = 45</text>\n<text text-anchor=\"middle\" x=\"581.5\" y=\"-7.8\" font-family=\"Helvetica,sans-Serif\" font-size=\"14.00\" fill=\"#000000\">value = [2, 43]</text>\n</g>\n<!-- 13&#45;&gt;14 -->\n<g id=\"edge14\" class=\"edge\">\n<title>13&#45;&gt;14</title>\n<path fill=\"none\" stroke=\"#000000\" d=\"M627.4681,-88.9777C620.9329,-80.0954 613.878,-70.5067 607.3036,-61.5711\"/>\n<polygon fill=\"#000000\" stroke=\"#000000\" points=\"609.9257,-59.229 601.1802,-53.2485 604.2874,-63.3775 609.9257,-59.229\"/>\n</g>\n<!-- 15 -->\n<g id=\"node16\" class=\"node\">\n<title>15</title>\n<path fill=\"#52aae8\" stroke=\"#000000\" d=\"M765.5,-53C765.5,-53 665.5,-53 665.5,-53 659.5,-53 653.5,-47 653.5,-41 653.5,-41 653.5,-12 653.5,-12 653.5,-6 659.5,0 665.5,0 665.5,0 765.5,0 765.5,0 771.5,0 777.5,-6 777.5,-12 777.5,-12 777.5,-41 777.5,-41 777.5,-47 771.5,-53 765.5,-53\"/>\n<text text-anchor=\"middle\" x=\"715.5\" y=\"-37.8\" font-family=\"Helvetica,sans-Serif\" font-size=\"14.00\" fill=\"#000000\">gini = 0.202</text>\n<text text-anchor=\"middle\" x=\"715.5\" y=\"-22.8\" font-family=\"Helvetica,sans-Serif\" font-size=\"14.00\" fill=\"#000000\">samples = 202</text>\n<text text-anchor=\"middle\" x=\"715.5\" y=\"-7.8\" font-family=\"Helvetica,sans-Serif\" font-size=\"14.00\" fill=\"#000000\">value = [23, 179]</text>\n</g>\n<!-- 13&#45;&gt;15 -->\n<g id=\"edge15\" class=\"edge\">\n<title>13&#45;&gt;15</title>\n<path fill=\"none\" stroke=\"#000000\" d=\"M674.7114,-88.9777C680.4504,-80.187 686.6412,-70.7044 692.4233,-61.8477\"/>\n<polygon fill=\"#000000\" stroke=\"#000000\" points=\"695.5013,-63.5354 698.0373,-53.2485 689.6398,-59.7087 695.5013,-63.5354\"/>\n</g>\n<!-- 17 -->\n<g id=\"node18\" class=\"node\">\n<title>17</title>\n<path fill=\"#a9d5f4\" stroke=\"#000000\" d=\"M1388.5,-365C1388.5,-365 1272.5,-365 1272.5,-365 1266.5,-365 1260.5,-359 1260.5,-353 1260.5,-353 1260.5,-309 1260.5,-309 1260.5,-303 1266.5,-297 1272.5,-297 1272.5,-297 1388.5,-297 1388.5,-297 1394.5,-297 1400.5,-303 1400.5,-309 1400.5,-309 1400.5,-353 1400.5,-353 1400.5,-359 1394.5,-365 1388.5,-365\"/>\n<text text-anchor=\"middle\" x=\"1330.5\" y=\"-349.8\" font-family=\"Helvetica,sans-Serif\" font-size=\"14.00\" fill=\"#000000\">targtype1 &lt;= 5.0</text>\n<text text-anchor=\"middle\" x=\"1330.5\" y=\"-334.8\" font-family=\"Helvetica,sans-Serif\" font-size=\"14.00\" fill=\"#000000\">gini = 0.462</text>\n<text text-anchor=\"middle\" x=\"1330.5\" y=\"-319.8\" font-family=\"Helvetica,sans-Serif\" font-size=\"14.00\" fill=\"#000000\">samples = 2407</text>\n<text text-anchor=\"middle\" x=\"1330.5\" y=\"-304.8\" font-family=\"Helvetica,sans-Serif\" font-size=\"14.00\" fill=\"#000000\">value = [871, 1536]</text>\n</g>\n<!-- 16&#45;&gt;17 -->\n<g id=\"edge17\" class=\"edge\">\n<title>16&#45;&gt;17</title>\n<path fill=\"none\" stroke=\"#000000\" d=\"M1330.5,-400.9465C1330.5,-392.776 1330.5,-383.9318 1330.5,-375.3697\"/>\n<polygon fill=\"#000000\" stroke=\"#000000\" points=\"1334.0001,-375.13 1330.5,-365.13 1327.0001,-375.13 1334.0001,-375.13\"/>\n</g>\n<!-- 32 -->\n<g id=\"node33\" class=\"node\">\n<title>32</title>\n<path fill=\"#f9e0ce\" stroke=\"#000000\" d=\"M2251,-365C2251,-365 2126,-365 2126,-365 2120,-365 2114,-359 2114,-353 2114,-353 2114,-309 2114,-309 2114,-303 2120,-297 2126,-297 2126,-297 2251,-297 2251,-297 2257,-297 2263,-303 2263,-309 2263,-309 2263,-353 2263,-353 2263,-359 2257,-365 2251,-365\"/>\n<text text-anchor=\"middle\" x=\"2188.5\" y=\"-349.8\" font-family=\"Helvetica,sans-Serif\" font-size=\"14.00\" fill=\"#000000\">extended &lt;= 0.5</text>\n<text text-anchor=\"middle\" x=\"2188.5\" y=\"-334.8\" font-family=\"Helvetica,sans-Serif\" font-size=\"14.00\" fill=\"#000000\">gini = 0.49</text>\n<text text-anchor=\"middle\" x=\"2188.5\" y=\"-319.8\" font-family=\"Helvetica,sans-Serif\" font-size=\"14.00\" fill=\"#000000\">samples = 2459</text>\n<text text-anchor=\"middle\" x=\"2188.5\" y=\"-304.8\" font-family=\"Helvetica,sans-Serif\" font-size=\"14.00\" fill=\"#000000\">value = [1405, 1054]</text>\n</g>\n<!-- 16&#45;&gt;32 -->\n<g id=\"edge32\" class=\"edge\">\n<title>16&#45;&gt;32</title>\n<path fill=\"none\" stroke=\"#000000\" d=\"M1405.1409,-425.9526C1564.2598,-406.6655 1935.9621,-361.6107 2103.7056,-341.2781\"/>\n<polygon fill=\"#000000\" stroke=\"#000000\" points=\"2104.2208,-344.7414 2113.7269,-340.0634 2103.3784,-337.7922 2104.2208,-344.7414\"/>\n</g>\n<!-- 18 -->\n<g id=\"node19\" class=\"node\">\n<title>18</title>\n<path fill=\"#c9e4f8\" stroke=\"#000000\" d=\"M1278.5,-261C1278.5,-261 1170.5,-261 1170.5,-261 1164.5,-261 1158.5,-255 1158.5,-249 1158.5,-249 1158.5,-205 1158.5,-205 1158.5,-199 1164.5,-193 1170.5,-193 1170.5,-193 1278.5,-193 1278.5,-193 1284.5,-193 1290.5,-199 1290.5,-205 1290.5,-205 1290.5,-249 1290.5,-249 1290.5,-255 1284.5,-261 1278.5,-261\"/>\n<text text-anchor=\"middle\" x=\"1224.5\" y=\"-245.8\" font-family=\"Helvetica,sans-Serif\" font-size=\"14.00\" fill=\"#000000\">targtype1 &lt;= 2.5</text>\n<text text-anchor=\"middle\" x=\"1224.5\" y=\"-230.8\" font-family=\"Helvetica,sans-Serif\" font-size=\"14.00\" fill=\"#000000\">gini = 0.488</text>\n<text text-anchor=\"middle\" x=\"1224.5\" y=\"-215.8\" font-family=\"Helvetica,sans-Serif\" font-size=\"14.00\" fill=\"#000000\">samples = 1719</text>\n<text text-anchor=\"middle\" x=\"1224.5\" y=\"-200.8\" font-family=\"Helvetica,sans-Serif\" font-size=\"14.00\" fill=\"#000000\">value = [724, 995]</text>\n</g>\n<!-- 17&#45;&gt;18 -->\n<g id=\"edge18\" class=\"edge\">\n<title>17&#45;&gt;18</title>\n<path fill=\"none\" stroke=\"#000000\" d=\"M1295.7916,-296.9465C1286.4574,-287.7884 1276.2604,-277.7838 1266.5727,-268.2788\"/>\n<polygon fill=\"#000000\" stroke=\"#000000\" points=\"1268.8757,-265.6351 1259.2863,-261.13 1263.9733,-270.6318 1268.8757,-265.6351\"/>\n</g>\n<!-- 25 -->\n<g id=\"node26\" class=\"node\">\n<title>25</title>\n<path fill=\"#6fb8ec\" stroke=\"#000000\" d=\"M1547.5,-261C1547.5,-261 1439.5,-261 1439.5,-261 1433.5,-261 1427.5,-255 1427.5,-249 1427.5,-249 1427.5,-205 1427.5,-205 1427.5,-199 1433.5,-193 1439.5,-193 1439.5,-193 1547.5,-193 1547.5,-193 1553.5,-193 1559.5,-199 1559.5,-205 1559.5,-205 1559.5,-249 1559.5,-249 1559.5,-255 1553.5,-261 1547.5,-261\"/>\n<text text-anchor=\"middle\" x=\"1493.5\" y=\"-245.8\" font-family=\"Helvetica,sans-Serif\" font-size=\"14.00\" fill=\"#000000\">targtype1 &lt;= 7.5</text>\n<text text-anchor=\"middle\" x=\"1493.5\" y=\"-230.8\" font-family=\"Helvetica,sans-Serif\" font-size=\"14.00\" fill=\"#000000\">gini = 0.336</text>\n<text text-anchor=\"middle\" x=\"1493.5\" y=\"-215.8\" font-family=\"Helvetica,sans-Serif\" font-size=\"14.00\" fill=\"#000000\">samples = 688</text>\n<text text-anchor=\"middle\" x=\"1493.5\" y=\"-200.8\" font-family=\"Helvetica,sans-Serif\" font-size=\"14.00\" fill=\"#000000\">value = [147, 541]</text>\n</g>\n<!-- 17&#45;&gt;25 -->\n<g id=\"edge25\" class=\"edge\">\n<title>17&#45;&gt;25</title>\n<path fill=\"none\" stroke=\"#000000\" d=\"M1383.8723,-296.9465C1399.0702,-287.2497 1415.7555,-276.6039 1431.4237,-266.6069\"/>\n<polygon fill=\"#000000\" stroke=\"#000000\" points=\"1433.4602,-269.4594 1440.0078,-261.13 1429.695,-263.5582 1433.4602,-269.4594\"/>\n</g>\n<!-- 19 -->\n<g id=\"node20\" class=\"node\">\n<title>19</title>\n<path fill=\"#92c9f1\" stroke=\"#000000\" d=\"M1065.5,-157C1065.5,-157 957.5,-157 957.5,-157 951.5,-157 945.5,-151 945.5,-145 945.5,-145 945.5,-101 945.5,-101 945.5,-95 951.5,-89 957.5,-89 957.5,-89 1065.5,-89 1065.5,-89 1071.5,-89 1077.5,-95 1077.5,-101 1077.5,-101 1077.5,-145 1077.5,-145 1077.5,-151 1071.5,-157 1065.5,-157\"/>\n<text text-anchor=\"middle\" x=\"1011.5\" y=\"-141.8\" font-family=\"Helvetica,sans-Serif\" font-size=\"14.00\" fill=\"#000000\">iyear &lt;= 2011.5</text>\n<text text-anchor=\"middle\" x=\"1011.5\" y=\"-126.8\" font-family=\"Helvetica,sans-Serif\" font-size=\"14.00\" fill=\"#000000\">gini = 0.428</text>\n<text text-anchor=\"middle\" x=\"1011.5\" y=\"-111.8\" font-family=\"Helvetica,sans-Serif\" font-size=\"14.00\" fill=\"#000000\">samples = 1027</text>\n<text text-anchor=\"middle\" x=\"1011.5\" y=\"-96.8\" font-family=\"Helvetica,sans-Serif\" font-size=\"14.00\" fill=\"#000000\">value = [319, 708]</text>\n</g>\n<!-- 18&#45;&gt;19 -->\n<g id=\"edge19\" class=\"edge\">\n<title>18&#45;&gt;19</title>\n<path fill=\"none\" stroke=\"#000000\" d=\"M1158.273,-194.6638C1135.6327,-183.6094 1110.1447,-171.1645 1086.8396,-159.7855\"/>\n<polygon fill=\"#000000\" stroke=\"#000000\" points=\"1088.2077,-156.5587 1077.686,-155.3162 1085.1364,-162.8489 1088.2077,-156.5587\"/>\n</g>\n<!-- 22 -->\n<g id=\"node23\" class=\"node\">\n<title>22</title>\n<path fill=\"#f7dac5\" stroke=\"#000000\" d=\"M1278.5,-157C1278.5,-157 1170.5,-157 1170.5,-157 1164.5,-157 1158.5,-151 1158.5,-145 1158.5,-145 1158.5,-101 1158.5,-101 1158.5,-95 1164.5,-89 1170.5,-89 1170.5,-89 1278.5,-89 1278.5,-89 1284.5,-89 1290.5,-95 1290.5,-101 1290.5,-101 1290.5,-145 1290.5,-145 1290.5,-151 1284.5,-157 1278.5,-157\"/>\n<text text-anchor=\"middle\" x=\"1224.5\" y=\"-141.8\" font-family=\"Helvetica,sans-Serif\" font-size=\"14.00\" fill=\"#000000\">region &lt;= 5.5</text>\n<text text-anchor=\"middle\" x=\"1224.5\" y=\"-126.8\" font-family=\"Helvetica,sans-Serif\" font-size=\"14.00\" fill=\"#000000\">gini = 0.485</text>\n<text text-anchor=\"middle\" x=\"1224.5\" y=\"-111.8\" font-family=\"Helvetica,sans-Serif\" font-size=\"14.00\" fill=\"#000000\">samples = 692</text>\n<text text-anchor=\"middle\" x=\"1224.5\" y=\"-96.8\" font-family=\"Helvetica,sans-Serif\" font-size=\"14.00\" fill=\"#000000\">value = [405, 287]</text>\n</g>\n<!-- 18&#45;&gt;22 -->\n<g id=\"edge22\" class=\"edge\">\n<title>18&#45;&gt;22</title>\n<path fill=\"none\" stroke=\"#000000\" d=\"M1224.5,-192.9465C1224.5,-184.776 1224.5,-175.9318 1224.5,-167.3697\"/>\n<polygon fill=\"#000000\" stroke=\"#000000\" points=\"1228.0001,-167.13 1224.5,-157.13 1221.0001,-167.13 1228.0001,-167.13\"/>\n</g>\n<!-- 20 -->\n<g id=\"node21\" class=\"node\">\n<title>20</title>\n<path fill=\"#d3e9f9\" stroke=\"#000000\" d=\"M915.5,-53C915.5,-53 807.5,-53 807.5,-53 801.5,-53 795.5,-47 795.5,-41 795.5,-41 795.5,-12 795.5,-12 795.5,-6 801.5,0 807.5,0 807.5,0 915.5,0 915.5,0 921.5,0 927.5,-6 927.5,-12 927.5,-12 927.5,-41 927.5,-41 927.5,-47 921.5,-53 915.5,-53\"/>\n<text text-anchor=\"middle\" x=\"861.5\" y=\"-37.8\" font-family=\"Helvetica,sans-Serif\" font-size=\"14.00\" fill=\"#000000\">gini = 0.492</text>\n<text text-anchor=\"middle\" x=\"861.5\" y=\"-22.8\" font-family=\"Helvetica,sans-Serif\" font-size=\"14.00\" fill=\"#000000\">samples = 295</text>\n<text text-anchor=\"middle\" x=\"861.5\" y=\"-7.8\" font-family=\"Helvetica,sans-Serif\" font-size=\"14.00\" fill=\"#000000\">value = [129, 166]</text>\n</g>\n<!-- 19&#45;&gt;20 -->\n<g id=\"edge20\" class=\"edge\">\n<title>19&#45;&gt;20</title>\n<path fill=\"none\" stroke=\"#000000\" d=\"M958.6156,-88.9777C943.3856,-79.1798 926.8194,-68.5222 911.7536,-58.8298\"/>\n<polygon fill=\"#000000\" stroke=\"#000000\" points=\"913.3816,-55.7154 903.0779,-53.2485 909.5943,-61.6024 913.3816,-55.7154\"/>\n</g>\n<!-- 21 -->\n<g id=\"node22\" class=\"node\">\n<title>21</title>\n<path fill=\"#7ebfee\" stroke=\"#000000\" d=\"M1065.5,-53C1065.5,-53 957.5,-53 957.5,-53 951.5,-53 945.5,-47 945.5,-41 945.5,-41 945.5,-12 945.5,-12 945.5,-6 951.5,0 957.5,0 957.5,0 1065.5,0 1065.5,0 1071.5,0 1077.5,-6 1077.5,-12 1077.5,-12 1077.5,-41 1077.5,-41 1077.5,-47 1071.5,-53 1065.5,-53\"/>\n<text text-anchor=\"middle\" x=\"1011.5\" y=\"-37.8\" font-family=\"Helvetica,sans-Serif\" font-size=\"14.00\" fill=\"#000000\">gini = 0.384</text>\n<text text-anchor=\"middle\" x=\"1011.5\" y=\"-22.8\" font-family=\"Helvetica,sans-Serif\" font-size=\"14.00\" fill=\"#000000\">samples = 732</text>\n<text text-anchor=\"middle\" x=\"1011.5\" y=\"-7.8\" font-family=\"Helvetica,sans-Serif\" font-size=\"14.00\" fill=\"#000000\">value = [190, 542]</text>\n</g>\n<!-- 19&#45;&gt;21 -->\n<g id=\"edge21\" class=\"edge\">\n<title>19&#45;&gt;21</title>\n<path fill=\"none\" stroke=\"#000000\" d=\"M1011.5,-88.9777C1011.5,-80.7364 1011.5,-71.887 1011.5,-63.5153\"/>\n<polygon fill=\"#000000\" stroke=\"#000000\" points=\"1015.0001,-63.2484 1011.5,-53.2485 1008.0001,-63.2485 1015.0001,-63.2484\"/>\n</g>\n<!-- 23 -->\n<g id=\"node24\" class=\"node\">\n<title>23</title>\n<path fill=\"#88c4ef\" stroke=\"#000000\" d=\"M1199.5,-53C1199.5,-53 1107.5,-53 1107.5,-53 1101.5,-53 1095.5,-47 1095.5,-41 1095.5,-41 1095.5,-12 1095.5,-12 1095.5,-6 1101.5,0 1107.5,0 1107.5,0 1199.5,0 1199.5,0 1205.5,0 1211.5,-6 1211.5,-12 1211.5,-12 1211.5,-41 1211.5,-41 1211.5,-47 1205.5,-53 1199.5,-53\"/>\n<text text-anchor=\"middle\" x=\"1153.5\" y=\"-37.8\" font-family=\"Helvetica,sans-Serif\" font-size=\"14.00\" fill=\"#000000\">gini = 0.407</text>\n<text text-anchor=\"middle\" x=\"1153.5\" y=\"-22.8\" font-family=\"Helvetica,sans-Serif\" font-size=\"14.00\" fill=\"#000000\">samples = 123</text>\n<text text-anchor=\"middle\" x=\"1153.5\" y=\"-7.8\" font-family=\"Helvetica,sans-Serif\" font-size=\"14.00\" fill=\"#000000\">value = [35, 88]</text>\n</g>\n<!-- 22&#45;&gt;23 -->\n<g id=\"edge23\" class=\"edge\">\n<title>22&#45;&gt;23</title>\n<path fill=\"none\" stroke=\"#000000\" d=\"M1199.4681,-88.9777C1192.9329,-80.0954 1185.878,-70.5067 1179.3036,-61.5711\"/>\n<polygon fill=\"#000000\" stroke=\"#000000\" points=\"1181.9257,-59.229 1173.1802,-53.2485 1176.2874,-63.3775 1181.9257,-59.229\"/>\n</g>\n<!-- 24 -->\n<g id=\"node25\" class=\"node\">\n<title>24</title>\n<path fill=\"#f3c5a3\" stroke=\"#000000\" d=\"M1349.5,-53C1349.5,-53 1241.5,-53 1241.5,-53 1235.5,-53 1229.5,-47 1229.5,-41 1229.5,-41 1229.5,-12 1229.5,-12 1229.5,-6 1235.5,0 1241.5,0 1241.5,0 1349.5,0 1349.5,0 1355.5,0 1361.5,-6 1361.5,-12 1361.5,-12 1361.5,-41 1361.5,-41 1361.5,-47 1355.5,-53 1349.5,-53\"/>\n<text text-anchor=\"middle\" x=\"1295.5\" y=\"-37.8\" font-family=\"Helvetica,sans-Serif\" font-size=\"14.00\" fill=\"#000000\">gini = 0.455</text>\n<text text-anchor=\"middle\" x=\"1295.5\" y=\"-22.8\" font-family=\"Helvetica,sans-Serif\" font-size=\"14.00\" fill=\"#000000\">samples = 569</text>\n<text text-anchor=\"middle\" x=\"1295.5\" y=\"-7.8\" font-family=\"Helvetica,sans-Serif\" font-size=\"14.00\" fill=\"#000000\">value = [370, 199]</text>\n</g>\n<!-- 22&#45;&gt;24 -->\n<g id=\"edge24\" class=\"edge\">\n<title>22&#45;&gt;24</title>\n<path fill=\"none\" stroke=\"#000000\" d=\"M1249.5319,-88.9777C1256.0671,-80.0954 1263.122,-70.5067 1269.6964,-61.5711\"/>\n<polygon fill=\"#000000\" stroke=\"#000000\" points=\"1272.7126,-63.3775 1275.8198,-53.2485 1267.0743,-59.229 1272.7126,-63.3775\"/>\n</g>\n<!-- 26 -->\n<g id=\"node27\" class=\"node\">\n<title>26</title>\n<path fill=\"#4ea8e8\" stroke=\"#000000\" d=\"M1544,-157C1544,-157 1443,-157 1443,-157 1437,-157 1431,-151 1431,-145 1431,-145 1431,-101 1431,-101 1431,-95 1437,-89 1443,-89 1443,-89 1544,-89 1544,-89 1550,-89 1556,-95 1556,-101 1556,-101 1556,-145 1556,-145 1556,-151 1550,-157 1544,-157\"/>\n<text text-anchor=\"middle\" x=\"1493.5\" y=\"-141.8\" font-family=\"Helvetica,sans-Serif\" font-size=\"14.00\" fill=\"#000000\">country &lt;= 190.5</text>\n<text text-anchor=\"middle\" x=\"1493.5\" y=\"-126.8\" font-family=\"Helvetica,sans-Serif\" font-size=\"14.00\" fill=\"#000000\">gini = 0.176</text>\n<text text-anchor=\"middle\" x=\"1493.5\" y=\"-111.8\" font-family=\"Helvetica,sans-Serif\" font-size=\"14.00\" fill=\"#000000\">samples = 133</text>\n<text text-anchor=\"middle\" x=\"1493.5\" y=\"-96.8\" font-family=\"Helvetica,sans-Serif\" font-size=\"14.00\" fill=\"#000000\">value = [13, 120]</text>\n</g>\n<!-- 25&#45;&gt;26 -->\n<g id=\"edge26\" class=\"edge\">\n<title>25&#45;&gt;26</title>\n<path fill=\"none\" stroke=\"#000000\" d=\"M1493.5,-192.9465C1493.5,-184.776 1493.5,-175.9318 1493.5,-167.3697\"/>\n<polygon fill=\"#000000\" stroke=\"#000000\" points=\"1497.0001,-167.13 1493.5,-157.13 1490.0001,-167.13 1497.0001,-167.13\"/>\n</g>\n<!-- 29 -->\n<g id=\"node30\" class=\"node\">\n<title>29</title>\n<path fill=\"#78bced\" stroke=\"#000000\" d=\"M1751.5,-157C1751.5,-157 1643.5,-157 1643.5,-157 1637.5,-157 1631.5,-151 1631.5,-145 1631.5,-145 1631.5,-101 1631.5,-101 1631.5,-95 1637.5,-89 1643.5,-89 1643.5,-89 1751.5,-89 1751.5,-89 1757.5,-89 1763.5,-95 1763.5,-101 1763.5,-101 1763.5,-145 1763.5,-145 1763.5,-151 1757.5,-157 1751.5,-157\"/>\n<text text-anchor=\"middle\" x=\"1697.5\" y=\"-141.8\" font-family=\"Helvetica,sans-Serif\" font-size=\"14.00\" fill=\"#000000\">iyear &lt;= 2011.5</text>\n<text text-anchor=\"middle\" x=\"1697.5\" y=\"-126.8\" font-family=\"Helvetica,sans-Serif\" font-size=\"14.00\" fill=\"#000000\">gini = 0.366</text>\n<text text-anchor=\"middle\" x=\"1697.5\" y=\"-111.8\" font-family=\"Helvetica,sans-Serif\" font-size=\"14.00\" fill=\"#000000\">samples = 555</text>\n<text text-anchor=\"middle\" x=\"1697.5\" y=\"-96.8\" font-family=\"Helvetica,sans-Serif\" font-size=\"14.00\" fill=\"#000000\">value = [134, 421]</text>\n</g>\n<!-- 25&#45;&gt;29 -->\n<g id=\"edge29\" class=\"edge\">\n<title>25&#45;&gt;29</title>\n<path fill=\"none\" stroke=\"#000000\" d=\"M1559.733,-193.2342C1579.6977,-183.0561 1601.7558,-171.8108 1622.2611,-161.3571\"/>\n<polygon fill=\"#000000\" stroke=\"#000000\" points=\"1623.9311,-164.4343 1631.2505,-156.7742 1620.7518,-158.198 1623.9311,-164.4343\"/>\n</g>\n<!-- 27 -->\n<g id=\"node28\" class=\"node\">\n<title>27</title>\n<path fill=\"#5eafea\" stroke=\"#000000\" d=\"M1483.5,-53C1483.5,-53 1391.5,-53 1391.5,-53 1385.5,-53 1379.5,-47 1379.5,-41 1379.5,-41 1379.5,-12 1379.5,-12 1379.5,-6 1385.5,0 1391.5,0 1391.5,0 1483.5,0 1483.5,0 1489.5,0 1495.5,-6 1495.5,-12 1495.5,-12 1495.5,-41 1495.5,-41 1495.5,-47 1489.5,-53 1483.5,-53\"/>\n<text text-anchor=\"middle\" x=\"1437.5\" y=\"-37.8\" font-family=\"Helvetica,sans-Serif\" font-size=\"14.00\" fill=\"#000000\">gini = 0.264</text>\n<text text-anchor=\"middle\" x=\"1437.5\" y=\"-22.8\" font-family=\"Helvetica,sans-Serif\" font-size=\"14.00\" fill=\"#000000\">samples = 83</text>\n<text text-anchor=\"middle\" x=\"1437.5\" y=\"-7.8\" font-family=\"Helvetica,sans-Serif\" font-size=\"14.00\" fill=\"#000000\">value = [13, 70]</text>\n</g>\n<!-- 26&#45;&gt;27 -->\n<g id=\"edge27\" class=\"edge\">\n<title>26&#45;&gt;27</title>\n<path fill=\"none\" stroke=\"#000000\" d=\"M1473.7565,-88.9777C1468.7083,-80.2786 1463.2669,-70.9018 1458.1734,-62.1247\"/>\n<polygon fill=\"#000000\" stroke=\"#000000\" points=\"1461.0689,-60.1409 1453.0224,-53.2485 1455.0145,-63.6544 1461.0689,-60.1409\"/>\n</g>\n<!-- 28 -->\n<g id=\"node29\" class=\"node\">\n<title>28</title>\n<path fill=\"#399de5\" stroke=\"#000000\" d=\"M1609,-53C1609,-53 1526,-53 1526,-53 1520,-53 1514,-47 1514,-41 1514,-41 1514,-12 1514,-12 1514,-6 1520,0 1526,0 1526,0 1609,0 1609,0 1615,0 1621,-6 1621,-12 1621,-12 1621,-41 1621,-41 1621,-47 1615,-53 1609,-53\"/>\n<text text-anchor=\"middle\" x=\"1567.5\" y=\"-37.8\" font-family=\"Helvetica,sans-Serif\" font-size=\"14.00\" fill=\"#000000\">gini = 0.0</text>\n<text text-anchor=\"middle\" x=\"1567.5\" y=\"-22.8\" font-family=\"Helvetica,sans-Serif\" font-size=\"14.00\" fill=\"#000000\">samples = 50</text>\n<text text-anchor=\"middle\" x=\"1567.5\" y=\"-7.8\" font-family=\"Helvetica,sans-Serif\" font-size=\"14.00\" fill=\"#000000\">value = [0, 50]</text>\n</g>\n<!-- 26&#45;&gt;28 -->\n<g id=\"edge28\" class=\"edge\">\n<title>26&#45;&gt;28</title>\n<path fill=\"none\" stroke=\"#000000\" d=\"M1519.5896,-88.9777C1526.4711,-80.0039 1533.9056,-70.3089 1540.8178,-61.295\"/>\n<polygon fill=\"#000000\" stroke=\"#000000\" points=\"1543.6804,-63.3137 1546.9882,-53.2485 1538.1256,-59.0541 1543.6804,-63.3137\"/>\n</g>\n<!-- 30 -->\n<g id=\"node31\" class=\"node\">\n<title>30</title>\n<path fill=\"#98ccf1\" stroke=\"#000000\" d=\"M1743.5,-53C1743.5,-53 1651.5,-53 1651.5,-53 1645.5,-53 1639.5,-47 1639.5,-41 1639.5,-41 1639.5,-12 1639.5,-12 1639.5,-6 1645.5,0 1651.5,0 1651.5,0 1743.5,0 1743.5,0 1749.5,0 1755.5,-6 1755.5,-12 1755.5,-12 1755.5,-41 1755.5,-41 1755.5,-47 1749.5,-53 1743.5,-53\"/>\n<text text-anchor=\"middle\" x=\"1697.5\" y=\"-37.8\" font-family=\"Helvetica,sans-Serif\" font-size=\"14.00\" fill=\"#000000\">gini = 0.438</text>\n<text text-anchor=\"middle\" x=\"1697.5\" y=\"-22.8\" font-family=\"Helvetica,sans-Serif\" font-size=\"14.00\" fill=\"#000000\">samples = 145</text>\n<text text-anchor=\"middle\" x=\"1697.5\" y=\"-7.8\" font-family=\"Helvetica,sans-Serif\" font-size=\"14.00\" fill=\"#000000\">value = [47, 98]</text>\n</g>\n<!-- 29&#45;&gt;30 -->\n<g id=\"edge30\" class=\"edge\">\n<title>29&#45;&gt;30</title>\n<path fill=\"none\" stroke=\"#000000\" d=\"M1697.5,-88.9777C1697.5,-80.7364 1697.5,-71.887 1697.5,-63.5153\"/>\n<polygon fill=\"#000000\" stroke=\"#000000\" points=\"1701.0001,-63.2484 1697.5,-53.2485 1694.0001,-63.2485 1701.0001,-63.2484\"/>\n</g>\n<!-- 31 -->\n<g id=\"node32\" class=\"node\">\n<title>31</title>\n<path fill=\"#6eb7ec\" stroke=\"#000000\" d=\"M1885.5,-53C1885.5,-53 1785.5,-53 1785.5,-53 1779.5,-53 1773.5,-47 1773.5,-41 1773.5,-41 1773.5,-12 1773.5,-12 1773.5,-6 1779.5,0 1785.5,0 1785.5,0 1885.5,0 1885.5,0 1891.5,0 1897.5,-6 1897.5,-12 1897.5,-12 1897.5,-41 1897.5,-41 1897.5,-47 1891.5,-53 1885.5,-53\"/>\n<text text-anchor=\"middle\" x=\"1835.5\" y=\"-37.8\" font-family=\"Helvetica,sans-Serif\" font-size=\"14.00\" fill=\"#000000\">gini = 0.334</text>\n<text text-anchor=\"middle\" x=\"1835.5\" y=\"-22.8\" font-family=\"Helvetica,sans-Serif\" font-size=\"14.00\" fill=\"#000000\">samples = 410</text>\n<text text-anchor=\"middle\" x=\"1835.5\" y=\"-7.8\" font-family=\"Helvetica,sans-Serif\" font-size=\"14.00\" fill=\"#000000\">value = [87, 323]</text>\n</g>\n<!-- 29&#45;&gt;31 -->\n<g id=\"edge31\" class=\"edge\">\n<title>29&#45;&gt;31</title>\n<path fill=\"none\" stroke=\"#000000\" d=\"M1746.1536,-88.9777C1760.0343,-79.2713 1775.1214,-68.7213 1788.8777,-59.1018\"/>\n<polygon fill=\"#000000\" stroke=\"#000000\" points=\"1791.0589,-61.8475 1797.2483,-53.2485 1787.0474,-56.1109 1791.0589,-61.8475\"/>\n</g>\n<!-- 33 -->\n<g id=\"node34\" class=\"node\">\n<title>33</title>\n<path fill=\"#f2c2a0\" stroke=\"#000000\" d=\"M2242.5,-261C2242.5,-261 2134.5,-261 2134.5,-261 2128.5,-261 2122.5,-255 2122.5,-249 2122.5,-249 2122.5,-205 2122.5,-205 2122.5,-199 2128.5,-193 2134.5,-193 2134.5,-193 2242.5,-193 2242.5,-193 2248.5,-193 2254.5,-199 2254.5,-205 2254.5,-205 2254.5,-249 2254.5,-249 2254.5,-255 2248.5,-261 2242.5,-261\"/>\n<text text-anchor=\"middle\" x=\"2188.5\" y=\"-245.8\" font-family=\"Helvetica,sans-Serif\" font-size=\"14.00\" fill=\"#000000\">gname &lt;= 287.0</text>\n<text text-anchor=\"middle\" x=\"2188.5\" y=\"-230.8\" font-family=\"Helvetica,sans-Serif\" font-size=\"14.00\" fill=\"#000000\">gini = 0.45</text>\n<text text-anchor=\"middle\" x=\"2188.5\" y=\"-215.8\" font-family=\"Helvetica,sans-Serif\" font-size=\"14.00\" fill=\"#000000\">samples = 1156</text>\n<text text-anchor=\"middle\" x=\"2188.5\" y=\"-200.8\" font-family=\"Helvetica,sans-Serif\" font-size=\"14.00\" fill=\"#000000\">value = [761, 395]</text>\n</g>\n<!-- 32&#45;&gt;33 -->\n<g id=\"edge33\" class=\"edge\">\n<title>32&#45;&gt;33</title>\n<path fill=\"none\" stroke=\"#000000\" d=\"M2188.5,-296.9465C2188.5,-288.776 2188.5,-279.9318 2188.5,-271.3697\"/>\n<polygon fill=\"#000000\" stroke=\"#000000\" points=\"2192.0001,-271.13 2188.5,-261.13 2185.0001,-271.13 2192.0001,-271.13\"/>\n</g>\n<!-- 40 -->\n<g id=\"node41\" class=\"node\">\n<title>40</title>\n<path fill=\"#fafdfe\" stroke=\"#000000\" d=\"M2654.5,-261C2654.5,-261 2546.5,-261 2546.5,-261 2540.5,-261 2534.5,-255 2534.5,-249 2534.5,-249 2534.5,-205 2534.5,-205 2534.5,-199 2540.5,-193 2546.5,-193 2546.5,-193 2654.5,-193 2654.5,-193 2660.5,-193 2666.5,-199 2666.5,-205 2666.5,-205 2666.5,-249 2666.5,-249 2666.5,-255 2660.5,-261 2654.5,-261\"/>\n<text text-anchor=\"middle\" x=\"2600.5\" y=\"-245.8\" font-family=\"Helvetica,sans-Serif\" font-size=\"14.00\" fill=\"#000000\">iyear &lt;= 2011.5</text>\n<text text-anchor=\"middle\" x=\"2600.5\" y=\"-230.8\" font-family=\"Helvetica,sans-Serif\" font-size=\"14.00\" fill=\"#000000\">gini = 0.5</text>\n<text text-anchor=\"middle\" x=\"2600.5\" y=\"-215.8\" font-family=\"Helvetica,sans-Serif\" font-size=\"14.00\" fill=\"#000000\">samples = 1303</text>\n<text text-anchor=\"middle\" x=\"2600.5\" y=\"-200.8\" font-family=\"Helvetica,sans-Serif\" font-size=\"14.00\" fill=\"#000000\">value = [644, 659]</text>\n</g>\n<!-- 32&#45;&gt;40 -->\n<g id=\"edge40\" class=\"edge\">\n<title>32&#45;&gt;40</title>\n<path fill=\"none\" stroke=\"#000000\" d=\"M2263.1101,-312.1664C2337.122,-293.4838 2449.9691,-264.9981 2524.4722,-246.1915\"/>\n<polygon fill=\"#000000\" stroke=\"#000000\" points=\"2525.4292,-249.5598 2534.2684,-243.7186 2523.7159,-242.7727 2525.4292,-249.5598\"/>\n</g>\n<!-- 34 -->\n<g id=\"node35\" class=\"node\">\n<title>34</title>\n<path fill=\"#fef8f4\" stroke=\"#000000\" d=\"M2167.5,-157C2167.5,-157 2059.5,-157 2059.5,-157 2053.5,-157 2047.5,-151 2047.5,-145 2047.5,-145 2047.5,-101 2047.5,-101 2047.5,-95 2053.5,-89 2059.5,-89 2059.5,-89 2167.5,-89 2167.5,-89 2173.5,-89 2179.5,-95 2179.5,-101 2179.5,-101 2179.5,-145 2179.5,-145 2179.5,-151 2173.5,-157 2167.5,-157\"/>\n<text text-anchor=\"middle\" x=\"2113.5\" y=\"-141.8\" font-family=\"Helvetica,sans-Serif\" font-size=\"14.00\" fill=\"#000000\">targtype1 &lt;= 17.5</text>\n<text text-anchor=\"middle\" x=\"2113.5\" y=\"-126.8\" font-family=\"Helvetica,sans-Serif\" font-size=\"14.00\" fill=\"#000000\">gini = 0.5</text>\n<text text-anchor=\"middle\" x=\"2113.5\" y=\"-111.8\" font-family=\"Helvetica,sans-Serif\" font-size=\"14.00\" fill=\"#000000\">samples = 356</text>\n<text text-anchor=\"middle\" x=\"2113.5\" y=\"-96.8\" font-family=\"Helvetica,sans-Serif\" font-size=\"14.00\" fill=\"#000000\">value = [183, 173]</text>\n</g>\n<!-- 33&#45;&gt;34 -->\n<g id=\"edge34\" class=\"edge\">\n<title>33&#45;&gt;34</title>\n<path fill=\"none\" stroke=\"#000000\" d=\"M2163.9422,-192.9465C2157.5968,-184.1475 2150.6879,-174.5672 2144.0764,-165.3993\"/>\n<polygon fill=\"#000000\" stroke=\"#000000\" points=\"2146.8011,-163.1937 2138.113,-157.13 2141.1234,-167.2882 2146.8011,-163.1937\"/>\n</g>\n<!-- 37 -->\n<g id=\"node38\" class=\"node\">\n<title>37</title>\n<path fill=\"#efb185\" stroke=\"#000000\" d=\"M2317.5,-157C2317.5,-157 2209.5,-157 2209.5,-157 2203.5,-157 2197.5,-151 2197.5,-145 2197.5,-145 2197.5,-101 2197.5,-101 2197.5,-95 2203.5,-89 2209.5,-89 2209.5,-89 2317.5,-89 2317.5,-89 2323.5,-89 2329.5,-95 2329.5,-101 2329.5,-101 2329.5,-145 2329.5,-145 2329.5,-151 2323.5,-157 2317.5,-157\"/>\n<text text-anchor=\"middle\" x=\"2263.5\" y=\"-141.8\" font-family=\"Helvetica,sans-Serif\" font-size=\"14.00\" fill=\"#000000\">gname &lt;= 469.5</text>\n<text text-anchor=\"middle\" x=\"2263.5\" y=\"-126.8\" font-family=\"Helvetica,sans-Serif\" font-size=\"14.00\" fill=\"#000000\">gini = 0.401</text>\n<text text-anchor=\"middle\" x=\"2263.5\" y=\"-111.8\" font-family=\"Helvetica,sans-Serif\" font-size=\"14.00\" fill=\"#000000\">samples = 800</text>\n<text text-anchor=\"middle\" x=\"2263.5\" y=\"-96.8\" font-family=\"Helvetica,sans-Serif\" font-size=\"14.00\" fill=\"#000000\">value = [578, 222]</text>\n</g>\n<!-- 33&#45;&gt;37 -->\n<g id=\"edge37\" class=\"edge\">\n<title>33&#45;&gt;37</title>\n<path fill=\"none\" stroke=\"#000000\" d=\"M2213.0578,-192.9465C2219.4032,-184.1475 2226.3121,-174.5672 2232.9236,-165.3993\"/>\n<polygon fill=\"#000000\" stroke=\"#000000\" points=\"2235.8766,-167.2882 2238.887,-157.13 2230.1989,-163.1937 2235.8766,-167.2882\"/>\n</g>\n<!-- 35 -->\n<g id=\"node36\" class=\"node\">\n<title>35</title>\n<path fill=\"#fae7d9\" stroke=\"#000000\" d=\"M2035.5,-53C2035.5,-53 1927.5,-53 1927.5,-53 1921.5,-53 1915.5,-47 1915.5,-41 1915.5,-41 1915.5,-12 1915.5,-12 1915.5,-6 1921.5,0 1927.5,0 1927.5,0 2035.5,0 2035.5,0 2041.5,0 2047.5,-6 2047.5,-12 2047.5,-12 2047.5,-41 2047.5,-41 2047.5,-47 2041.5,-53 2035.5,-53\"/>\n<text text-anchor=\"middle\" x=\"1981.5\" y=\"-37.8\" font-family=\"Helvetica,sans-Serif\" font-size=\"14.00\" fill=\"#000000\">gini = 0.494</text>\n<text text-anchor=\"middle\" x=\"1981.5\" y=\"-22.8\" font-family=\"Helvetica,sans-Serif\" font-size=\"14.00\" fill=\"#000000\">samples = 320</text>\n<text text-anchor=\"middle\" x=\"1981.5\" y=\"-7.8\" font-family=\"Helvetica,sans-Serif\" font-size=\"14.00\" fill=\"#000000\">value = [177, 143]</text>\n</g>\n<!-- 34&#45;&gt;35 -->\n<g id=\"edge35\" class=\"edge\">\n<title>34&#45;&gt;35</title>\n<path fill=\"none\" stroke=\"#000000\" d=\"M2066.9617,-88.9777C2053.8099,-79.3629 2039.5257,-68.9203 2026.468,-59.3743\"/>\n<polygon fill=\"#000000\" stroke=\"#000000\" points=\"2028.227,-56.3247 2018.0886,-53.2485 2024.0958,-61.9757 2028.227,-56.3247\"/>\n</g>\n<!-- 36 -->\n<g id=\"node37\" class=\"node\">\n<title>36</title>\n<path fill=\"#61b1ea\" stroke=\"#000000\" d=\"M2161,-53C2161,-53 2078,-53 2078,-53 2072,-53 2066,-47 2066,-41 2066,-41 2066,-12 2066,-12 2066,-6 2072,0 2078,0 2078,0 2161,0 2161,0 2167,0 2173,-6 2173,-12 2173,-12 2173,-41 2173,-41 2173,-47 2167,-53 2161,-53\"/>\n<text text-anchor=\"middle\" x=\"2119.5\" y=\"-37.8\" font-family=\"Helvetica,sans-Serif\" font-size=\"14.00\" fill=\"#000000\">gini = 0.278</text>\n<text text-anchor=\"middle\" x=\"2119.5\" y=\"-22.8\" font-family=\"Helvetica,sans-Serif\" font-size=\"14.00\" fill=\"#000000\">samples = 36</text>\n<text text-anchor=\"middle\" x=\"2119.5\" y=\"-7.8\" font-family=\"Helvetica,sans-Serif\" font-size=\"14.00\" fill=\"#000000\">value = [6, 30]</text>\n</g>\n<!-- 34&#45;&gt;36 -->\n<g id=\"edge36\" class=\"edge\">\n<title>34&#45;&gt;36</title>\n<path fill=\"none\" stroke=\"#000000\" d=\"M2115.6154,-88.9777C2116.1335,-80.6449 2116.6902,-71.6903 2117.2159,-63.2364\"/>\n<polygon fill=\"#000000\" stroke=\"#000000\" points=\"2120.7095,-63.4464 2117.8369,-53.2485 2113.723,-63.012 2120.7095,-63.4464\"/>\n</g>\n<!-- 38 -->\n<g id=\"node39\" class=\"node\">\n<title>38</title>\n<path fill=\"#eca572\" stroke=\"#000000\" d=\"M2311.5,-53C2311.5,-53 2203.5,-53 2203.5,-53 2197.5,-53 2191.5,-47 2191.5,-41 2191.5,-41 2191.5,-12 2191.5,-12 2191.5,-6 2197.5,0 2203.5,0 2203.5,0 2311.5,0 2311.5,0 2317.5,0 2323.5,-6 2323.5,-12 2323.5,-12 2323.5,-41 2323.5,-41 2323.5,-47 2317.5,-53 2311.5,-53\"/>\n<text text-anchor=\"middle\" x=\"2257.5\" y=\"-37.8\" font-family=\"Helvetica,sans-Serif\" font-size=\"14.00\" fill=\"#000000\">gini = 0.346</text>\n<text text-anchor=\"middle\" x=\"2257.5\" y=\"-22.8\" font-family=\"Helvetica,sans-Serif\" font-size=\"14.00\" fill=\"#000000\">samples = 643</text>\n<text text-anchor=\"middle\" x=\"2257.5\" y=\"-7.8\" font-family=\"Helvetica,sans-Serif\" font-size=\"14.00\" fill=\"#000000\">value = [500, 143]</text>\n</g>\n<!-- 37&#45;&gt;38 -->\n<g id=\"edge38\" class=\"edge\">\n<title>37&#45;&gt;38</title>\n<path fill=\"none\" stroke=\"#000000\" d=\"M2261.3846,-88.9777C2260.8665,-80.6449 2260.3098,-71.6903 2259.7841,-63.2364\"/>\n<polygon fill=\"#000000\" stroke=\"#000000\" points=\"2263.277,-63.012 2259.1631,-53.2485 2256.2905,-63.4464 2263.277,-63.012\"/>\n</g>\n<!-- 39 -->\n<g id=\"node40\" class=\"node\">\n<title>39</title>\n<path fill=\"#fcfeff\" stroke=\"#000000\" d=\"M2445.5,-53C2445.5,-53 2353.5,-53 2353.5,-53 2347.5,-53 2341.5,-47 2341.5,-41 2341.5,-41 2341.5,-12 2341.5,-12 2341.5,-6 2347.5,0 2353.5,0 2353.5,0 2445.5,0 2445.5,0 2451.5,0 2457.5,-6 2457.5,-12 2457.5,-12 2457.5,-41 2457.5,-41 2457.5,-47 2451.5,-53 2445.5,-53\"/>\n<text text-anchor=\"middle\" x=\"2399.5\" y=\"-37.8\" font-family=\"Helvetica,sans-Serif\" font-size=\"14.00\" fill=\"#000000\">gini = 0.5</text>\n<text text-anchor=\"middle\" x=\"2399.5\" y=\"-22.8\" font-family=\"Helvetica,sans-Serif\" font-size=\"14.00\" fill=\"#000000\">samples = 157</text>\n<text text-anchor=\"middle\" x=\"2399.5\" y=\"-7.8\" font-family=\"Helvetica,sans-Serif\" font-size=\"14.00\" fill=\"#000000\">value = [78, 79]</text>\n</g>\n<!-- 37&#45;&gt;39 -->\n<g id=\"edge39\" class=\"edge\">\n<title>37&#45;&gt;39</title>\n<path fill=\"none\" stroke=\"#000000\" d=\"M2311.4485,-88.9777C2325.128,-79.2713 2339.9964,-68.7213 2353.5534,-59.1018\"/>\n<polygon fill=\"#000000\" stroke=\"#000000\" points=\"2355.6725,-61.8898 2361.8027,-53.2485 2351.6217,-56.1809 2355.6725,-61.8898\"/>\n</g>\n<!-- 41 -->\n<g id=\"node42\" class=\"node\">\n<title>41</title>\n<path fill=\"#f6d2b8\" stroke=\"#000000\" d=\"M2654.5,-157C2654.5,-157 2546.5,-157 2546.5,-157 2540.5,-157 2534.5,-151 2534.5,-145 2534.5,-145 2534.5,-101 2534.5,-101 2534.5,-95 2540.5,-89 2546.5,-89 2546.5,-89 2654.5,-89 2654.5,-89 2660.5,-89 2666.5,-95 2666.5,-101 2666.5,-101 2666.5,-145 2666.5,-145 2666.5,-151 2660.5,-157 2654.5,-157\"/>\n<text text-anchor=\"middle\" x=\"2600.5\" y=\"-141.8\" font-family=\"Helvetica,sans-Serif\" font-size=\"14.00\" fill=\"#000000\">iyear &lt;= 2007.5</text>\n<text text-anchor=\"middle\" x=\"2600.5\" y=\"-126.8\" font-family=\"Helvetica,sans-Serif\" font-size=\"14.00\" fill=\"#000000\">gini = 0.476</text>\n<text text-anchor=\"middle\" x=\"2600.5\" y=\"-111.8\" font-family=\"Helvetica,sans-Serif\" font-size=\"14.00\" fill=\"#000000\">samples = 369</text>\n<text text-anchor=\"middle\" x=\"2600.5\" y=\"-96.8\" font-family=\"Helvetica,sans-Serif\" font-size=\"14.00\" fill=\"#000000\">value = [225, 144]</text>\n</g>\n<!-- 40&#45;&gt;41 -->\n<g id=\"edge41\" class=\"edge\">\n<title>40&#45;&gt;41</title>\n<path fill=\"none\" stroke=\"#000000\" d=\"M2600.5,-192.9465C2600.5,-184.776 2600.5,-175.9318 2600.5,-167.3697\"/>\n<polygon fill=\"#000000\" stroke=\"#000000\" points=\"2604.0001,-167.13 2600.5,-157.13 2597.0001,-167.13 2604.0001,-167.13\"/>\n</g>\n<!-- 44 -->\n<g id=\"node45\" class=\"node\">\n<title>44</title>\n<path fill=\"#daedfa\" stroke=\"#000000\" d=\"M2871.5,-157C2871.5,-157 2763.5,-157 2763.5,-157 2757.5,-157 2751.5,-151 2751.5,-145 2751.5,-145 2751.5,-101 2751.5,-101 2751.5,-95 2757.5,-89 2763.5,-89 2763.5,-89 2871.5,-89 2871.5,-89 2877.5,-89 2883.5,-95 2883.5,-101 2883.5,-101 2883.5,-145 2883.5,-145 2883.5,-151 2877.5,-157 2871.5,-157\"/>\n<text text-anchor=\"middle\" x=\"2817.5\" y=\"-141.8\" font-family=\"Helvetica,sans-Serif\" font-size=\"14.00\" fill=\"#000000\">country &lt;= 616.5</text>\n<text text-anchor=\"middle\" x=\"2817.5\" y=\"-126.8\" font-family=\"Helvetica,sans-Serif\" font-size=\"14.00\" fill=\"#000000\">gini = 0.495</text>\n<text text-anchor=\"middle\" x=\"2817.5\" y=\"-111.8\" font-family=\"Helvetica,sans-Serif\" font-size=\"14.00\" fill=\"#000000\">samples = 934</text>\n<text text-anchor=\"middle\" x=\"2817.5\" y=\"-96.8\" font-family=\"Helvetica,sans-Serif\" font-size=\"14.00\" fill=\"#000000\">value = [419, 515]</text>\n</g>\n<!-- 40&#45;&gt;44 -->\n<g id=\"edge44\" class=\"edge\">\n<title>40&#45;&gt;44</title>\n<path fill=\"none\" stroke=\"#000000\" d=\"M2666.7863,-195.2315C2690.5482,-183.8433 2717.5104,-170.9213 2741.9952,-159.1866\"/>\n<polygon fill=\"#000000\" stroke=\"#000000\" points=\"2743.7409,-162.2312 2751.246,-154.753 2740.7155,-155.9188 2743.7409,-162.2312\"/>\n</g>\n<!-- 42 -->\n<g id=\"node43\" class=\"node\">\n<title>42</title>\n<path fill=\"#c3e1f7\" stroke=\"#000000\" d=\"M2579.5,-53C2579.5,-53 2487.5,-53 2487.5,-53 2481.5,-53 2475.5,-47 2475.5,-41 2475.5,-41 2475.5,-12 2475.5,-12 2475.5,-6 2481.5,0 2487.5,0 2487.5,0 2579.5,0 2579.5,0 2585.5,0 2591.5,-6 2591.5,-12 2591.5,-12 2591.5,-41 2591.5,-41 2591.5,-47 2585.5,-53 2579.5,-53\"/>\n<text text-anchor=\"middle\" x=\"2533.5\" y=\"-37.8\" font-family=\"Helvetica,sans-Serif\" font-size=\"14.00\" fill=\"#000000\">gini = 0.484</text>\n<text text-anchor=\"middle\" x=\"2533.5\" y=\"-22.8\" font-family=\"Helvetica,sans-Serif\" font-size=\"14.00\" fill=\"#000000\">samples = 129</text>\n<text text-anchor=\"middle\" x=\"2533.5\" y=\"-7.8\" font-family=\"Helvetica,sans-Serif\" font-size=\"14.00\" fill=\"#000000\">value = [53, 76]</text>\n</g>\n<!-- 41&#45;&gt;42 -->\n<g id=\"edge42\" class=\"edge\">\n<title>41&#45;&gt;42</title>\n<path fill=\"none\" stroke=\"#000000\" d=\"M2576.8783,-88.9777C2570.7113,-80.0954 2564.0539,-70.5067 2557.8499,-61.5711\"/>\n<polygon fill=\"#000000\" stroke=\"#000000\" points=\"2560.6497,-59.4666 2552.0715,-53.2485 2554.8997,-63.4589 2560.6497,-59.4666\"/>\n</g>\n<!-- 43 -->\n<g id=\"node44\" class=\"node\">\n<title>43</title>\n<path fill=\"#efb387\" stroke=\"#000000\" d=\"M2721.5,-53C2721.5,-53 2621.5,-53 2621.5,-53 2615.5,-53 2609.5,-47 2609.5,-41 2609.5,-41 2609.5,-12 2609.5,-12 2609.5,-6 2615.5,0 2621.5,0 2621.5,0 2721.5,0 2721.5,0 2727.5,0 2733.5,-6 2733.5,-12 2733.5,-12 2733.5,-41 2733.5,-41 2733.5,-47 2727.5,-53 2721.5,-53\"/>\n<text text-anchor=\"middle\" x=\"2671.5\" y=\"-37.8\" font-family=\"Helvetica,sans-Serif\" font-size=\"14.00\" fill=\"#000000\">gini = 0.406</text>\n<text text-anchor=\"middle\" x=\"2671.5\" y=\"-22.8\" font-family=\"Helvetica,sans-Serif\" font-size=\"14.00\" fill=\"#000000\">samples = 240</text>\n<text text-anchor=\"middle\" x=\"2671.5\" y=\"-7.8\" font-family=\"Helvetica,sans-Serif\" font-size=\"14.00\" fill=\"#000000\">value = [172, 68]</text>\n</g>\n<!-- 41&#45;&gt;43 -->\n<g id=\"edge43\" class=\"edge\">\n<title>41&#45;&gt;43</title>\n<path fill=\"none\" stroke=\"#000000\" d=\"M2625.5319,-88.9777C2632.0671,-80.0954 2639.122,-70.5067 2645.6964,-61.5711\"/>\n<polygon fill=\"#000000\" stroke=\"#000000\" points=\"2648.7126,-63.3775 2651.8198,-53.2485 2643.0743,-59.229 2648.7126,-63.3775\"/>\n</g>\n<!-- 45 -->\n<g id=\"node46\" class=\"node\">\n<title>45</title>\n<path fill=\"#d0e8f9\" stroke=\"#000000\" d=\"M2871.5,-53C2871.5,-53 2763.5,-53 2763.5,-53 2757.5,-53 2751.5,-47 2751.5,-41 2751.5,-41 2751.5,-12 2751.5,-12 2751.5,-6 2757.5,0 2763.5,0 2763.5,0 2871.5,0 2871.5,0 2877.5,0 2883.5,-6 2883.5,-12 2883.5,-12 2883.5,-41 2883.5,-41 2883.5,-47 2877.5,-53 2871.5,-53\"/>\n<text text-anchor=\"middle\" x=\"2817.5\" y=\"-37.8\" font-family=\"Helvetica,sans-Serif\" font-size=\"14.00\" fill=\"#000000\">gini = 0.491</text>\n<text text-anchor=\"middle\" x=\"2817.5\" y=\"-22.8\" font-family=\"Helvetica,sans-Serif\" font-size=\"14.00\" fill=\"#000000\">samples = 903</text>\n<text text-anchor=\"middle\" x=\"2817.5\" y=\"-7.8\" font-family=\"Helvetica,sans-Serif\" font-size=\"14.00\" fill=\"#000000\">value = [390, 513]</text>\n</g>\n<!-- 44&#45;&gt;45 -->\n<g id=\"edge45\" class=\"edge\">\n<title>44&#45;&gt;45</title>\n<path fill=\"none\" stroke=\"#000000\" d=\"M2817.5,-88.9777C2817.5,-80.7364 2817.5,-71.887 2817.5,-63.5153\"/>\n<polygon fill=\"#000000\" stroke=\"#000000\" points=\"2821.0001,-63.2484 2817.5,-53.2485 2814.0001,-63.2485 2821.0001,-63.2484\"/>\n</g>\n<!-- 46 -->\n<g id=\"node47\" class=\"node\">\n<title>46</title>\n<path fill=\"#e78a47\" stroke=\"#000000\" d=\"M2997,-53C2997,-53 2914,-53 2914,-53 2908,-53 2902,-47 2902,-41 2902,-41 2902,-12 2902,-12 2902,-6 2908,0 2914,0 2914,0 2997,0 2997,0 3003,0 3009,-6 3009,-12 3009,-12 3009,-41 3009,-41 3009,-47 3003,-53 2997,-53\"/>\n<text text-anchor=\"middle\" x=\"2955.5\" y=\"-37.8\" font-family=\"Helvetica,sans-Serif\" font-size=\"14.00\" fill=\"#000000\">gini = 0.121</text>\n<text text-anchor=\"middle\" x=\"2955.5\" y=\"-22.8\" font-family=\"Helvetica,sans-Serif\" font-size=\"14.00\" fill=\"#000000\">samples = 31</text>\n<text text-anchor=\"middle\" x=\"2955.5\" y=\"-7.8\" font-family=\"Helvetica,sans-Serif\" font-size=\"14.00\" fill=\"#000000\">value = [29, 2]</text>\n</g>\n<!-- 44&#45;&gt;46 -->\n<g id=\"edge46\" class=\"edge\">\n<title>44&#45;&gt;46</title>\n<path fill=\"none\" stroke=\"#000000\" d=\"M2866.1536,-88.9777C2880.0343,-79.2713 2895.1214,-68.7213 2908.8777,-59.1018\"/>\n<polygon fill=\"#000000\" stroke=\"#000000\" points=\"2911.0589,-61.8475 2917.2483,-53.2485 2907.0474,-56.1109 2911.0589,-61.8475\"/>\n</g>\n</g>\n</svg>\n"
          },
          "metadata": {},
          "execution_count": 66
        }
      ]
    },
    {
      "cell_type": "code",
      "source": [
        "## fontos változók megállapítása a döntési fa saját fontossági értékei alapján\n",
        "feature_importance_dt = pd.DataFrame(\n",
        "    {'feature': list(features.columns),\n",
        "     'importance': best_tree.feature_importances_\n",
        "    })"
      ],
      "metadata": {
        "id": "yssRUA8IK_Mg"
      },
      "execution_count": 67,
      "outputs": []
    },
    {
      "cell_type": "code",
      "source": [
        "feature_importance_dt.sort_values(by=['importance'], ascending=False)"
      ],
      "metadata": {
        "colab": {
          "base_uri": "https://localhost:8080/",
          "height": 269
        },
        "id": "svaK8zDTLEXe",
        "outputId": "f59e8e25-4b13-43e0-f388-43944325223e"
      },
      "execution_count": 68,
      "outputs": [
        {
          "output_type": "execute_result",
          "data": {
            "text/plain": [
              "     feature  importance\n",
              "0      iyear    0.427022\n",
              "4  targtype1    0.369402\n",
              "5      gname    0.073282\n",
              "1   extended    0.053917\n",
              "3     region    0.044235\n",
              "2    country    0.032142\n",
              "6  weaptype1    0.000000"
            ],
            "text/html": [
              "\n",
              "  <div id=\"df-d2931559-7a63-4d76-aaa3-287e3cc28cfe\">\n",
              "    <div class=\"colab-df-container\">\n",
              "      <div>\n",
              "<style scoped>\n",
              "    .dataframe tbody tr th:only-of-type {\n",
              "        vertical-align: middle;\n",
              "    }\n",
              "\n",
              "    .dataframe tbody tr th {\n",
              "        vertical-align: top;\n",
              "    }\n",
              "\n",
              "    .dataframe thead th {\n",
              "        text-align: right;\n",
              "    }\n",
              "</style>\n",
              "<table border=\"1\" class=\"dataframe\">\n",
              "  <thead>\n",
              "    <tr style=\"text-align: right;\">\n",
              "      <th></th>\n",
              "      <th>feature</th>\n",
              "      <th>importance</th>\n",
              "    </tr>\n",
              "  </thead>\n",
              "  <tbody>\n",
              "    <tr>\n",
              "      <th>0</th>\n",
              "      <td>iyear</td>\n",
              "      <td>0.427022</td>\n",
              "    </tr>\n",
              "    <tr>\n",
              "      <th>4</th>\n",
              "      <td>targtype1</td>\n",
              "      <td>0.369402</td>\n",
              "    </tr>\n",
              "    <tr>\n",
              "      <th>5</th>\n",
              "      <td>gname</td>\n",
              "      <td>0.073282</td>\n",
              "    </tr>\n",
              "    <tr>\n",
              "      <th>1</th>\n",
              "      <td>extended</td>\n",
              "      <td>0.053917</td>\n",
              "    </tr>\n",
              "    <tr>\n",
              "      <th>3</th>\n",
              "      <td>region</td>\n",
              "      <td>0.044235</td>\n",
              "    </tr>\n",
              "    <tr>\n",
              "      <th>2</th>\n",
              "      <td>country</td>\n",
              "      <td>0.032142</td>\n",
              "    </tr>\n",
              "    <tr>\n",
              "      <th>6</th>\n",
              "      <td>weaptype1</td>\n",
              "      <td>0.000000</td>\n",
              "    </tr>\n",
              "  </tbody>\n",
              "</table>\n",
              "</div>\n",
              "      <button class=\"colab-df-convert\" onclick=\"convertToInteractive('df-d2931559-7a63-4d76-aaa3-287e3cc28cfe')\"\n",
              "              title=\"Convert this dataframe to an interactive table.\"\n",
              "              style=\"display:none;\">\n",
              "        \n",
              "  <svg xmlns=\"http://www.w3.org/2000/svg\" height=\"24px\"viewBox=\"0 0 24 24\"\n",
              "       width=\"24px\">\n",
              "    <path d=\"M0 0h24v24H0V0z\" fill=\"none\"/>\n",
              "    <path d=\"M18.56 5.44l.94 2.06.94-2.06 2.06-.94-2.06-.94-.94-2.06-.94 2.06-2.06.94zm-11 1L8.5 8.5l.94-2.06 2.06-.94-2.06-.94L8.5 2.5l-.94 2.06-2.06.94zm10 10l.94 2.06.94-2.06 2.06-.94-2.06-.94-.94-2.06-.94 2.06-2.06.94z\"/><path d=\"M17.41 7.96l-1.37-1.37c-.4-.4-.92-.59-1.43-.59-.52 0-1.04.2-1.43.59L10.3 9.45l-7.72 7.72c-.78.78-.78 2.05 0 2.83L4 21.41c.39.39.9.59 1.41.59.51 0 1.02-.2 1.41-.59l7.78-7.78 2.81-2.81c.8-.78.8-2.07 0-2.86zM5.41 20L4 18.59l7.72-7.72 1.47 1.35L5.41 20z\"/>\n",
              "  </svg>\n",
              "      </button>\n",
              "      \n",
              "  <style>\n",
              "    .colab-df-container {\n",
              "      display:flex;\n",
              "      flex-wrap:wrap;\n",
              "      gap: 12px;\n",
              "    }\n",
              "\n",
              "    .colab-df-convert {\n",
              "      background-color: #E8F0FE;\n",
              "      border: none;\n",
              "      border-radius: 50%;\n",
              "      cursor: pointer;\n",
              "      display: none;\n",
              "      fill: #1967D2;\n",
              "      height: 32px;\n",
              "      padding: 0 0 0 0;\n",
              "      width: 32px;\n",
              "    }\n",
              "\n",
              "    .colab-df-convert:hover {\n",
              "      background-color: #E2EBFA;\n",
              "      box-shadow: 0px 1px 2px rgba(60, 64, 67, 0.3), 0px 1px 3px 1px rgba(60, 64, 67, 0.15);\n",
              "      fill: #174EA6;\n",
              "    }\n",
              "\n",
              "    [theme=dark] .colab-df-convert {\n",
              "      background-color: #3B4455;\n",
              "      fill: #D2E3FC;\n",
              "    }\n",
              "\n",
              "    [theme=dark] .colab-df-convert:hover {\n",
              "      background-color: #434B5C;\n",
              "      box-shadow: 0px 1px 3px 1px rgba(0, 0, 0, 0.15);\n",
              "      filter: drop-shadow(0px 1px 2px rgba(0, 0, 0, 0.3));\n",
              "      fill: #FFFFFF;\n",
              "    }\n",
              "  </style>\n",
              "\n",
              "      <script>\n",
              "        const buttonEl =\n",
              "          document.querySelector('#df-d2931559-7a63-4d76-aaa3-287e3cc28cfe button.colab-df-convert');\n",
              "        buttonEl.style.display =\n",
              "          google.colab.kernel.accessAllowed ? 'block' : 'none';\n",
              "\n",
              "        async function convertToInteractive(key) {\n",
              "          const element = document.querySelector('#df-d2931559-7a63-4d76-aaa3-287e3cc28cfe');\n",
              "          const dataTable =\n",
              "            await google.colab.kernel.invokeFunction('convertToInteractive',\n",
              "                                                     [key], {});\n",
              "          if (!dataTable) return;\n",
              "\n",
              "          const docLinkHtml = 'Like what you see? Visit the ' +\n",
              "            '<a target=\"_blank\" href=https://colab.research.google.com/notebooks/data_table.ipynb>data table notebook</a>'\n",
              "            + ' to learn more about interactive tables.';\n",
              "          element.innerHTML = '';\n",
              "          dataTable['output_type'] = 'display_data';\n",
              "          await google.colab.output.renderOutput(dataTable, element);\n",
              "          const docLink = document.createElement('div');\n",
              "          docLink.innerHTML = docLinkHtml;\n",
              "          element.appendChild(docLink);\n",
              "        }\n",
              "      </script>\n",
              "    </div>\n",
              "  </div>\n",
              "  "
            ]
          },
          "metadata": {},
          "execution_count": 68
        }
      ]
    },
    {
      "cell_type": "markdown",
      "source": [
        "legfontosabb változónak ez alapján az iyear (év) és a targtype1 (célpont típusa) bizonyul"
      ],
      "metadata": {
        "id": "QLcFNfg6HfJh"
      }
    },
    {
      "cell_type": "code",
      "source": [
        "## fontos változók megállapítása a permutation feature importance értékek alapján\n",
        "\n",
        "r1 = permutation_importance(best_tree, X_test, Y_test, n_repeats=30, random_state=42)\n",
        "\n",
        "for i in r1.importances_mean.argsort()[::-1]:\n",
        "    if r1.importances_mean[i] > 0.01:\n",
        "        print(X_test.columns[i],\n",
        "        f\"{r1.importances_mean[i]:.3f}\"\n",
        "        f\" +/- {r1.importances_std[i]:.3f}\")"
      ],
      "metadata": {
        "colab": {
          "base_uri": "https://localhost:8080/"
        },
        "id": "nAmsqX_HNuBP",
        "outputId": "c954e346-e30b-452a-9f4e-d462fa289f5e"
      },
      "execution_count": 69,
      "outputs": [
        {
          "output_type": "stream",
          "name": "stdout",
          "text": [
            "targtype1 0.068 +/- 0.008\n",
            "extended 0.040 +/- 0.005\n",
            "iyear 0.038 +/- 0.006\n",
            "region 0.012 +/- 0.003\n"
          ]
        }
      ]
    },
    {
      "cell_type": "markdown",
      "source": [
        "legfontosabb változónak a permutation importance alapján a targtype1 (célpont típusa), extended (24 óránál tovább tartott-e), iyear (év), region (régió) bizonyul"
      ],
      "metadata": {
        "id": "VcLFIz-3HrWt"
      }
    },
    {
      "cell_type": "markdown",
      "source": [
        "### A bővített magyarázó változó halmazzal épített modell értelmezése:"
      ],
      "metadata": {
        "id": "RDFkwt6ga2D6"
      }
    },
    {
      "cell_type": "code",
      "source": [
        "## döntési fa modell ábrázolása\n",
        "\n",
        "tree_viz_ext=graphviz.Source(tree.export_graphviz(best_tree_ext, filled=True, rounded=True,feature_names=list(features_ext.columns)))\n",
        "tree_viz_ext"
      ],
      "metadata": {
        "colab": {
          "base_uri": "https://localhost:8080/",
          "height": 816
        },
        "id": "v25qCueYeLxC",
        "outputId": "314304a2-f2f8-48dd-94f8-6dcb7120daed"
      },
      "execution_count": 70,
      "outputs": [
        {
          "output_type": "execute_result",
          "data": {
            "text/plain": [
              "<graphviz.files.Source at 0x7f953b16c1f0>"
            ],
            "image/svg+xml": "<?xml version=\"1.0\" encoding=\"UTF-8\" standalone=\"no\"?>\n<!DOCTYPE svg PUBLIC \"-//W3C//DTD SVG 1.1//EN\"\n \"http://www.w3.org/Graphics/SVG/1.1/DTD/svg11.dtd\">\n<!-- Generated by graphviz version 2.40.1 (20161225.0304)\n -->\n<!-- Title: Tree Pages: 1 -->\n<svg width=\"3250pt\" height=\"581pt\"\n viewBox=\"0.00 0.00 3249.50 581.00\" xmlns=\"http://www.w3.org/2000/svg\" xmlns:xlink=\"http://www.w3.org/1999/xlink\">\n<g id=\"graph0\" class=\"graph\" transform=\"scale(1 1) rotate(0) translate(4 577)\">\n<title>Tree</title>\n<polygon fill=\"#ffffff\" stroke=\"transparent\" points=\"-4,4 -4,-577 3245.5,-577 3245.5,4 -4,4\"/>\n<!-- 0 -->\n<g id=\"node1\" class=\"node\">\n<title>0</title>\n<path fill=\"#c0e0f7\" stroke=\"#000000\" d=\"M1102.5,-573C1102.5,-573 977.5,-573 977.5,-573 971.5,-573 965.5,-567 965.5,-561 965.5,-561 965.5,-517 965.5,-517 965.5,-511 971.5,-505 977.5,-505 977.5,-505 1102.5,-505 1102.5,-505 1108.5,-505 1114.5,-511 1114.5,-517 1114.5,-517 1114.5,-561 1114.5,-561 1114.5,-567 1108.5,-573 1102.5,-573\"/>\n<text text-anchor=\"middle\" x=\"1040\" y=\"-557.8\" font-family=\"Helvetica,sans-Serif\" font-size=\"14.00\" fill=\"#000000\">iyear &lt;= 2001.5</text>\n<text text-anchor=\"middle\" x=\"1040\" y=\"-542.8\" font-family=\"Helvetica,sans-Serif\" font-size=\"14.00\" fill=\"#000000\">gini = 0.482</text>\n<text text-anchor=\"middle\" x=\"1040\" y=\"-527.8\" font-family=\"Helvetica,sans-Serif\" font-size=\"14.00\" fill=\"#000000\">samples = 5624</text>\n<text text-anchor=\"middle\" x=\"1040\" y=\"-512.8\" font-family=\"Helvetica,sans-Serif\" font-size=\"14.00\" fill=\"#000000\">value = [2277, 3347]</text>\n</g>\n<!-- 1 -->\n<g id=\"node2\" class=\"node\">\n<title>1</title>\n<path fill=\"#50a8e8\" stroke=\"#000000\" d=\"M594,-469C594,-469 494,-469 494,-469 488,-469 482,-463 482,-457 482,-457 482,-413 482,-413 482,-407 488,-401 494,-401 494,-401 594,-401 594,-401 600,-401 606,-407 606,-413 606,-413 606,-457 606,-457 606,-463 600,-469 594,-469\"/>\n<text text-anchor=\"middle\" x=\"544\" y=\"-453.8\" font-family=\"Helvetica,sans-Serif\" font-size=\"14.00\" fill=\"#000000\">iyear &lt;= 1997.5</text>\n<text text-anchor=\"middle\" x=\"544\" y=\"-438.8\" font-family=\"Helvetica,sans-Serif\" font-size=\"14.00\" fill=\"#000000\">gini = 0.186</text>\n<text text-anchor=\"middle\" x=\"544\" y=\"-423.8\" font-family=\"Helvetica,sans-Serif\" font-size=\"14.00\" fill=\"#000000\">samples = 955</text>\n<text text-anchor=\"middle\" x=\"544\" y=\"-408.8\" font-family=\"Helvetica,sans-Serif\" font-size=\"14.00\" fill=\"#000000\">value = [99, 856]</text>\n</g>\n<!-- 0&#45;&gt;1 -->\n<g id=\"edge1\" class=\"edge\">\n<title>0&#45;&gt;1</title>\n<path fill=\"none\" stroke=\"#000000\" d=\"M965.4755,-523.3739C871.0181,-503.5683 709.2948,-469.6586 616.0367,-450.1045\"/>\n<polygon fill=\"#000000\" stroke=\"#000000\" points=\"616.6272,-446.6522 606.1217,-448.0255 615.1906,-453.5033 616.6272,-446.6522\"/>\n<text text-anchor=\"middle\" x=\"619.7955\" y=\"-465.2547\" font-family=\"Helvetica,sans-Serif\" font-size=\"14.00\" fill=\"#000000\">True</text>\n</g>\n<!-- 22 -->\n<g id=\"node23\" class=\"node\">\n<title>22</title>\n<path fill=\"#e6f3fc\" stroke=\"#000000\" d=\"M1648.5,-469C1648.5,-469 1523.5,-469 1523.5,-469 1517.5,-469 1511.5,-463 1511.5,-457 1511.5,-457 1511.5,-413 1511.5,-413 1511.5,-407 1517.5,-401 1523.5,-401 1523.5,-401 1648.5,-401 1648.5,-401 1654.5,-401 1660.5,-407 1660.5,-413 1660.5,-413 1660.5,-457 1660.5,-457 1660.5,-463 1654.5,-469 1648.5,-469\"/>\n<text text-anchor=\"middle\" x=\"1586\" y=\"-453.8\" font-family=\"Helvetica,sans-Serif\" font-size=\"14.00\" fill=\"#000000\">targtype1 &lt;= 13.5</text>\n<text text-anchor=\"middle\" x=\"1586\" y=\"-438.8\" font-family=\"Helvetica,sans-Serif\" font-size=\"14.00\" fill=\"#000000\">gini = 0.498</text>\n<text text-anchor=\"middle\" x=\"1586\" y=\"-423.8\" font-family=\"Helvetica,sans-Serif\" font-size=\"14.00\" fill=\"#000000\">samples = 4669</text>\n<text text-anchor=\"middle\" x=\"1586\" y=\"-408.8\" font-family=\"Helvetica,sans-Serif\" font-size=\"14.00\" fill=\"#000000\">value = [2178, 2491]</text>\n</g>\n<!-- 0&#45;&gt;22 -->\n<g id=\"edge22\" class=\"edge\">\n<title>0&#45;&gt;22</title>\n<path fill=\"none\" stroke=\"#000000\" d=\"M1114.7741,-524.7573C1215.7819,-505.5177 1395.3383,-471.3165 1501.2412,-451.1445\"/>\n<polygon fill=\"#000000\" stroke=\"#000000\" points=\"1502.0864,-454.5466 1511.2548,-449.2372 1500.7765,-447.6702 1502.0864,-454.5466\"/>\n<text text-anchor=\"middle\" x=\"1497.1971\" y=\"-466.2103\" font-family=\"Helvetica,sans-Serif\" font-size=\"14.00\" fill=\"#000000\">False</text>\n</g>\n<!-- 2 -->\n<g id=\"node3\" class=\"node\">\n<title>2</title>\n<path fill=\"#47a4e7\" stroke=\"#000000\" d=\"M254,-365C254,-365 154,-365 154,-365 148,-365 142,-359 142,-353 142,-353 142,-309 142,-309 142,-303 148,-297 154,-297 154,-297 254,-297 254,-297 260,-297 266,-303 266,-309 266,-309 266,-353 266,-353 266,-359 260,-365 254,-365\"/>\n<text text-anchor=\"middle\" x=\"204\" y=\"-349.8\" font-family=\"Helvetica,sans-Serif\" font-size=\"14.00\" fill=\"#000000\">natlty1 &lt;= 5.0</text>\n<text text-anchor=\"middle\" x=\"204\" y=\"-334.8\" font-family=\"Helvetica,sans-Serif\" font-size=\"14.00\" fill=\"#000000\">gini = 0.122</text>\n<text text-anchor=\"middle\" x=\"204\" y=\"-319.8\" font-family=\"Helvetica,sans-Serif\" font-size=\"14.00\" fill=\"#000000\">samples = 764</text>\n<text text-anchor=\"middle\" x=\"204\" y=\"-304.8\" font-family=\"Helvetica,sans-Serif\" font-size=\"14.00\" fill=\"#000000\">value = [50, 714]</text>\n</g>\n<!-- 1&#45;&gt;2 -->\n<g id=\"edge2\" class=\"edge\">\n<title>1&#45;&gt;2</title>\n<path fill=\"none\" stroke=\"#000000\" d=\"M481.6388,-415.9248C423.6177,-398.1772 337.179,-371.7371 276.1925,-353.0824\"/>\n<polygon fill=\"#000000\" stroke=\"#000000\" points=\"276.8395,-349.6203 266.2531,-350.0421 274.7919,-356.3141 276.8395,-349.6203\"/>\n</g>\n<!-- 9 -->\n<g id=\"node10\" class=\"node\">\n<title>9</title>\n<path fill=\"#7dbfee\" stroke=\"#000000\" d=\"M594,-365C594,-365 494,-365 494,-365 488,-365 482,-359 482,-353 482,-353 482,-309 482,-309 482,-303 488,-297 494,-297 494,-297 594,-297 594,-297 600,-297 606,-303 606,-309 606,-309 606,-353 606,-353 606,-359 600,-365 594,-365\"/>\n<text text-anchor=\"middle\" x=\"544\" y=\"-349.8\" font-family=\"Helvetica,sans-Serif\" font-size=\"14.00\" fill=\"#000000\">country &lt;= 10.0</text>\n<text text-anchor=\"middle\" x=\"544\" y=\"-334.8\" font-family=\"Helvetica,sans-Serif\" font-size=\"14.00\" fill=\"#000000\">gini = 0.381</text>\n<text text-anchor=\"middle\" x=\"544\" y=\"-319.8\" font-family=\"Helvetica,sans-Serif\" font-size=\"14.00\" fill=\"#000000\">samples = 191</text>\n<text text-anchor=\"middle\" x=\"544\" y=\"-304.8\" font-family=\"Helvetica,sans-Serif\" font-size=\"14.00\" fill=\"#000000\">value = [49, 142]</text>\n</g>\n<!-- 1&#45;&gt;9 -->\n<g id=\"edge9\" class=\"edge\">\n<title>1&#45;&gt;9</title>\n<path fill=\"none\" stroke=\"#000000\" d=\"M544,-400.9465C544,-392.776 544,-383.9318 544,-375.3697\"/>\n<polygon fill=\"#000000\" stroke=\"#000000\" points=\"547.5001,-375.13 544,-365.13 540.5001,-375.13 547.5001,-375.13\"/>\n</g>\n<!-- 3 -->\n<g id=\"node4\" class=\"node\">\n<title>3</title>\n<path fill=\"#e58139\" stroke=\"#000000\" d=\"M111.5,-253.5C111.5,-253.5 36.5,-253.5 36.5,-253.5 30.5,-253.5 24.5,-247.5 24.5,-241.5 24.5,-241.5 24.5,-212.5 24.5,-212.5 24.5,-206.5 30.5,-200.5 36.5,-200.5 36.5,-200.5 111.5,-200.5 111.5,-200.5 117.5,-200.5 123.5,-206.5 123.5,-212.5 123.5,-212.5 123.5,-241.5 123.5,-241.5 123.5,-247.5 117.5,-253.5 111.5,-253.5\"/>\n<text text-anchor=\"middle\" x=\"74\" y=\"-238.3\" font-family=\"Helvetica,sans-Serif\" font-size=\"14.00\" fill=\"#000000\">gini = 0.0</text>\n<text text-anchor=\"middle\" x=\"74\" y=\"-223.3\" font-family=\"Helvetica,sans-Serif\" font-size=\"14.00\" fill=\"#000000\">samples = 2</text>\n<text text-anchor=\"middle\" x=\"74\" y=\"-208.3\" font-family=\"Helvetica,sans-Serif\" font-size=\"14.00\" fill=\"#000000\">value = [2, 0]</text>\n</g>\n<!-- 2&#45;&gt;3 -->\n<g id=\"edge3\" class=\"edge\">\n<title>2&#45;&gt;3</title>\n<path fill=\"none\" stroke=\"#000000\" d=\"M161.4331,-296.9465C146.563,-285.0504 129.9075,-271.726 115.1546,-259.9237\"/>\n<polygon fill=\"#000000\" stroke=\"#000000\" points=\"117.1729,-257.0561 107.1777,-253.5422 112.8,-262.5222 117.1729,-257.0561\"/>\n</g>\n<!-- 4 -->\n<g id=\"node5\" class=\"node\">\n<title>4</title>\n<path fill=\"#46a4e7\" stroke=\"#000000\" d=\"M254,-261C254,-261 154,-261 154,-261 148,-261 142,-255 142,-249 142,-249 142,-205 142,-205 142,-199 148,-193 154,-193 154,-193 254,-193 254,-193 260,-193 266,-199 266,-205 266,-205 266,-249 266,-249 266,-255 260,-261 254,-261\"/>\n<text text-anchor=\"middle\" x=\"204\" y=\"-245.8\" font-family=\"Helvetica,sans-Serif\" font-size=\"14.00\" fill=\"#000000\">gname &lt;= 0.5</text>\n<text text-anchor=\"middle\" x=\"204\" y=\"-230.8\" font-family=\"Helvetica,sans-Serif\" font-size=\"14.00\" fill=\"#000000\">gini = 0.118</text>\n<text text-anchor=\"middle\" x=\"204\" y=\"-215.8\" font-family=\"Helvetica,sans-Serif\" font-size=\"14.00\" fill=\"#000000\">samples = 762</text>\n<text text-anchor=\"middle\" x=\"204\" y=\"-200.8\" font-family=\"Helvetica,sans-Serif\" font-size=\"14.00\" fill=\"#000000\">value = [48, 714]</text>\n</g>\n<!-- 2&#45;&gt;4 -->\n<g id=\"edge4\" class=\"edge\">\n<title>2&#45;&gt;4</title>\n<path fill=\"none\" stroke=\"#000000\" d=\"M204,-296.9465C204,-288.776 204,-279.9318 204,-271.3697\"/>\n<polygon fill=\"#000000\" stroke=\"#000000\" points=\"207.5001,-271.13 204,-261.13 200.5001,-271.13 207.5001,-271.13\"/>\n</g>\n<!-- 5 -->\n<g id=\"node6\" class=\"node\">\n<title>5</title>\n<path fill=\"#e58139\" stroke=\"#000000\" d=\"M111.5,-149.5C111.5,-149.5 36.5,-149.5 36.5,-149.5 30.5,-149.5 24.5,-143.5 24.5,-137.5 24.5,-137.5 24.5,-108.5 24.5,-108.5 24.5,-102.5 30.5,-96.5 36.5,-96.5 36.5,-96.5 111.5,-96.5 111.5,-96.5 117.5,-96.5 123.5,-102.5 123.5,-108.5 123.5,-108.5 123.5,-137.5 123.5,-137.5 123.5,-143.5 117.5,-149.5 111.5,-149.5\"/>\n<text text-anchor=\"middle\" x=\"74\" y=\"-134.3\" font-family=\"Helvetica,sans-Serif\" font-size=\"14.00\" fill=\"#000000\">gini = 0.0</text>\n<text text-anchor=\"middle\" x=\"74\" y=\"-119.3\" font-family=\"Helvetica,sans-Serif\" font-size=\"14.00\" fill=\"#000000\">samples = 1</text>\n<text text-anchor=\"middle\" x=\"74\" y=\"-104.3\" font-family=\"Helvetica,sans-Serif\" font-size=\"14.00\" fill=\"#000000\">value = [1, 0]</text>\n</g>\n<!-- 4&#45;&gt;5 -->\n<g id=\"edge5\" class=\"edge\">\n<title>4&#45;&gt;5</title>\n<path fill=\"none\" stroke=\"#000000\" d=\"M161.4331,-192.9465C146.563,-181.0504 129.9075,-167.726 115.1546,-155.9237\"/>\n<polygon fill=\"#000000\" stroke=\"#000000\" points=\"117.1729,-153.0561 107.1777,-149.5422 112.8,-158.5222 117.1729,-153.0561\"/>\n</g>\n<!-- 6 -->\n<g id=\"node7\" class=\"node\">\n<title>6</title>\n<path fill=\"#46a3e7\" stroke=\"#000000\" d=\"M254,-157C254,-157 154,-157 154,-157 148,-157 142,-151 142,-145 142,-145 142,-101 142,-101 142,-95 148,-89 154,-89 154,-89 254,-89 254,-89 260,-89 266,-95 266,-101 266,-101 266,-145 266,-145 266,-151 260,-157 254,-157\"/>\n<text text-anchor=\"middle\" x=\"204\" y=\"-141.8\" font-family=\"Helvetica,sans-Serif\" font-size=\"14.00\" fill=\"#000000\">target1 &lt;= 685.5</text>\n<text text-anchor=\"middle\" x=\"204\" y=\"-126.8\" font-family=\"Helvetica,sans-Serif\" font-size=\"14.00\" fill=\"#000000\">gini = 0.116</text>\n<text text-anchor=\"middle\" x=\"204\" y=\"-111.8\" font-family=\"Helvetica,sans-Serif\" font-size=\"14.00\" fill=\"#000000\">samples = 761</text>\n<text text-anchor=\"middle\" x=\"204\" y=\"-96.8\" font-family=\"Helvetica,sans-Serif\" font-size=\"14.00\" fill=\"#000000\">value = [47, 714]</text>\n</g>\n<!-- 4&#45;&gt;6 -->\n<g id=\"edge6\" class=\"edge\">\n<title>4&#45;&gt;6</title>\n<path fill=\"none\" stroke=\"#000000\" d=\"M204,-192.9465C204,-184.776 204,-175.9318 204,-167.3697\"/>\n<polygon fill=\"#000000\" stroke=\"#000000\" points=\"207.5001,-167.13 204,-157.13 200.5001,-167.13 207.5001,-167.13\"/>\n</g>\n<!-- 7 -->\n<g id=\"node8\" class=\"node\">\n<title>7</title>\n<path fill=\"#40a1e6\" stroke=\"#000000\" d=\"M112,-53C112,-53 12,-53 12,-53 6,-53 0,-47 0,-41 0,-41 0,-12 0,-12 0,-6 6,0 12,0 12,0 112,0 112,0 118,0 124,-6 124,-12 124,-12 124,-41 124,-41 124,-47 118,-53 112,-53\"/>\n<text text-anchor=\"middle\" x=\"62\" y=\"-37.8\" font-family=\"Helvetica,sans-Serif\" font-size=\"14.00\" fill=\"#000000\">gini = 0.069</text>\n<text text-anchor=\"middle\" x=\"62\" y=\"-22.8\" font-family=\"Helvetica,sans-Serif\" font-size=\"14.00\" fill=\"#000000\">samples = 475</text>\n<text text-anchor=\"middle\" x=\"62\" y=\"-7.8\" font-family=\"Helvetica,sans-Serif\" font-size=\"14.00\" fill=\"#000000\">value = [17, 458]</text>\n</g>\n<!-- 6&#45;&gt;7 -->\n<g id=\"edge7\" class=\"edge\">\n<title>6&#45;&gt;7</title>\n<path fill=\"none\" stroke=\"#000000\" d=\"M153.9361,-88.9777C139.6531,-79.2713 124.1287,-68.7213 109.9737,-59.1018\"/>\n<polygon fill=\"#000000\" stroke=\"#000000\" points=\"111.5986,-55.9744 101.3605,-53.2485 107.6641,-61.764 111.5986,-55.9744\"/>\n</g>\n<!-- 8 -->\n<g id=\"node9\" class=\"node\">\n<title>8</title>\n<path fill=\"#50a8e8\" stroke=\"#000000\" d=\"M254,-53C254,-53 154,-53 154,-53 148,-53 142,-47 142,-41 142,-41 142,-12 142,-12 142,-6 148,0 154,0 154,0 254,0 254,0 260,0 266,-6 266,-12 266,-12 266,-41 266,-41 266,-47 260,-53 254,-53\"/>\n<text text-anchor=\"middle\" x=\"204\" y=\"-37.8\" font-family=\"Helvetica,sans-Serif\" font-size=\"14.00\" fill=\"#000000\">gini = 0.188</text>\n<text text-anchor=\"middle\" x=\"204\" y=\"-22.8\" font-family=\"Helvetica,sans-Serif\" font-size=\"14.00\" fill=\"#000000\">samples = 286</text>\n<text text-anchor=\"middle\" x=\"204\" y=\"-7.8\" font-family=\"Helvetica,sans-Serif\" font-size=\"14.00\" fill=\"#000000\">value = [30, 256]</text>\n</g>\n<!-- 6&#45;&gt;8 -->\n<g id=\"edge8\" class=\"edge\">\n<title>6&#45;&gt;8</title>\n<path fill=\"none\" stroke=\"#000000\" d=\"M204,-88.9777C204,-80.7364 204,-71.887 204,-63.5153\"/>\n<polygon fill=\"#000000\" stroke=\"#000000\" points=\"207.5001,-63.2484 204,-53.2485 200.5001,-63.2485 207.5001,-63.2484\"/>\n</g>\n<!-- 10 -->\n<g id=\"node11\" class=\"node\">\n<title>10</title>\n<path fill=\"#f0b78e\" stroke=\"#000000\" d=\"M505,-261C505,-261 397,-261 397,-261 391,-261 385,-255 385,-249 385,-249 385,-205 385,-205 385,-199 391,-193 397,-193 397,-193 505,-193 505,-193 511,-193 517,-199 517,-205 517,-205 517,-249 517,-249 517,-255 511,-261 505,-261\"/>\n<text text-anchor=\"middle\" x=\"451\" y=\"-245.8\" font-family=\"Helvetica,sans-Serif\" font-size=\"14.00\" fill=\"#000000\">weaptype1 &lt;= 5.5</text>\n<text text-anchor=\"middle\" x=\"451\" y=\"-230.8\" font-family=\"Helvetica,sans-Serif\" font-size=\"14.00\" fill=\"#000000\">gini = 0.42</text>\n<text text-anchor=\"middle\" x=\"451\" y=\"-215.8\" font-family=\"Helvetica,sans-Serif\" font-size=\"14.00\" fill=\"#000000\">samples = 10</text>\n<text text-anchor=\"middle\" x=\"451\" y=\"-200.8\" font-family=\"Helvetica,sans-Serif\" font-size=\"14.00\" fill=\"#000000\">value = [7, 3]</text>\n</g>\n<!-- 9&#45;&gt;10 -->\n<g id=\"edge10\" class=\"edge\">\n<title>9&#45;&gt;10</title>\n<path fill=\"none\" stroke=\"#000000\" d=\"M513.5483,-296.9465C505.5194,-287.968 496.763,-278.1758 488.4133,-268.8385\"/>\n<polygon fill=\"#000000\" stroke=\"#000000\" points=\"490.795,-266.2512 481.5201,-261.13 485.577,-270.9174 490.795,-266.2512\"/>\n</g>\n<!-- 15 -->\n<g id=\"node16\" class=\"node\">\n<title>15</title>\n<path fill=\"#75bbed\" stroke=\"#000000\" d=\"M688,-261C688,-261 588,-261 588,-261 582,-261 576,-255 576,-249 576,-249 576,-205 576,-205 576,-199 582,-193 588,-193 588,-193 688,-193 688,-193 694,-193 700,-199 700,-205 700,-205 700,-249 700,-249 700,-255 694,-261 688,-261\"/>\n<text text-anchor=\"middle\" x=\"638\" y=\"-245.8\" font-family=\"Helvetica,sans-Serif\" font-size=\"14.00\" fill=\"#000000\">region &lt;= 6.5</text>\n<text text-anchor=\"middle\" x=\"638\" y=\"-230.8\" font-family=\"Helvetica,sans-Serif\" font-size=\"14.00\" fill=\"#000000\">gini = 0.356</text>\n<text text-anchor=\"middle\" x=\"638\" y=\"-215.8\" font-family=\"Helvetica,sans-Serif\" font-size=\"14.00\" fill=\"#000000\">samples = 181</text>\n<text text-anchor=\"middle\" x=\"638\" y=\"-200.8\" font-family=\"Helvetica,sans-Serif\" font-size=\"14.00\" fill=\"#000000\">value = [42, 139]</text>\n</g>\n<!-- 9&#45;&gt;15 -->\n<g id=\"edge15\" class=\"edge\">\n<title>9&#45;&gt;15</title>\n<path fill=\"none\" stroke=\"#000000\" d=\"M574.7791,-296.9465C582.9755,-287.8782 591.922,-277.9799 600.4375,-268.5585\"/>\n<polygon fill=\"#000000\" stroke=\"#000000\" points=\"603.0429,-270.8957 607.1517,-261.13 597.8497,-266.2019 603.0429,-270.8957\"/>\n</g>\n<!-- 11 -->\n<g id=\"node12\" class=\"node\">\n<title>11</title>\n<path fill=\"#e58139\" stroke=\"#000000\" d=\"M371.5,-149.5C371.5,-149.5 296.5,-149.5 296.5,-149.5 290.5,-149.5 284.5,-143.5 284.5,-137.5 284.5,-137.5 284.5,-108.5 284.5,-108.5 284.5,-102.5 290.5,-96.5 296.5,-96.5 296.5,-96.5 371.5,-96.5 371.5,-96.5 377.5,-96.5 383.5,-102.5 383.5,-108.5 383.5,-108.5 383.5,-137.5 383.5,-137.5 383.5,-143.5 377.5,-149.5 371.5,-149.5\"/>\n<text text-anchor=\"middle\" x=\"334\" y=\"-134.3\" font-family=\"Helvetica,sans-Serif\" font-size=\"14.00\" fill=\"#000000\">gini = 0.0</text>\n<text text-anchor=\"middle\" x=\"334\" y=\"-119.3\" font-family=\"Helvetica,sans-Serif\" font-size=\"14.00\" fill=\"#000000\">samples = 6</text>\n<text text-anchor=\"middle\" x=\"334\" y=\"-104.3\" font-family=\"Helvetica,sans-Serif\" font-size=\"14.00\" fill=\"#000000\">value = [6, 0]</text>\n</g>\n<!-- 10&#45;&gt;11 -->\n<g id=\"edge11\" class=\"edge\">\n<title>10&#45;&gt;11</title>\n<path fill=\"none\" stroke=\"#000000\" d=\"M412.6898,-192.9465C399.4306,-181.1606 384.5942,-167.9726 371.4084,-156.2519\"/>\n<polygon fill=\"#000000\" stroke=\"#000000\" points=\"373.6593,-153.5699 363.8599,-149.5422 369.0088,-158.8018 373.6593,-153.5699\"/>\n</g>\n<!-- 12 -->\n<g id=\"node13\" class=\"node\">\n<title>12</title>\n<path fill=\"#7bbeee\" stroke=\"#000000\" d=\"M488.5,-157C488.5,-157 413.5,-157 413.5,-157 407.5,-157 401.5,-151 401.5,-145 401.5,-145 401.5,-101 401.5,-101 401.5,-95 407.5,-89 413.5,-89 413.5,-89 488.5,-89 488.5,-89 494.5,-89 500.5,-95 500.5,-101 500.5,-101 500.5,-145 500.5,-145 500.5,-151 494.5,-157 488.5,-157\"/>\n<text text-anchor=\"middle\" x=\"451\" y=\"-141.8\" font-family=\"Helvetica,sans-Serif\" font-size=\"14.00\" fill=\"#000000\">iday &lt;= 19.0</text>\n<text text-anchor=\"middle\" x=\"451\" y=\"-126.8\" font-family=\"Helvetica,sans-Serif\" font-size=\"14.00\" fill=\"#000000\">gini = 0.375</text>\n<text text-anchor=\"middle\" x=\"451\" y=\"-111.8\" font-family=\"Helvetica,sans-Serif\" font-size=\"14.00\" fill=\"#000000\">samples = 4</text>\n<text text-anchor=\"middle\" x=\"451\" y=\"-96.8\" font-family=\"Helvetica,sans-Serif\" font-size=\"14.00\" fill=\"#000000\">value = [1, 3]</text>\n</g>\n<!-- 10&#45;&gt;12 -->\n<g id=\"edge12\" class=\"edge\">\n<title>10&#45;&gt;12</title>\n<path fill=\"none\" stroke=\"#000000\" d=\"M451,-192.9465C451,-184.776 451,-175.9318 451,-167.3697\"/>\n<polygon fill=\"#000000\" stroke=\"#000000\" points=\"454.5001,-167.13 451,-157.13 447.5001,-167.13 454.5001,-167.13\"/>\n</g>\n<!-- 13 -->\n<g id=\"node14\" class=\"node\">\n<title>13</title>\n<path fill=\"#399de5\" stroke=\"#000000\" d=\"M371.5,-53C371.5,-53 296.5,-53 296.5,-53 290.5,-53 284.5,-47 284.5,-41 284.5,-41 284.5,-12 284.5,-12 284.5,-6 290.5,0 296.5,0 296.5,0 371.5,0 371.5,0 377.5,0 383.5,-6 383.5,-12 383.5,-12 383.5,-41 383.5,-41 383.5,-47 377.5,-53 371.5,-53\"/>\n<text text-anchor=\"middle\" x=\"334\" y=\"-37.8\" font-family=\"Helvetica,sans-Serif\" font-size=\"14.00\" fill=\"#000000\">gini = 0.0</text>\n<text text-anchor=\"middle\" x=\"334\" y=\"-22.8\" font-family=\"Helvetica,sans-Serif\" font-size=\"14.00\" fill=\"#000000\">samples = 3</text>\n<text text-anchor=\"middle\" x=\"334\" y=\"-7.8\" font-family=\"Helvetica,sans-Serif\" font-size=\"14.00\" fill=\"#000000\">value = [0, 3]</text>\n</g>\n<!-- 12&#45;&gt;13 -->\n<g id=\"edge13\" class=\"edge\">\n<title>12&#45;&gt;13</title>\n<path fill=\"none\" stroke=\"#000000\" d=\"M409.7502,-88.9777C398.2039,-79.4545 385.6729,-69.1191 374.189,-59.6473\"/>\n<polygon fill=\"#000000\" stroke=\"#000000\" points=\"376.3724,-56.9113 366.4308,-53.2485 371.9184,-62.3115 376.3724,-56.9113\"/>\n</g>\n<!-- 14 -->\n<g id=\"node15\" class=\"node\">\n<title>14</title>\n<path fill=\"#e58139\" stroke=\"#000000\" d=\"M488.5,-53C488.5,-53 413.5,-53 413.5,-53 407.5,-53 401.5,-47 401.5,-41 401.5,-41 401.5,-12 401.5,-12 401.5,-6 407.5,0 413.5,0 413.5,0 488.5,0 488.5,0 494.5,0 500.5,-6 500.5,-12 500.5,-12 500.5,-41 500.5,-41 500.5,-47 494.5,-53 488.5,-53\"/>\n<text text-anchor=\"middle\" x=\"451\" y=\"-37.8\" font-family=\"Helvetica,sans-Serif\" font-size=\"14.00\" fill=\"#000000\">gini = 0.0</text>\n<text text-anchor=\"middle\" x=\"451\" y=\"-22.8\" font-family=\"Helvetica,sans-Serif\" font-size=\"14.00\" fill=\"#000000\">samples = 1</text>\n<text text-anchor=\"middle\" x=\"451\" y=\"-7.8\" font-family=\"Helvetica,sans-Serif\" font-size=\"14.00\" fill=\"#000000\">value = [1, 0]</text>\n</g>\n<!-- 12&#45;&gt;14 -->\n<g id=\"edge14\" class=\"edge\">\n<title>12&#45;&gt;14</title>\n<path fill=\"none\" stroke=\"#000000\" d=\"M451,-88.9777C451,-80.7364 451,-71.887 451,-63.5153\"/>\n<polygon fill=\"#000000\" stroke=\"#000000\" points=\"454.5001,-63.2484 451,-53.2485 447.5001,-63.2485 454.5001,-63.2484\"/>\n</g>\n<!-- 16 -->\n<g id=\"node17\" class=\"node\">\n<title>16</title>\n<path fill=\"#a4d2f3\" stroke=\"#000000\" d=\"M687,-157C687,-157 589,-157 589,-157 583,-157 577,-151 577,-145 577,-145 577,-101 577,-101 577,-95 583,-89 589,-89 589,-89 687,-89 687,-89 693,-89 699,-95 699,-101 699,-101 699,-145 699,-145 699,-151 693,-157 687,-157\"/>\n<text text-anchor=\"middle\" x=\"638\" y=\"-141.8\" font-family=\"Helvetica,sans-Serif\" font-size=\"14.00\" fill=\"#000000\">gname &lt;= 272.5</text>\n<text text-anchor=\"middle\" x=\"638\" y=\"-126.8\" font-family=\"Helvetica,sans-Serif\" font-size=\"14.00\" fill=\"#000000\">gini = 0.455</text>\n<text text-anchor=\"middle\" x=\"638\" y=\"-111.8\" font-family=\"Helvetica,sans-Serif\" font-size=\"14.00\" fill=\"#000000\">samples = 97</text>\n<text text-anchor=\"middle\" x=\"638\" y=\"-96.8\" font-family=\"Helvetica,sans-Serif\" font-size=\"14.00\" fill=\"#000000\">value = [34, 63]</text>\n</g>\n<!-- 15&#45;&gt;16 -->\n<g id=\"edge16\" class=\"edge\">\n<title>15&#45;&gt;16</title>\n<path fill=\"none\" stroke=\"#000000\" d=\"M638,-192.9465C638,-184.776 638,-175.9318 638,-167.3697\"/>\n<polygon fill=\"#000000\" stroke=\"#000000\" points=\"641.5001,-167.13 638,-157.13 634.5001,-167.13 641.5001,-167.13\"/>\n</g>\n<!-- 19 -->\n<g id=\"node20\" class=\"node\">\n<title>19</title>\n<path fill=\"#4ea7e8\" stroke=\"#000000\" d=\"M869,-157C869,-157 771,-157 771,-157 765,-157 759,-151 759,-145 759,-145 759,-101 759,-101 759,-95 765,-89 771,-89 771,-89 869,-89 869,-89 875,-89 881,-95 881,-101 881,-101 881,-145 881,-145 881,-151 875,-157 869,-157\"/>\n<text text-anchor=\"middle\" x=\"820\" y=\"-141.8\" font-family=\"Helvetica,sans-Serif\" font-size=\"14.00\" fill=\"#000000\">target1 &lt;= 821.5</text>\n<text text-anchor=\"middle\" x=\"820\" y=\"-126.8\" font-family=\"Helvetica,sans-Serif\" font-size=\"14.00\" fill=\"#000000\">gini = 0.172</text>\n<text text-anchor=\"middle\" x=\"820\" y=\"-111.8\" font-family=\"Helvetica,sans-Serif\" font-size=\"14.00\" fill=\"#000000\">samples = 84</text>\n<text text-anchor=\"middle\" x=\"820\" y=\"-96.8\" font-family=\"Helvetica,sans-Serif\" font-size=\"14.00\" fill=\"#000000\">value = [8, 76]</text>\n</g>\n<!-- 15&#45;&gt;19 -->\n<g id=\"edge19\" class=\"edge\">\n<title>15&#45;&gt;19</title>\n<path fill=\"none\" stroke=\"#000000\" d=\"M697.5936,-192.9465C714.7202,-183.1599 733.5384,-172.4066 751.1735,-162.3294\"/>\n<polygon fill=\"#000000\" stroke=\"#000000\" points=\"753.3266,-165.1303 760.2725,-157.13 749.8536,-159.0526 753.3266,-165.1303\"/>\n</g>\n<!-- 17 -->\n<g id=\"node18\" class=\"node\">\n<title>17</title>\n<path fill=\"#91c9f1\" stroke=\"#000000\" d=\"M623,-53C623,-53 531,-53 531,-53 525,-53 519,-47 519,-41 519,-41 519,-12 519,-12 519,-6 525,0 531,0 531,0 623,0 623,0 629,0 635,-6 635,-12 635,-12 635,-41 635,-41 635,-47 629,-53 623,-53\"/>\n<text text-anchor=\"middle\" x=\"577\" y=\"-37.8\" font-family=\"Helvetica,sans-Serif\" font-size=\"14.00\" fill=\"#000000\">gini = 0.426</text>\n<text text-anchor=\"middle\" x=\"577\" y=\"-22.8\" font-family=\"Helvetica,sans-Serif\" font-size=\"14.00\" fill=\"#000000\">samples = 91</text>\n<text text-anchor=\"middle\" x=\"577\" y=\"-7.8\" font-family=\"Helvetica,sans-Serif\" font-size=\"14.00\" fill=\"#000000\">value = [28, 63]</text>\n</g>\n<!-- 16&#45;&gt;17 -->\n<g id=\"edge17\" class=\"edge\">\n<title>16&#45;&gt;17</title>\n<path fill=\"none\" stroke=\"#000000\" d=\"M616.4937,-88.9777C610.9369,-80.187 604.9427,-70.7044 599.3441,-61.8477\"/>\n<polygon fill=\"#000000\" stroke=\"#000000\" points=\"602.2101,-59.8312 593.9084,-53.2485 596.2931,-63.5714 602.2101,-59.8312\"/>\n</g>\n<!-- 18 -->\n<g id=\"node19\" class=\"node\">\n<title>18</title>\n<path fill=\"#e58139\" stroke=\"#000000\" d=\"M740.5,-53C740.5,-53 665.5,-53 665.5,-53 659.5,-53 653.5,-47 653.5,-41 653.5,-41 653.5,-12 653.5,-12 653.5,-6 659.5,0 665.5,0 665.5,0 740.5,0 740.5,0 746.5,0 752.5,-6 752.5,-12 752.5,-12 752.5,-41 752.5,-41 752.5,-47 746.5,-53 740.5,-53\"/>\n<text text-anchor=\"middle\" x=\"703\" y=\"-37.8\" font-family=\"Helvetica,sans-Serif\" font-size=\"14.00\" fill=\"#000000\">gini = 0.0</text>\n<text text-anchor=\"middle\" x=\"703\" y=\"-22.8\" font-family=\"Helvetica,sans-Serif\" font-size=\"14.00\" fill=\"#000000\">samples = 6</text>\n<text text-anchor=\"middle\" x=\"703\" y=\"-7.8\" font-family=\"Helvetica,sans-Serif\" font-size=\"14.00\" fill=\"#000000\">value = [6, 0]</text>\n</g>\n<!-- 16&#45;&gt;18 -->\n<g id=\"edge18\" class=\"edge\">\n<title>16&#45;&gt;18</title>\n<path fill=\"none\" stroke=\"#000000\" d=\"M660.9166,-88.9777C666.8994,-80.0954 673.3582,-70.5067 679.377,-61.5711\"/>\n<polygon fill=\"#000000\" stroke=\"#000000\" points=\"682.2991,-63.4978 684.9829,-53.2485 676.4933,-59.5871 682.2991,-63.4978\"/>\n</g>\n<!-- 20 -->\n<g id=\"node21\" class=\"node\">\n<title>20</title>\n<path fill=\"#e58139\" stroke=\"#000000\" d=\"M857.5,-53C857.5,-53 782.5,-53 782.5,-53 776.5,-53 770.5,-47 770.5,-41 770.5,-41 770.5,-12 770.5,-12 770.5,-6 776.5,0 782.5,0 782.5,0 857.5,0 857.5,0 863.5,0 869.5,-6 869.5,-12 869.5,-12 869.5,-41 869.5,-41 869.5,-47 863.5,-53 857.5,-53\"/>\n<text text-anchor=\"middle\" x=\"820\" y=\"-37.8\" font-family=\"Helvetica,sans-Serif\" font-size=\"14.00\" fill=\"#000000\">gini = 0.0</text>\n<text text-anchor=\"middle\" x=\"820\" y=\"-22.8\" font-family=\"Helvetica,sans-Serif\" font-size=\"14.00\" fill=\"#000000\">samples = 1</text>\n<text text-anchor=\"middle\" x=\"820\" y=\"-7.8\" font-family=\"Helvetica,sans-Serif\" font-size=\"14.00\" fill=\"#000000\">value = [1, 0]</text>\n</g>\n<!-- 19&#45;&gt;20 -->\n<g id=\"edge20\" class=\"edge\">\n<title>19&#45;&gt;20</title>\n<path fill=\"none\" stroke=\"#000000\" d=\"M820,-88.9777C820,-80.7364 820,-71.887 820,-63.5153\"/>\n<polygon fill=\"#000000\" stroke=\"#000000\" points=\"823.5001,-63.2484 820,-53.2485 816.5001,-63.2485 823.5001,-63.2484\"/>\n</g>\n<!-- 21 -->\n<g id=\"node22\" class=\"node\">\n<title>21</title>\n<path fill=\"#4ba6e7\" stroke=\"#000000\" d=\"M982.5,-53C982.5,-53 899.5,-53 899.5,-53 893.5,-53 887.5,-47 887.5,-41 887.5,-41 887.5,-12 887.5,-12 887.5,-6 893.5,0 899.5,0 899.5,0 982.5,0 982.5,0 988.5,0 994.5,-6 994.5,-12 994.5,-12 994.5,-41 994.5,-41 994.5,-47 988.5,-53 982.5,-53\"/>\n<text text-anchor=\"middle\" x=\"941\" y=\"-37.8\" font-family=\"Helvetica,sans-Serif\" font-size=\"14.00\" fill=\"#000000\">gini = 0.154</text>\n<text text-anchor=\"middle\" x=\"941\" y=\"-22.8\" font-family=\"Helvetica,sans-Serif\" font-size=\"14.00\" fill=\"#000000\">samples = 83</text>\n<text text-anchor=\"middle\" x=\"941\" y=\"-7.8\" font-family=\"Helvetica,sans-Serif\" font-size=\"14.00\" fill=\"#000000\">value = [7, 76]</text>\n</g>\n<!-- 19&#45;&gt;21 -->\n<g id=\"edge21\" class=\"edge\">\n<title>19&#45;&gt;21</title>\n<path fill=\"none\" stroke=\"#000000\" d=\"M862.6601,-88.9777C874.6011,-79.4545 887.5605,-69.1191 899.437,-59.6473\"/>\n<polygon fill=\"#000000\" stroke=\"#000000\" points=\"901.8246,-62.22 907.4605,-53.2485 897.46,-56.7473 901.8246,-62.22\"/>\n</g>\n<!-- 23 -->\n<g id=\"node24\" class=\"node\">\n<title>23</title>\n<path fill=\"#a4d2f3\" stroke=\"#000000\" d=\"M1644,-365C1644,-365 1528,-365 1528,-365 1522,-365 1516,-359 1516,-353 1516,-353 1516,-309 1516,-309 1516,-303 1522,-297 1528,-297 1528,-297 1644,-297 1644,-297 1650,-297 1656,-303 1656,-309 1656,-309 1656,-353 1656,-353 1656,-359 1650,-365 1644,-365\"/>\n<text text-anchor=\"middle\" x=\"1586\" y=\"-349.8\" font-family=\"Helvetica,sans-Serif\" font-size=\"14.00\" fill=\"#000000\">targtype1 &lt;= 5.0</text>\n<text text-anchor=\"middle\" x=\"1586\" y=\"-334.8\" font-family=\"Helvetica,sans-Serif\" font-size=\"14.00\" fill=\"#000000\">gini = 0.456</text>\n<text text-anchor=\"middle\" x=\"1586\" y=\"-319.8\" font-family=\"Helvetica,sans-Serif\" font-size=\"14.00\" fill=\"#000000\">samples = 2296</text>\n<text text-anchor=\"middle\" x=\"1586\" y=\"-304.8\" font-family=\"Helvetica,sans-Serif\" font-size=\"14.00\" fill=\"#000000\">value = [807, 1489]</text>\n</g>\n<!-- 22&#45;&gt;23 -->\n<g id=\"edge23\" class=\"edge\">\n<title>22&#45;&gt;23</title>\n<path fill=\"none\" stroke=\"#000000\" d=\"M1586,-400.9465C1586,-392.776 1586,-383.9318 1586,-375.3697\"/>\n<polygon fill=\"#000000\" stroke=\"#000000\" points=\"1589.5001,-375.13 1586,-365.13 1582.5001,-375.13 1589.5001,-375.13\"/>\n</g>\n<!-- 38 -->\n<g id=\"node39\" class=\"node\">\n<title>38</title>\n<path fill=\"#f8ddca\" stroke=\"#000000\" d=\"M2465.5,-365C2465.5,-365 2340.5,-365 2340.5,-365 2334.5,-365 2328.5,-359 2328.5,-353 2328.5,-353 2328.5,-309 2328.5,-309 2328.5,-303 2334.5,-297 2340.5,-297 2340.5,-297 2465.5,-297 2465.5,-297 2471.5,-297 2477.5,-303 2477.5,-309 2477.5,-309 2477.5,-353 2477.5,-353 2477.5,-359 2471.5,-365 2465.5,-365\"/>\n<text text-anchor=\"middle\" x=\"2403\" y=\"-349.8\" font-family=\"Helvetica,sans-Serif\" font-size=\"14.00\" fill=\"#000000\">extended &lt;= 0.5</text>\n<text text-anchor=\"middle\" x=\"2403\" y=\"-334.8\" font-family=\"Helvetica,sans-Serif\" font-size=\"14.00\" fill=\"#000000\">gini = 0.488</text>\n<text text-anchor=\"middle\" x=\"2403\" y=\"-319.8\" font-family=\"Helvetica,sans-Serif\" font-size=\"14.00\" fill=\"#000000\">samples = 2373</text>\n<text text-anchor=\"middle\" x=\"2403\" y=\"-304.8\" font-family=\"Helvetica,sans-Serif\" font-size=\"14.00\" fill=\"#000000\">value = [1371, 1002]</text>\n</g>\n<!-- 22&#45;&gt;38 -->\n<g id=\"edge38\" class=\"edge\">\n<title>22&#45;&gt;38</title>\n<path fill=\"none\" stroke=\"#000000\" d=\"M1660.6691,-425.495C1812.731,-406.1383 2157.473,-362.2544 2317.9122,-341.8313\"/>\n<polygon fill=\"#000000\" stroke=\"#000000\" points=\"2318.7316,-345.2553 2328.2095,-340.5205 2317.8476,-338.3113 2318.7316,-345.2553\"/>\n</g>\n<!-- 24 -->\n<g id=\"node25\" class=\"node\">\n<title>24</title>\n<path fill=\"#c1e1f7\" stroke=\"#000000\" d=\"M1532,-261C1532,-261 1424,-261 1424,-261 1418,-261 1412,-255 1412,-249 1412,-249 1412,-205 1412,-205 1412,-199 1418,-193 1424,-193 1424,-193 1532,-193 1532,-193 1538,-193 1544,-199 1544,-205 1544,-205 1544,-249 1544,-249 1544,-255 1538,-261 1532,-261\"/>\n<text text-anchor=\"middle\" x=\"1478\" y=\"-245.8\" font-family=\"Helvetica,sans-Serif\" font-size=\"14.00\" fill=\"#000000\">targtype1 &lt;= 2.5</text>\n<text text-anchor=\"middle\" x=\"1478\" y=\"-230.8\" font-family=\"Helvetica,sans-Serif\" font-size=\"14.00\" fill=\"#000000\">gini = 0.483</text>\n<text text-anchor=\"middle\" x=\"1478\" y=\"-215.8\" font-family=\"Helvetica,sans-Serif\" font-size=\"14.00\" fill=\"#000000\">samples = 1628</text>\n<text text-anchor=\"middle\" x=\"1478\" y=\"-200.8\" font-family=\"Helvetica,sans-Serif\" font-size=\"14.00\" fill=\"#000000\">value = [664, 964]</text>\n</g>\n<!-- 23&#45;&gt;24 -->\n<g id=\"edge24\" class=\"edge\">\n<title>23&#45;&gt;24</title>\n<path fill=\"none\" stroke=\"#000000\" d=\"M1550.6368,-296.9465C1541.1264,-287.7884 1530.737,-277.7838 1520.8665,-268.2788\"/>\n<polygon fill=\"#000000\" stroke=\"#000000\" points=\"1523.0737,-265.5453 1513.4427,-261.13 1518.2182,-270.5876 1523.0737,-265.5453\"/>\n</g>\n<!-- 31 -->\n<g id=\"node32\" class=\"node\">\n<title>31</title>\n<path fill=\"#6fb8ec\" stroke=\"#000000\" d=\"M1748,-261C1748,-261 1640,-261 1640,-261 1634,-261 1628,-255 1628,-249 1628,-249 1628,-205 1628,-205 1628,-199 1634,-193 1640,-193 1640,-193 1748,-193 1748,-193 1754,-193 1760,-199 1760,-205 1760,-205 1760,-249 1760,-249 1760,-255 1754,-261 1748,-261\"/>\n<text text-anchor=\"middle\" x=\"1694\" y=\"-245.8\" font-family=\"Helvetica,sans-Serif\" font-size=\"14.00\" fill=\"#000000\">specificity &lt;= 1.5</text>\n<text text-anchor=\"middle\" x=\"1694\" y=\"-230.8\" font-family=\"Helvetica,sans-Serif\" font-size=\"14.00\" fill=\"#000000\">gini = 0.336</text>\n<text text-anchor=\"middle\" x=\"1694\" y=\"-215.8\" font-family=\"Helvetica,sans-Serif\" font-size=\"14.00\" fill=\"#000000\">samples = 668</text>\n<text text-anchor=\"middle\" x=\"1694\" y=\"-200.8\" font-family=\"Helvetica,sans-Serif\" font-size=\"14.00\" fill=\"#000000\">value = [143, 525]</text>\n</g>\n<!-- 23&#45;&gt;31 -->\n<g id=\"edge31\" class=\"edge\">\n<title>23&#45;&gt;31</title>\n<path fill=\"none\" stroke=\"#000000\" d=\"M1621.3632,-296.9465C1630.8736,-287.7884 1641.263,-277.7838 1651.1335,-268.2788\"/>\n<polygon fill=\"#000000\" stroke=\"#000000\" points=\"1653.7818,-270.5876 1658.5573,-261.13 1648.9263,-265.5453 1653.7818,-270.5876\"/>\n</g>\n<!-- 25 -->\n<g id=\"node26\" class=\"node\">\n<title>25</title>\n<path fill=\"#93c9f1\" stroke=\"#000000\" d=\"M1283,-157C1283,-157 1175,-157 1175,-157 1169,-157 1163,-151 1163,-145 1163,-145 1163,-101 1163,-101 1163,-95 1169,-89 1175,-89 1175,-89 1283,-89 1283,-89 1289,-89 1295,-95 1295,-101 1295,-101 1295,-145 1295,-145 1295,-151 1289,-157 1283,-157\"/>\n<text text-anchor=\"middle\" x=\"1229\" y=\"-141.8\" font-family=\"Helvetica,sans-Serif\" font-size=\"14.00\" fill=\"#000000\">iyear &lt;= 2011.5</text>\n<text text-anchor=\"middle\" x=\"1229\" y=\"-126.8\" font-family=\"Helvetica,sans-Serif\" font-size=\"14.00\" fill=\"#000000\">gini = 0.429</text>\n<text text-anchor=\"middle\" x=\"1229\" y=\"-111.8\" font-family=\"Helvetica,sans-Serif\" font-size=\"14.00\" fill=\"#000000\">samples = 988</text>\n<text text-anchor=\"middle\" x=\"1229\" y=\"-96.8\" font-family=\"Helvetica,sans-Serif\" font-size=\"14.00\" fill=\"#000000\">value = [308, 680]</text>\n</g>\n<!-- 24&#45;&gt;25 -->\n<g id=\"edge25\" class=\"edge\">\n<title>24&#45;&gt;25</title>\n<path fill=\"none\" stroke=\"#000000\" d=\"M1411.9263,-199.403C1379.0024,-185.6516 1339.0286,-168.9557 1304.8563,-154.6829\"/>\n<polygon fill=\"#000000\" stroke=\"#000000\" points=\"1305.9589,-151.3505 1295.3825,-150.726 1303.261,-157.8097 1305.9589,-151.3505\"/>\n</g>\n<!-- 28 -->\n<g id=\"node29\" class=\"node\">\n<title>28</title>\n<path fill=\"#fae6d7\" stroke=\"#000000\" d=\"M1532,-157C1532,-157 1424,-157 1424,-157 1418,-157 1412,-151 1412,-145 1412,-145 1412,-101 1412,-101 1412,-95 1418,-89 1424,-89 1424,-89 1532,-89 1532,-89 1538,-89 1544,-95 1544,-101 1544,-101 1544,-145 1544,-145 1544,-151 1538,-157 1532,-157\"/>\n<text text-anchor=\"middle\" x=\"1478\" y=\"-141.8\" font-family=\"Helvetica,sans-Serif\" font-size=\"14.00\" fill=\"#000000\">region &lt;= 5.5</text>\n<text text-anchor=\"middle\" x=\"1478\" y=\"-126.8\" font-family=\"Helvetica,sans-Serif\" font-size=\"14.00\" fill=\"#000000\">gini = 0.494</text>\n<text text-anchor=\"middle\" x=\"1478\" y=\"-111.8\" font-family=\"Helvetica,sans-Serif\" font-size=\"14.00\" fill=\"#000000\">samples = 640</text>\n<text text-anchor=\"middle\" x=\"1478\" y=\"-96.8\" font-family=\"Helvetica,sans-Serif\" font-size=\"14.00\" fill=\"#000000\">value = [356, 284]</text>\n</g>\n<!-- 24&#45;&gt;28 -->\n<g id=\"edge28\" class=\"edge\">\n<title>24&#45;&gt;28</title>\n<path fill=\"none\" stroke=\"#000000\" d=\"M1478,-192.9465C1478,-184.776 1478,-175.9318 1478,-167.3697\"/>\n<polygon fill=\"#000000\" stroke=\"#000000\" points=\"1481.5001,-167.13 1478,-157.13 1474.5001,-167.13 1481.5001,-167.13\"/>\n</g>\n<!-- 26 -->\n<g id=\"node27\" class=\"node\">\n<title>26</title>\n<path fill=\"#f9fcfe\" stroke=\"#000000\" d=\"M1133,-53C1133,-53 1025,-53 1025,-53 1019,-53 1013,-47 1013,-41 1013,-41 1013,-12 1013,-12 1013,-6 1019,0 1025,0 1025,0 1133,0 1133,0 1139,0 1145,-6 1145,-12 1145,-12 1145,-41 1145,-41 1145,-47 1139,-53 1133,-53\"/>\n<text text-anchor=\"middle\" x=\"1079\" y=\"-37.8\" font-family=\"Helvetica,sans-Serif\" font-size=\"14.00\" fill=\"#000000\">gini = 0.5</text>\n<text text-anchor=\"middle\" x=\"1079\" y=\"-22.8\" font-family=\"Helvetica,sans-Serif\" font-size=\"14.00\" fill=\"#000000\">samples = 248</text>\n<text text-anchor=\"middle\" x=\"1079\" y=\"-7.8\" font-family=\"Helvetica,sans-Serif\" font-size=\"14.00\" fill=\"#000000\">value = [122, 126]</text>\n</g>\n<!-- 25&#45;&gt;26 -->\n<g id=\"edge26\" class=\"edge\">\n<title>25&#45;&gt;26</title>\n<path fill=\"none\" stroke=\"#000000\" d=\"M1176.1156,-88.9777C1160.8856,-79.1798 1144.3194,-68.5222 1129.2536,-58.8298\"/>\n<polygon fill=\"#000000\" stroke=\"#000000\" points=\"1130.8816,-55.7154 1120.5779,-53.2485 1127.0943,-61.6024 1130.8816,-55.7154\"/>\n</g>\n<!-- 27 -->\n<g id=\"node28\" class=\"node\">\n<title>27</title>\n<path fill=\"#7bbeee\" stroke=\"#000000\" d=\"M1283,-53C1283,-53 1175,-53 1175,-53 1169,-53 1163,-47 1163,-41 1163,-41 1163,-12 1163,-12 1163,-6 1169,0 1175,0 1175,0 1283,0 1283,0 1289,0 1295,-6 1295,-12 1295,-12 1295,-41 1295,-41 1295,-47 1289,-53 1283,-53\"/>\n<text text-anchor=\"middle\" x=\"1229\" y=\"-37.8\" font-family=\"Helvetica,sans-Serif\" font-size=\"14.00\" fill=\"#000000\">gini = 0.376</text>\n<text text-anchor=\"middle\" x=\"1229\" y=\"-22.8\" font-family=\"Helvetica,sans-Serif\" font-size=\"14.00\" fill=\"#000000\">samples = 740</text>\n<text text-anchor=\"middle\" x=\"1229\" y=\"-7.8\" font-family=\"Helvetica,sans-Serif\" font-size=\"14.00\" fill=\"#000000\">value = [186, 554]</text>\n</g>\n<!-- 25&#45;&gt;27 -->\n<g id=\"edge27\" class=\"edge\">\n<title>25&#45;&gt;27</title>\n<path fill=\"none\" stroke=\"#000000\" d=\"M1229,-88.9777C1229,-80.7364 1229,-71.887 1229,-63.5153\"/>\n<polygon fill=\"#000000\" stroke=\"#000000\" points=\"1232.5001,-63.2484 1229,-53.2485 1225.5001,-63.2485 1232.5001,-63.2484\"/>\n</g>\n<!-- 29 -->\n<g id=\"node30\" class=\"node\">\n<title>29</title>\n<path fill=\"#7ebfee\" stroke=\"#000000\" d=\"M1417,-53C1417,-53 1325,-53 1325,-53 1319,-53 1313,-47 1313,-41 1313,-41 1313,-12 1313,-12 1313,-6 1319,0 1325,0 1325,0 1417,0 1417,0 1423,0 1429,-6 1429,-12 1429,-12 1429,-41 1429,-41 1429,-47 1423,-53 1417,-53\"/>\n<text text-anchor=\"middle\" x=\"1371\" y=\"-37.8\" font-family=\"Helvetica,sans-Serif\" font-size=\"14.00\" fill=\"#000000\">gini = 0.383</text>\n<text text-anchor=\"middle\" x=\"1371\" y=\"-22.8\" font-family=\"Helvetica,sans-Serif\" font-size=\"14.00\" fill=\"#000000\">samples = 116</text>\n<text text-anchor=\"middle\" x=\"1371\" y=\"-7.8\" font-family=\"Helvetica,sans-Serif\" font-size=\"14.00\" fill=\"#000000\">value = [30, 86]</text>\n</g>\n<!-- 28&#45;&gt;29 -->\n<g id=\"edge29\" class=\"edge\">\n<title>28&#45;&gt;29</title>\n<path fill=\"none\" stroke=\"#000000\" d=\"M1440.2758,-88.9777C1429.9194,-79.6376 1418.6969,-69.5163 1408.361,-60.1947\"/>\n<polygon fill=\"#000000\" stroke=\"#000000\" points=\"1410.4291,-57.3467 1400.6589,-53.2485 1405.7409,-62.5449 1410.4291,-57.3467\"/>\n</g>\n<!-- 30 -->\n<g id=\"node31\" class=\"node\">\n<title>30</title>\n<path fill=\"#f5ceb1\" stroke=\"#000000\" d=\"M1567,-53C1567,-53 1459,-53 1459,-53 1453,-53 1447,-47 1447,-41 1447,-41 1447,-12 1447,-12 1447,-6 1453,0 1459,0 1459,0 1567,0 1567,0 1573,0 1579,-6 1579,-12 1579,-12 1579,-41 1579,-41 1579,-47 1573,-53 1567,-53\"/>\n<text text-anchor=\"middle\" x=\"1513\" y=\"-37.8\" font-family=\"Helvetica,sans-Serif\" font-size=\"14.00\" fill=\"#000000\">gini = 0.47</text>\n<text text-anchor=\"middle\" x=\"1513\" y=\"-22.8\" font-family=\"Helvetica,sans-Serif\" font-size=\"14.00\" fill=\"#000000\">samples = 524</text>\n<text text-anchor=\"middle\" x=\"1513\" y=\"-7.8\" font-family=\"Helvetica,sans-Serif\" font-size=\"14.00\" fill=\"#000000\">value = [326, 198]</text>\n</g>\n<!-- 28&#45;&gt;30 -->\n<g id=\"edge30\" class=\"edge\">\n<title>28&#45;&gt;30</title>\n<path fill=\"none\" stroke=\"#000000\" d=\"M1490.3397,-88.9777C1493.4284,-80.4617 1496.7526,-71.2963 1499.8778,-62.6798\"/>\n<polygon fill=\"#000000\" stroke=\"#000000\" points=\"1503.1791,-63.8426 1503.2985,-53.2485 1496.5985,-61.4559 1503.1791,-63.8426\"/>\n</g>\n<!-- 32 -->\n<g id=\"node33\" class=\"node\">\n<title>32</title>\n<path fill=\"#65b3eb\" stroke=\"#000000\" d=\"M1750.5,-157C1750.5,-157 1637.5,-157 1637.5,-157 1631.5,-157 1625.5,-151 1625.5,-145 1625.5,-145 1625.5,-101 1625.5,-101 1625.5,-95 1631.5,-89 1637.5,-89 1637.5,-89 1750.5,-89 1750.5,-89 1756.5,-89 1762.5,-95 1762.5,-101 1762.5,-101 1762.5,-145 1762.5,-145 1762.5,-151 1756.5,-157 1750.5,-157\"/>\n<text text-anchor=\"middle\" x=\"1694\" y=\"-141.8\" font-family=\"Helvetica,sans-Serif\" font-size=\"14.00\" fill=\"#000000\">provstate &lt;= 544.0</text>\n<text text-anchor=\"middle\" x=\"1694\" y=\"-126.8\" font-family=\"Helvetica,sans-Serif\" font-size=\"14.00\" fill=\"#000000\">gini = 0.296</text>\n<text text-anchor=\"middle\" x=\"1694\" y=\"-111.8\" font-family=\"Helvetica,sans-Serif\" font-size=\"14.00\" fill=\"#000000\">samples = 488</text>\n<text text-anchor=\"middle\" x=\"1694\" y=\"-96.8\" font-family=\"Helvetica,sans-Serif\" font-size=\"14.00\" fill=\"#000000\">value = [88, 400]</text>\n</g>\n<!-- 31&#45;&gt;32 -->\n<g id=\"edge32\" class=\"edge\">\n<title>31&#45;&gt;32</title>\n<path fill=\"none\" stroke=\"#000000\" d=\"M1694,-192.9465C1694,-184.776 1694,-175.9318 1694,-167.3697\"/>\n<polygon fill=\"#000000\" stroke=\"#000000\" points=\"1697.5001,-167.13 1694,-157.13 1690.5001,-167.13 1697.5001,-167.13\"/>\n</g>\n<!-- 35 -->\n<g id=\"node36\" class=\"node\">\n<title>35</title>\n<path fill=\"#90c8f0\" stroke=\"#000000\" d=\"M1999.5,-157C1999.5,-157 1886.5,-157 1886.5,-157 1880.5,-157 1874.5,-151 1874.5,-145 1874.5,-145 1874.5,-101 1874.5,-101 1874.5,-95 1880.5,-89 1886.5,-89 1886.5,-89 1999.5,-89 1999.5,-89 2005.5,-89 2011.5,-95 2011.5,-101 2011.5,-101 2011.5,-145 2011.5,-145 2011.5,-151 2005.5,-157 1999.5,-157\"/>\n<text text-anchor=\"middle\" x=\"1943\" y=\"-141.8\" font-family=\"Helvetica,sans-Serif\" font-size=\"14.00\" fill=\"#000000\">provstate &lt;= 599.0</text>\n<text text-anchor=\"middle\" x=\"1943\" y=\"-126.8\" font-family=\"Helvetica,sans-Serif\" font-size=\"14.00\" fill=\"#000000\">gini = 0.424</text>\n<text text-anchor=\"middle\" x=\"1943\" y=\"-111.8\" font-family=\"Helvetica,sans-Serif\" font-size=\"14.00\" fill=\"#000000\">samples = 180</text>\n<text text-anchor=\"middle\" x=\"1943\" y=\"-96.8\" font-family=\"Helvetica,sans-Serif\" font-size=\"14.00\" fill=\"#000000\">value = [55, 125]</text>\n</g>\n<!-- 31&#45;&gt;35 -->\n<g id=\"edge35\" class=\"edge\">\n<title>31&#45;&gt;35</title>\n<path fill=\"none\" stroke=\"#000000\" d=\"M1760.0737,-199.403C1792.3391,-185.9266 1831.3753,-169.6224 1865.0865,-155.5422\"/>\n<polygon fill=\"#000000\" stroke=\"#000000\" points=\"1866.565,-158.7177 1874.4436,-151.634 1863.8671,-152.2585 1866.565,-158.7177\"/>\n</g>\n<!-- 33 -->\n<g id=\"node34\" class=\"node\">\n<title>33</title>\n<path fill=\"#6fb8ec\" stroke=\"#000000\" d=\"M1709,-53C1709,-53 1609,-53 1609,-53 1603,-53 1597,-47 1597,-41 1597,-41 1597,-12 1597,-12 1597,-6 1603,0 1609,0 1609,0 1709,0 1709,0 1715,0 1721,-6 1721,-12 1721,-12 1721,-41 1721,-41 1721,-47 1715,-53 1709,-53\"/>\n<text text-anchor=\"middle\" x=\"1659\" y=\"-37.8\" font-family=\"Helvetica,sans-Serif\" font-size=\"14.00\" fill=\"#000000\">gini = 0.335</text>\n<text text-anchor=\"middle\" x=\"1659\" y=\"-22.8\" font-family=\"Helvetica,sans-Serif\" font-size=\"14.00\" fill=\"#000000\">samples = 352</text>\n<text text-anchor=\"middle\" x=\"1659\" y=\"-7.8\" font-family=\"Helvetica,sans-Serif\" font-size=\"14.00\" fill=\"#000000\">value = [75, 277]</text>\n</g>\n<!-- 32&#45;&gt;33 -->\n<g id=\"edge33\" class=\"edge\">\n<title>32&#45;&gt;33</title>\n<path fill=\"none\" stroke=\"#000000\" d=\"M1681.6603,-88.9777C1678.5716,-80.4617 1675.2474,-71.2963 1672.1222,-62.6798\"/>\n<polygon fill=\"#000000\" stroke=\"#000000\" points=\"1675.4015,-61.4559 1668.7015,-53.2485 1668.8209,-63.8426 1675.4015,-61.4559\"/>\n</g>\n<!-- 34 -->\n<g id=\"node35\" class=\"node\">\n<title>34</title>\n<path fill=\"#4ea7e8\" stroke=\"#000000\" d=\"M1851,-53C1851,-53 1751,-53 1751,-53 1745,-53 1739,-47 1739,-41 1739,-41 1739,-12 1739,-12 1739,-6 1745,0 1751,0 1751,0 1851,0 1851,0 1857,0 1863,-6 1863,-12 1863,-12 1863,-41 1863,-41 1863,-47 1857,-53 1851,-53\"/>\n<text text-anchor=\"middle\" x=\"1801\" y=\"-37.8\" font-family=\"Helvetica,sans-Serif\" font-size=\"14.00\" fill=\"#000000\">gini = 0.173</text>\n<text text-anchor=\"middle\" x=\"1801\" y=\"-22.8\" font-family=\"Helvetica,sans-Serif\" font-size=\"14.00\" fill=\"#000000\">samples = 136</text>\n<text text-anchor=\"middle\" x=\"1801\" y=\"-7.8\" font-family=\"Helvetica,sans-Serif\" font-size=\"14.00\" fill=\"#000000\">value = [13, 123]</text>\n</g>\n<!-- 32&#45;&gt;34 -->\n<g id=\"edge34\" class=\"edge\">\n<title>32&#45;&gt;34</title>\n<path fill=\"none\" stroke=\"#000000\" d=\"M1731.7242,-88.9777C1742.0806,-79.6376 1753.3031,-69.5163 1763.639,-60.1947\"/>\n<polygon fill=\"#000000\" stroke=\"#000000\" points=\"1766.2591,-62.5449 1771.3411,-53.2485 1761.5709,-57.3467 1766.2591,-62.5449\"/>\n</g>\n<!-- 36 -->\n<g id=\"node37\" class=\"node\">\n<title>36</title>\n<path fill=\"#80c0ee\" stroke=\"#000000\" d=\"M1993,-53C1993,-53 1893,-53 1893,-53 1887,-53 1881,-47 1881,-41 1881,-41 1881,-12 1881,-12 1881,-6 1887,0 1893,0 1893,0 1993,0 1993,0 1999,0 2005,-6 2005,-12 2005,-12 2005,-41 2005,-41 2005,-47 1999,-53 1993,-53\"/>\n<text text-anchor=\"middle\" x=\"1943\" y=\"-37.8\" font-family=\"Helvetica,sans-Serif\" font-size=\"14.00\" fill=\"#000000\">gini = 0.389</text>\n<text text-anchor=\"middle\" x=\"1943\" y=\"-22.8\" font-family=\"Helvetica,sans-Serif\" font-size=\"14.00\" fill=\"#000000\">samples = 159</text>\n<text text-anchor=\"middle\" x=\"1943\" y=\"-7.8\" font-family=\"Helvetica,sans-Serif\" font-size=\"14.00\" fill=\"#000000\">value = [42, 117]</text>\n</g>\n<!-- 35&#45;&gt;36 -->\n<g id=\"edge36\" class=\"edge\">\n<title>35&#45;&gt;36</title>\n<path fill=\"none\" stroke=\"#000000\" d=\"M1943,-88.9777C1943,-80.7364 1943,-71.887 1943,-63.5153\"/>\n<polygon fill=\"#000000\" stroke=\"#000000\" points=\"1946.5001,-63.2484 1943,-53.2485 1939.5001,-63.2485 1946.5001,-63.2484\"/>\n</g>\n<!-- 37 -->\n<g id=\"node38\" class=\"node\">\n<title>37</title>\n<path fill=\"#f5cfb3\" stroke=\"#000000\" d=\"M2118.5,-53C2118.5,-53 2035.5,-53 2035.5,-53 2029.5,-53 2023.5,-47 2023.5,-41 2023.5,-41 2023.5,-12 2023.5,-12 2023.5,-6 2029.5,0 2035.5,0 2035.5,0 2118.5,0 2118.5,0 2124.5,0 2130.5,-6 2130.5,-12 2130.5,-12 2130.5,-41 2130.5,-41 2130.5,-47 2124.5,-53 2118.5,-53\"/>\n<text text-anchor=\"middle\" x=\"2077\" y=\"-37.8\" font-family=\"Helvetica,sans-Serif\" font-size=\"14.00\" fill=\"#000000\">gini = 0.472</text>\n<text text-anchor=\"middle\" x=\"2077\" y=\"-22.8\" font-family=\"Helvetica,sans-Serif\" font-size=\"14.00\" fill=\"#000000\">samples = 21</text>\n<text text-anchor=\"middle\" x=\"2077\" y=\"-7.8\" font-family=\"Helvetica,sans-Serif\" font-size=\"14.00\" fill=\"#000000\">value = [13, 8]</text>\n</g>\n<!-- 35&#45;&gt;37 -->\n<g id=\"edge37\" class=\"edge\">\n<title>35&#45;&gt;37</title>\n<path fill=\"none\" stroke=\"#000000\" d=\"M1990.2434,-88.9777C2003.7217,-79.2713 2018.3715,-68.7213 2031.7291,-59.1018\"/>\n<polygon fill=\"#000000\" stroke=\"#000000\" points=\"2033.7876,-61.9325 2039.857,-53.2485 2029.6969,-56.2522 2033.7876,-61.9325\"/>\n</g>\n<!-- 39 -->\n<g id=\"node40\" class=\"node\">\n<title>39</title>\n<path fill=\"#f2be99\" stroke=\"#000000\" d=\"M2459,-261C2459,-261 2347,-261 2347,-261 2341,-261 2335,-255 2335,-249 2335,-249 2335,-205 2335,-205 2335,-199 2341,-193 2347,-193 2347,-193 2459,-193 2459,-193 2465,-193 2471,-199 2471,-205 2471,-205 2471,-249 2471,-249 2471,-255 2465,-261 2459,-261\"/>\n<text text-anchor=\"middle\" x=\"2403\" y=\"-245.8\" font-family=\"Helvetica,sans-Serif\" font-size=\"14.00\" fill=\"#000000\">attacktype1 &lt;= 5.5</text>\n<text text-anchor=\"middle\" x=\"2403\" y=\"-230.8\" font-family=\"Helvetica,sans-Serif\" font-size=\"14.00\" fill=\"#000000\">gini = 0.44</text>\n<text text-anchor=\"middle\" x=\"2403\" y=\"-215.8\" font-family=\"Helvetica,sans-Serif\" font-size=\"14.00\" fill=\"#000000\">samples = 1136</text>\n<text text-anchor=\"middle\" x=\"2403\" y=\"-200.8\" font-family=\"Helvetica,sans-Serif\" font-size=\"14.00\" fill=\"#000000\">value = [765, 371]</text>\n</g>\n<!-- 38&#45;&gt;39 -->\n<g id=\"edge39\" class=\"edge\">\n<title>38&#45;&gt;39</title>\n<path fill=\"none\" stroke=\"#000000\" d=\"M2403,-296.9465C2403,-288.776 2403,-279.9318 2403,-271.3697\"/>\n<polygon fill=\"#000000\" stroke=\"#000000\" points=\"2406.5001,-271.13 2403,-261.13 2399.5001,-271.13 2406.5001,-271.13\"/>\n</g>\n<!-- 46 -->\n<g id=\"node47\" class=\"node\">\n<title>46</title>\n<path fill=\"#f7fbfe\" stroke=\"#000000\" d=\"M2889,-261C2889,-261 2781,-261 2781,-261 2775,-261 2769,-255 2769,-249 2769,-249 2769,-205 2769,-205 2769,-199 2775,-193 2781,-193 2781,-193 2889,-193 2889,-193 2895,-193 2901,-199 2901,-205 2901,-205 2901,-249 2901,-249 2901,-255 2895,-261 2889,-261\"/>\n<text text-anchor=\"middle\" x=\"2835\" y=\"-245.8\" font-family=\"Helvetica,sans-Serif\" font-size=\"14.00\" fill=\"#000000\">iyear &lt;= 2011.5</text>\n<text text-anchor=\"middle\" x=\"2835\" y=\"-230.8\" font-family=\"Helvetica,sans-Serif\" font-size=\"14.00\" fill=\"#000000\">gini = 0.5</text>\n<text text-anchor=\"middle\" x=\"2835\" y=\"-215.8\" font-family=\"Helvetica,sans-Serif\" font-size=\"14.00\" fill=\"#000000\">samples = 1237</text>\n<text text-anchor=\"middle\" x=\"2835\" y=\"-200.8\" font-family=\"Helvetica,sans-Serif\" font-size=\"14.00\" fill=\"#000000\">value = [606, 631]</text>\n</g>\n<!-- 38&#45;&gt;46 -->\n<g id=\"edge46\" class=\"edge\">\n<title>38&#45;&gt;46</title>\n<path fill=\"none\" stroke=\"#000000\" d=\"M2477.7555,-313.0033C2556.4951,-294.0475 2679.8273,-264.3564 2759.0241,-245.2905\"/>\n<polygon fill=\"#000000\" stroke=\"#000000\" points=\"2760.0336,-248.6475 2768.9366,-242.9041 2758.3952,-241.842 2760.0336,-248.6475\"/>\n</g>\n<!-- 40 -->\n<g id=\"node41\" class=\"node\">\n<title>40</title>\n<path fill=\"#afd7f4\" stroke=\"#000000\" d=\"M2383,-157C2383,-157 2271,-157 2271,-157 2265,-157 2259,-151 2259,-145 2259,-145 2259,-101 2259,-101 2259,-95 2265,-89 2271,-89 2271,-89 2383,-89 2383,-89 2389,-89 2395,-95 2395,-101 2395,-101 2395,-145 2395,-145 2395,-151 2389,-157 2383,-157\"/>\n<text text-anchor=\"middle\" x=\"2327\" y=\"-141.8\" font-family=\"Helvetica,sans-Serif\" font-size=\"14.00\" fill=\"#000000\">attacktype1 &lt;= 2.5</text>\n<text text-anchor=\"middle\" x=\"2327\" y=\"-126.8\" font-family=\"Helvetica,sans-Serif\" font-size=\"14.00\" fill=\"#000000\">gini = 0.468</text>\n<text text-anchor=\"middle\" x=\"2327\" y=\"-111.8\" font-family=\"Helvetica,sans-Serif\" font-size=\"14.00\" fill=\"#000000\">samples = 142</text>\n<text text-anchor=\"middle\" x=\"2327\" y=\"-96.8\" font-family=\"Helvetica,sans-Serif\" font-size=\"14.00\" fill=\"#000000\">value = [53, 89]</text>\n</g>\n<!-- 39&#45;&gt;40 -->\n<g id=\"edge40\" class=\"edge\">\n<title>39&#45;&gt;40</title>\n<path fill=\"none\" stroke=\"#000000\" d=\"M2378.1148,-192.9465C2371.6847,-184.1475 2364.6837,-174.5672 2357.9841,-165.3993\"/>\n<polygon fill=\"#000000\" stroke=\"#000000\" points=\"2360.6672,-163.1389 2351.9412,-157.13 2355.0155,-167.269 2360.6672,-163.1389\"/>\n</g>\n<!-- 43 -->\n<g id=\"node44\" class=\"node\">\n<title>43</title>\n<path fill=\"#efb387\" stroke=\"#000000\" d=\"M2533,-157C2533,-157 2425,-157 2425,-157 2419,-157 2413,-151 2413,-145 2413,-145 2413,-101 2413,-101 2413,-95 2419,-89 2425,-89 2425,-89 2533,-89 2533,-89 2539,-89 2545,-95 2545,-101 2545,-101 2545,-145 2545,-145 2545,-151 2539,-157 2533,-157\"/>\n<text text-anchor=\"middle\" x=\"2479\" y=\"-141.8\" font-family=\"Helvetica,sans-Serif\" font-size=\"14.00\" fill=\"#000000\">gname &lt;= 275.0</text>\n<text text-anchor=\"middle\" x=\"2479\" y=\"-126.8\" font-family=\"Helvetica,sans-Serif\" font-size=\"14.00\" fill=\"#000000\">gini = 0.406</text>\n<text text-anchor=\"middle\" x=\"2479\" y=\"-111.8\" font-family=\"Helvetica,sans-Serif\" font-size=\"14.00\" fill=\"#000000\">samples = 994</text>\n<text text-anchor=\"middle\" x=\"2479\" y=\"-96.8\" font-family=\"Helvetica,sans-Serif\" font-size=\"14.00\" fill=\"#000000\">value = [712, 282]</text>\n</g>\n<!-- 39&#45;&gt;43 -->\n<g id=\"edge43\" class=\"edge\">\n<title>39&#45;&gt;43</title>\n<path fill=\"none\" stroke=\"#000000\" d=\"M2427.8852,-192.9465C2434.3153,-184.1475 2441.3163,-174.5672 2448.0159,-165.3993\"/>\n<polygon fill=\"#000000\" stroke=\"#000000\" points=\"2450.9845,-167.269 2454.0588,-157.13 2445.3328,-163.1389 2450.9845,-167.269\"/>\n</g>\n<!-- 41 -->\n<g id=\"node42\" class=\"node\">\n<title>41</title>\n<path fill=\"#eca06a\" stroke=\"#000000\" d=\"M2243.5,-53C2243.5,-53 2160.5,-53 2160.5,-53 2154.5,-53 2148.5,-47 2148.5,-41 2148.5,-41 2148.5,-12 2148.5,-12 2148.5,-6 2154.5,0 2160.5,0 2160.5,0 2243.5,0 2243.5,0 2249.5,0 2255.5,-6 2255.5,-12 2255.5,-12 2255.5,-41 2255.5,-41 2255.5,-47 2249.5,-53 2243.5,-53\"/>\n<text text-anchor=\"middle\" x=\"2202\" y=\"-37.8\" font-family=\"Helvetica,sans-Serif\" font-size=\"14.00\" fill=\"#000000\">gini = 0.32</text>\n<text text-anchor=\"middle\" x=\"2202\" y=\"-22.8\" font-family=\"Helvetica,sans-Serif\" font-size=\"14.00\" fill=\"#000000\">samples = 25</text>\n<text text-anchor=\"middle\" x=\"2202\" y=\"-7.8\" font-family=\"Helvetica,sans-Serif\" font-size=\"14.00\" fill=\"#000000\">value = [20, 5]</text>\n</g>\n<!-- 40&#45;&gt;41 -->\n<g id=\"edge41\" class=\"edge\">\n<title>40&#45;&gt;41</title>\n<path fill=\"none\" stroke=\"#000000\" d=\"M2282.9297,-88.9777C2270.4752,-79.3629 2256.9485,-68.9203 2244.5833,-59.3743\"/>\n<polygon fill=\"#000000\" stroke=\"#000000\" points=\"2246.7028,-56.5889 2236.6483,-53.2485 2242.4251,-62.1299 2246.7028,-56.5889\"/>\n</g>\n<!-- 42 -->\n<g id=\"node43\" class=\"node\">\n<title>42</title>\n<path fill=\"#87c4ef\" stroke=\"#000000\" d=\"M2378,-53C2378,-53 2286,-53 2286,-53 2280,-53 2274,-47 2274,-41 2274,-41 2274,-12 2274,-12 2274,-6 2280,0 2286,0 2286,0 2378,0 2378,0 2384,0 2390,-6 2390,-12 2390,-12 2390,-41 2390,-41 2390,-47 2384,-53 2378,-53\"/>\n<text text-anchor=\"middle\" x=\"2332\" y=\"-37.8\" font-family=\"Helvetica,sans-Serif\" font-size=\"14.00\" fill=\"#000000\">gini = 0.405</text>\n<text text-anchor=\"middle\" x=\"2332\" y=\"-22.8\" font-family=\"Helvetica,sans-Serif\" font-size=\"14.00\" fill=\"#000000\">samples = 117</text>\n<text text-anchor=\"middle\" x=\"2332\" y=\"-7.8\" font-family=\"Helvetica,sans-Serif\" font-size=\"14.00\" fill=\"#000000\">value = [33, 84]</text>\n</g>\n<!-- 40&#45;&gt;42 -->\n<g id=\"edge42\" class=\"edge\">\n<title>40&#45;&gt;42</title>\n<path fill=\"none\" stroke=\"#000000\" d=\"M2328.7628,-88.9777C2329.1946,-80.6449 2329.6585,-71.6903 2330.0966,-63.2364\"/>\n<polygon fill=\"#000000\" stroke=\"#000000\" points=\"2333.5918,-63.4162 2330.6141,-53.2485 2326.6012,-63.0539 2333.5918,-63.4162\"/>\n</g>\n<!-- 44 -->\n<g id=\"node45\" class=\"node\">\n<title>44</title>\n<path fill=\"#f8decc\" stroke=\"#000000\" d=\"M2528,-53C2528,-53 2420,-53 2420,-53 2414,-53 2408,-47 2408,-41 2408,-41 2408,-12 2408,-12 2408,-6 2414,0 2420,0 2420,0 2528,0 2528,0 2534,0 2540,-6 2540,-12 2540,-12 2540,-41 2540,-41 2540,-47 2534,-53 2528,-53\"/>\n<text text-anchor=\"middle\" x=\"2474\" y=\"-37.8\" font-family=\"Helvetica,sans-Serif\" font-size=\"14.00\" fill=\"#000000\">gini = 0.489</text>\n<text text-anchor=\"middle\" x=\"2474\" y=\"-22.8\" font-family=\"Helvetica,sans-Serif\" font-size=\"14.00\" fill=\"#000000\">samples = 263</text>\n<text text-anchor=\"middle\" x=\"2474\" y=\"-7.8\" font-family=\"Helvetica,sans-Serif\" font-size=\"14.00\" fill=\"#000000\">value = [151, 112]</text>\n</g>\n<!-- 43&#45;&gt;44 -->\n<g id=\"edge44\" class=\"edge\">\n<title>43&#45;&gt;44</title>\n<path fill=\"none\" stroke=\"#000000\" d=\"M2477.2372,-88.9777C2476.8054,-80.6449 2476.3415,-71.6903 2475.9034,-63.2364\"/>\n<polygon fill=\"#000000\" stroke=\"#000000\" points=\"2479.3988,-63.0539 2475.3859,-53.2485 2472.4082,-63.4162 2479.3988,-63.0539\"/>\n</g>\n<!-- 45 -->\n<g id=\"node46\" class=\"node\">\n<title>45</title>\n<path fill=\"#eda775\" stroke=\"#000000\" d=\"M2678,-53C2678,-53 2570,-53 2570,-53 2564,-53 2558,-47 2558,-41 2558,-41 2558,-12 2558,-12 2558,-6 2564,0 2570,0 2570,0 2678,0 2678,0 2684,0 2690,-6 2690,-12 2690,-12 2690,-41 2690,-41 2690,-47 2684,-53 2678,-53\"/>\n<text text-anchor=\"middle\" x=\"2624\" y=\"-37.8\" font-family=\"Helvetica,sans-Serif\" font-size=\"14.00\" fill=\"#000000\">gini = 0.357</text>\n<text text-anchor=\"middle\" x=\"2624\" y=\"-22.8\" font-family=\"Helvetica,sans-Serif\" font-size=\"14.00\" fill=\"#000000\">samples = 731</text>\n<text text-anchor=\"middle\" x=\"2624\" y=\"-7.8\" font-family=\"Helvetica,sans-Serif\" font-size=\"14.00\" fill=\"#000000\">value = [561, 170]</text>\n</g>\n<!-- 43&#45;&gt;45 -->\n<g id=\"edge45\" class=\"edge\">\n<title>43&#45;&gt;45</title>\n<path fill=\"none\" stroke=\"#000000\" d=\"M2530.1216,-88.9777C2544.8439,-79.1798 2560.8579,-68.5222 2575.4215,-58.8298\"/>\n<polygon fill=\"#000000\" stroke=\"#000000\" points=\"2577.4222,-61.7026 2583.808,-53.2485 2573.5439,-55.8752 2577.4222,-61.7026\"/>\n</g>\n<!-- 47 -->\n<g id=\"node48\" class=\"node\">\n<title>47</title>\n<path fill=\"#f3c4a3\" stroke=\"#000000\" d=\"M2889,-157C2889,-157 2781,-157 2781,-157 2775,-157 2769,-151 2769,-145 2769,-145 2769,-101 2769,-101 2769,-95 2775,-89 2781,-89 2781,-89 2889,-89 2889,-89 2895,-89 2901,-95 2901,-101 2901,-101 2901,-145 2901,-145 2901,-151 2895,-157 2889,-157\"/>\n<text text-anchor=\"middle\" x=\"2835\" y=\"-141.8\" font-family=\"Helvetica,sans-Serif\" font-size=\"14.00\" fill=\"#000000\">natlty1 &lt;= 157.5</text>\n<text text-anchor=\"middle\" x=\"2835\" y=\"-126.8\" font-family=\"Helvetica,sans-Serif\" font-size=\"14.00\" fill=\"#000000\">gini = 0.454</text>\n<text text-anchor=\"middle\" x=\"2835\" y=\"-111.8\" font-family=\"Helvetica,sans-Serif\" font-size=\"14.00\" fill=\"#000000\">samples = 287</text>\n<text text-anchor=\"middle\" x=\"2835\" y=\"-96.8\" font-family=\"Helvetica,sans-Serif\" font-size=\"14.00\" fill=\"#000000\">value = [187, 100]</text>\n</g>\n<!-- 46&#45;&gt;47 -->\n<g id=\"edge47\" class=\"edge\">\n<title>46&#45;&gt;47</title>\n<path fill=\"none\" stroke=\"#000000\" d=\"M2835,-192.9465C2835,-184.776 2835,-175.9318 2835,-167.3697\"/>\n<polygon fill=\"#000000\" stroke=\"#000000\" points=\"2838.5001,-167.13 2835,-157.13 2831.5001,-167.13 2838.5001,-167.13\"/>\n</g>\n<!-- 50 -->\n<g id=\"node51\" class=\"node\">\n<title>50</title>\n<path fill=\"#d5eafa\" stroke=\"#000000\" d=\"M3104,-157C3104,-157 2996,-157 2996,-157 2990,-157 2984,-151 2984,-145 2984,-145 2984,-101 2984,-101 2984,-95 2990,-89 2996,-89 2996,-89 3104,-89 3104,-89 3110,-89 3116,-95 3116,-101 3116,-101 3116,-145 3116,-145 3116,-151 3110,-157 3104,-157\"/>\n<text text-anchor=\"middle\" x=\"3050\" y=\"-141.8\" font-family=\"Helvetica,sans-Serif\" font-size=\"14.00\" fill=\"#000000\">country &lt;= 616.5</text>\n<text text-anchor=\"middle\" x=\"3050\" y=\"-126.8\" font-family=\"Helvetica,sans-Serif\" font-size=\"14.00\" fill=\"#000000\">gini = 0.493</text>\n<text text-anchor=\"middle\" x=\"3050\" y=\"-111.8\" font-family=\"Helvetica,sans-Serif\" font-size=\"14.00\" fill=\"#000000\">samples = 950</text>\n<text text-anchor=\"middle\" x=\"3050\" y=\"-96.8\" font-family=\"Helvetica,sans-Serif\" font-size=\"14.00\" fill=\"#000000\">value = [419, 531]</text>\n</g>\n<!-- 46&#45;&gt;50 -->\n<g id=\"edge50\" class=\"edge\">\n<title>46&#45;&gt;50</title>\n<path fill=\"none\" stroke=\"#000000\" d=\"M2901.2614,-194.948C2924.5649,-183.6756 2950.9158,-170.9291 2974.8947,-159.33\"/>\n<polygon fill=\"#000000\" stroke=\"#000000\" points=\"2976.4793,-162.4515 2983.9574,-154.9462 2973.4311,-156.15 2976.4793,-162.4515\"/>\n</g>\n<!-- 48 -->\n<g id=\"node49\" class=\"node\">\n<title>48</title>\n<path fill=\"#efb387\" stroke=\"#000000\" d=\"M2820,-53C2820,-53 2720,-53 2720,-53 2714,-53 2708,-47 2708,-41 2708,-41 2708,-12 2708,-12 2708,-6 2714,0 2720,0 2720,0 2820,0 2820,0 2826,0 2832,-6 2832,-12 2832,-12 2832,-41 2832,-41 2832,-47 2826,-53 2820,-53\"/>\n<text text-anchor=\"middle\" x=\"2770\" y=\"-37.8\" font-family=\"Helvetica,sans-Serif\" font-size=\"14.00\" fill=\"#000000\">gini = 0.407</text>\n<text text-anchor=\"middle\" x=\"2770\" y=\"-22.8\" font-family=\"Helvetica,sans-Serif\" font-size=\"14.00\" fill=\"#000000\">samples = 229</text>\n<text text-anchor=\"middle\" x=\"2770\" y=\"-7.8\" font-family=\"Helvetica,sans-Serif\" font-size=\"14.00\" fill=\"#000000\">value = [164, 65]</text>\n</g>\n<!-- 47&#45;&gt;48 -->\n<g id=\"edge48\" class=\"edge\">\n<title>47&#45;&gt;48</title>\n<path fill=\"none\" stroke=\"#000000\" d=\"M2812.0834,-88.9777C2806.1006,-80.0954 2799.6418,-70.5067 2793.623,-61.5711\"/>\n<polygon fill=\"#000000\" stroke=\"#000000\" points=\"2796.5067,-59.5871 2788.0171,-53.2485 2790.7009,-63.4978 2796.5067,-59.5871\"/>\n</g>\n<!-- 49 -->\n<g id=\"node50\" class=\"node\">\n<title>49</title>\n<path fill=\"#bbddf6\" stroke=\"#000000\" d=\"M2954,-53C2954,-53 2862,-53 2862,-53 2856,-53 2850,-47 2850,-41 2850,-41 2850,-12 2850,-12 2850,-6 2856,0 2862,0 2862,0 2954,0 2954,0 2960,0 2966,-6 2966,-12 2966,-12 2966,-41 2966,-41 2966,-47 2960,-53 2954,-53\"/>\n<text text-anchor=\"middle\" x=\"2908\" y=\"-37.8\" font-family=\"Helvetica,sans-Serif\" font-size=\"14.00\" fill=\"#000000\">gini = 0.479</text>\n<text text-anchor=\"middle\" x=\"2908\" y=\"-22.8\" font-family=\"Helvetica,sans-Serif\" font-size=\"14.00\" fill=\"#000000\">samples = 58</text>\n<text text-anchor=\"middle\" x=\"2908\" y=\"-7.8\" font-family=\"Helvetica,sans-Serif\" font-size=\"14.00\" fill=\"#000000\">value = [23, 35]</text>\n</g>\n<!-- 47&#45;&gt;49 -->\n<g id=\"edge49\" class=\"edge\">\n<title>47&#45;&gt;49</title>\n<path fill=\"none\" stroke=\"#000000\" d=\"M2860.7371,-88.9777C2867.5256,-80.0039 2874.8596,-70.3089 2881.6784,-61.295\"/>\n<polygon fill=\"#000000\" stroke=\"#000000\" points=\"2884.5237,-63.3352 2887.7654,-53.2485 2878.941,-59.1121 2884.5237,-63.3352\"/>\n</g>\n<!-- 51 -->\n<g id=\"node52\" class=\"node\">\n<title>51</title>\n<path fill=\"#cde6f8\" stroke=\"#000000\" d=\"M3104,-53C3104,-53 2996,-53 2996,-53 2990,-53 2984,-47 2984,-41 2984,-41 2984,-12 2984,-12 2984,-6 2990,0 2996,0 2996,0 3104,0 3104,0 3110,0 3116,-6 3116,-12 3116,-12 3116,-41 3116,-41 3116,-47 3110,-53 3104,-53\"/>\n<text text-anchor=\"middle\" x=\"3050\" y=\"-37.8\" font-family=\"Helvetica,sans-Serif\" font-size=\"14.00\" fill=\"#000000\">gini = 0.49</text>\n<text text-anchor=\"middle\" x=\"3050\" y=\"-22.8\" font-family=\"Helvetica,sans-Serif\" font-size=\"14.00\" fill=\"#000000\">samples = 927</text>\n<text text-anchor=\"middle\" x=\"3050\" y=\"-7.8\" font-family=\"Helvetica,sans-Serif\" font-size=\"14.00\" fill=\"#000000\">value = [397, 530]</text>\n</g>\n<!-- 50&#45;&gt;51 -->\n<g id=\"edge51\" class=\"edge\">\n<title>50&#45;&gt;51</title>\n<path fill=\"none\" stroke=\"#000000\" d=\"M3050,-88.9777C3050,-80.7364 3050,-71.887 3050,-63.5153\"/>\n<polygon fill=\"#000000\" stroke=\"#000000\" points=\"3053.5001,-63.2484 3050,-53.2485 3046.5001,-63.2485 3053.5001,-63.2484\"/>\n</g>\n<!-- 52 -->\n<g id=\"node53\" class=\"node\">\n<title>52</title>\n<path fill=\"#e68742\" stroke=\"#000000\" d=\"M3229.5,-53C3229.5,-53 3146.5,-53 3146.5,-53 3140.5,-53 3134.5,-47 3134.5,-41 3134.5,-41 3134.5,-12 3134.5,-12 3134.5,-6 3140.5,0 3146.5,0 3146.5,0 3229.5,0 3229.5,0 3235.5,0 3241.5,-6 3241.5,-12 3241.5,-12 3241.5,-41 3241.5,-41 3241.5,-47 3235.5,-53 3229.5,-53\"/>\n<text text-anchor=\"middle\" x=\"3188\" y=\"-37.8\" font-family=\"Helvetica,sans-Serif\" font-size=\"14.00\" fill=\"#000000\">gini = 0.083</text>\n<text text-anchor=\"middle\" x=\"3188\" y=\"-22.8\" font-family=\"Helvetica,sans-Serif\" font-size=\"14.00\" fill=\"#000000\">samples = 23</text>\n<text text-anchor=\"middle\" x=\"3188\" y=\"-7.8\" font-family=\"Helvetica,sans-Serif\" font-size=\"14.00\" fill=\"#000000\">value = [22, 1]</text>\n</g>\n<!-- 50&#45;&gt;52 -->\n<g id=\"edge52\" class=\"edge\">\n<title>50&#45;&gt;52</title>\n<path fill=\"none\" stroke=\"#000000\" d=\"M3098.6536,-88.9777C3112.5343,-79.2713 3127.6214,-68.7213 3141.3777,-59.1018\"/>\n<polygon fill=\"#000000\" stroke=\"#000000\" points=\"3143.5589,-61.8475 3149.7483,-53.2485 3139.5474,-56.1109 3143.5589,-61.8475\"/>\n</g>\n</g>\n</svg>\n"
          },
          "metadata": {},
          "execution_count": 70
        }
      ]
    },
    {
      "cell_type": "code",
      "source": [
        "## fontos változók megállapítása a döntési fa saját fontossági értékei alapján\n",
        "\n",
        "feature_importance_dt_ext = pd.DataFrame(\n",
        "    {'feature': list(features_ext.columns),\n",
        "     'importance': best_tree_ext.feature_importances_\n",
        "    })"
      ],
      "metadata": {
        "id": "54RbUGxieLo7"
      },
      "execution_count": 71,
      "outputs": []
    },
    {
      "cell_type": "code",
      "source": [
        "feature_importance_dt_ext.sort_values(by=['importance'], ascending=False)"
      ],
      "metadata": {
        "colab": {
          "base_uri": "https://localhost:8080/",
          "height": 739
        },
        "id": "Bv1CCQHfezzp",
        "outputId": "4ee939c5-7502-4703-8957-8fc3c4a569b1"
      },
      "execution_count": 72,
      "outputs": [
        {
          "output_type": "execute_result",
          "data": {
            "text/plain": [
              "        feature  importance\n",
              "0         iyear    0.405234\n",
              "15    targtype1    0.312947\n",
              "14  attacktype1    0.062584\n",
              "3      extended    0.061949\n",
              "5        region    0.048095\n",
              "18        gname    0.033557\n",
              "4       country    0.025899\n",
              "17      natlty1    0.020123\n",
              "6     provstate    0.011462\n",
              "7   specificity    0.006405\n",
              "16      target1    0.005221\n",
              "20    weaptype1    0.004193\n",
              "2          iday    0.002330\n",
              "19   individual    0.000000\n",
              "11        crit3    0.000000\n",
              "13      suicide    0.000000\n",
              "12     multiple    0.000000\n",
              "1        imonth    0.000000\n",
              "10        crit2    0.000000\n",
              "9         crit1    0.000000\n",
              "8      vicinity    0.000000\n",
              "21     INT_MISC    0.000000"
            ],
            "text/html": [
              "\n",
              "  <div id=\"df-c3a4cc00-5418-4cff-b3f8-45c511ebae76\">\n",
              "    <div class=\"colab-df-container\">\n",
              "      <div>\n",
              "<style scoped>\n",
              "    .dataframe tbody tr th:only-of-type {\n",
              "        vertical-align: middle;\n",
              "    }\n",
              "\n",
              "    .dataframe tbody tr th {\n",
              "        vertical-align: top;\n",
              "    }\n",
              "\n",
              "    .dataframe thead th {\n",
              "        text-align: right;\n",
              "    }\n",
              "</style>\n",
              "<table border=\"1\" class=\"dataframe\">\n",
              "  <thead>\n",
              "    <tr style=\"text-align: right;\">\n",
              "      <th></th>\n",
              "      <th>feature</th>\n",
              "      <th>importance</th>\n",
              "    </tr>\n",
              "  </thead>\n",
              "  <tbody>\n",
              "    <tr>\n",
              "      <th>0</th>\n",
              "      <td>iyear</td>\n",
              "      <td>0.405234</td>\n",
              "    </tr>\n",
              "    <tr>\n",
              "      <th>15</th>\n",
              "      <td>targtype1</td>\n",
              "      <td>0.312947</td>\n",
              "    </tr>\n",
              "    <tr>\n",
              "      <th>14</th>\n",
              "      <td>attacktype1</td>\n",
              "      <td>0.062584</td>\n",
              "    </tr>\n",
              "    <tr>\n",
              "      <th>3</th>\n",
              "      <td>extended</td>\n",
              "      <td>0.061949</td>\n",
              "    </tr>\n",
              "    <tr>\n",
              "      <th>5</th>\n",
              "      <td>region</td>\n",
              "      <td>0.048095</td>\n",
              "    </tr>\n",
              "    <tr>\n",
              "      <th>18</th>\n",
              "      <td>gname</td>\n",
              "      <td>0.033557</td>\n",
              "    </tr>\n",
              "    <tr>\n",
              "      <th>4</th>\n",
              "      <td>country</td>\n",
              "      <td>0.025899</td>\n",
              "    </tr>\n",
              "    <tr>\n",
              "      <th>17</th>\n",
              "      <td>natlty1</td>\n",
              "      <td>0.020123</td>\n",
              "    </tr>\n",
              "    <tr>\n",
              "      <th>6</th>\n",
              "      <td>provstate</td>\n",
              "      <td>0.011462</td>\n",
              "    </tr>\n",
              "    <tr>\n",
              "      <th>7</th>\n",
              "      <td>specificity</td>\n",
              "      <td>0.006405</td>\n",
              "    </tr>\n",
              "    <tr>\n",
              "      <th>16</th>\n",
              "      <td>target1</td>\n",
              "      <td>0.005221</td>\n",
              "    </tr>\n",
              "    <tr>\n",
              "      <th>20</th>\n",
              "      <td>weaptype1</td>\n",
              "      <td>0.004193</td>\n",
              "    </tr>\n",
              "    <tr>\n",
              "      <th>2</th>\n",
              "      <td>iday</td>\n",
              "      <td>0.002330</td>\n",
              "    </tr>\n",
              "    <tr>\n",
              "      <th>19</th>\n",
              "      <td>individual</td>\n",
              "      <td>0.000000</td>\n",
              "    </tr>\n",
              "    <tr>\n",
              "      <th>11</th>\n",
              "      <td>crit3</td>\n",
              "      <td>0.000000</td>\n",
              "    </tr>\n",
              "    <tr>\n",
              "      <th>13</th>\n",
              "      <td>suicide</td>\n",
              "      <td>0.000000</td>\n",
              "    </tr>\n",
              "    <tr>\n",
              "      <th>12</th>\n",
              "      <td>multiple</td>\n",
              "      <td>0.000000</td>\n",
              "    </tr>\n",
              "    <tr>\n",
              "      <th>1</th>\n",
              "      <td>imonth</td>\n",
              "      <td>0.000000</td>\n",
              "    </tr>\n",
              "    <tr>\n",
              "      <th>10</th>\n",
              "      <td>crit2</td>\n",
              "      <td>0.000000</td>\n",
              "    </tr>\n",
              "    <tr>\n",
              "      <th>9</th>\n",
              "      <td>crit1</td>\n",
              "      <td>0.000000</td>\n",
              "    </tr>\n",
              "    <tr>\n",
              "      <th>8</th>\n",
              "      <td>vicinity</td>\n",
              "      <td>0.000000</td>\n",
              "    </tr>\n",
              "    <tr>\n",
              "      <th>21</th>\n",
              "      <td>INT_MISC</td>\n",
              "      <td>0.000000</td>\n",
              "    </tr>\n",
              "  </tbody>\n",
              "</table>\n",
              "</div>\n",
              "      <button class=\"colab-df-convert\" onclick=\"convertToInteractive('df-c3a4cc00-5418-4cff-b3f8-45c511ebae76')\"\n",
              "              title=\"Convert this dataframe to an interactive table.\"\n",
              "              style=\"display:none;\">\n",
              "        \n",
              "  <svg xmlns=\"http://www.w3.org/2000/svg\" height=\"24px\"viewBox=\"0 0 24 24\"\n",
              "       width=\"24px\">\n",
              "    <path d=\"M0 0h24v24H0V0z\" fill=\"none\"/>\n",
              "    <path d=\"M18.56 5.44l.94 2.06.94-2.06 2.06-.94-2.06-.94-.94-2.06-.94 2.06-2.06.94zm-11 1L8.5 8.5l.94-2.06 2.06-.94-2.06-.94L8.5 2.5l-.94 2.06-2.06.94zm10 10l.94 2.06.94-2.06 2.06-.94-2.06-.94-.94-2.06-.94 2.06-2.06.94z\"/><path d=\"M17.41 7.96l-1.37-1.37c-.4-.4-.92-.59-1.43-.59-.52 0-1.04.2-1.43.59L10.3 9.45l-7.72 7.72c-.78.78-.78 2.05 0 2.83L4 21.41c.39.39.9.59 1.41.59.51 0 1.02-.2 1.41-.59l7.78-7.78 2.81-2.81c.8-.78.8-2.07 0-2.86zM5.41 20L4 18.59l7.72-7.72 1.47 1.35L5.41 20z\"/>\n",
              "  </svg>\n",
              "      </button>\n",
              "      \n",
              "  <style>\n",
              "    .colab-df-container {\n",
              "      display:flex;\n",
              "      flex-wrap:wrap;\n",
              "      gap: 12px;\n",
              "    }\n",
              "\n",
              "    .colab-df-convert {\n",
              "      background-color: #E8F0FE;\n",
              "      border: none;\n",
              "      border-radius: 50%;\n",
              "      cursor: pointer;\n",
              "      display: none;\n",
              "      fill: #1967D2;\n",
              "      height: 32px;\n",
              "      padding: 0 0 0 0;\n",
              "      width: 32px;\n",
              "    }\n",
              "\n",
              "    .colab-df-convert:hover {\n",
              "      background-color: #E2EBFA;\n",
              "      box-shadow: 0px 1px 2px rgba(60, 64, 67, 0.3), 0px 1px 3px 1px rgba(60, 64, 67, 0.15);\n",
              "      fill: #174EA6;\n",
              "    }\n",
              "\n",
              "    [theme=dark] .colab-df-convert {\n",
              "      background-color: #3B4455;\n",
              "      fill: #D2E3FC;\n",
              "    }\n",
              "\n",
              "    [theme=dark] .colab-df-convert:hover {\n",
              "      background-color: #434B5C;\n",
              "      box-shadow: 0px 1px 3px 1px rgba(0, 0, 0, 0.15);\n",
              "      filter: drop-shadow(0px 1px 2px rgba(0, 0, 0, 0.3));\n",
              "      fill: #FFFFFF;\n",
              "    }\n",
              "  </style>\n",
              "\n",
              "      <script>\n",
              "        const buttonEl =\n",
              "          document.querySelector('#df-c3a4cc00-5418-4cff-b3f8-45c511ebae76 button.colab-df-convert');\n",
              "        buttonEl.style.display =\n",
              "          google.colab.kernel.accessAllowed ? 'block' : 'none';\n",
              "\n",
              "        async function convertToInteractive(key) {\n",
              "          const element = document.querySelector('#df-c3a4cc00-5418-4cff-b3f8-45c511ebae76');\n",
              "          const dataTable =\n",
              "            await google.colab.kernel.invokeFunction('convertToInteractive',\n",
              "                                                     [key], {});\n",
              "          if (!dataTable) return;\n",
              "\n",
              "          const docLinkHtml = 'Like what you see? Visit the ' +\n",
              "            '<a target=\"_blank\" href=https://colab.research.google.com/notebooks/data_table.ipynb>data table notebook</a>'\n",
              "            + ' to learn more about interactive tables.';\n",
              "          element.innerHTML = '';\n",
              "          dataTable['output_type'] = 'display_data';\n",
              "          await google.colab.output.renderOutput(dataTable, element);\n",
              "          const docLink = document.createElement('div');\n",
              "          docLink.innerHTML = docLinkHtml;\n",
              "          element.appendChild(docLink);\n",
              "        }\n",
              "      </script>\n",
              "    </div>\n",
              "  </div>\n",
              "  "
            ]
          },
          "metadata": {},
          "execution_count": 72
        }
      ]
    },
    {
      "cell_type": "markdown",
      "source": [
        "legfontosabb változónak ez alapján az iyear (év) és targtype1 (célpont típusa) bizonyul"
      ],
      "metadata": {
        "id": "djKqgtizH6Kw"
      }
    },
    {
      "cell_type": "code",
      "source": [
        "## fontos változók megállapítása a permutation feature importance értékek alapján\n",
        "\n",
        "r1_ext = permutation_importance(best_tree_ext, X_test_ext, Y_test_ext, n_repeats=30, random_state=42)\n",
        "\n",
        "for i in r1_ext.importances_mean.argsort()[::-1]:\n",
        "    if r1_ext.importances_mean[i] > 0.01:\n",
        "        print(X_test_ext.columns[i],\n",
        "        f\"{r1_ext.importances_mean[i]:.3f}\"\n",
        "        f\" +/- {r1_ext.importances_std[i]:.3f}\")"
      ],
      "metadata": {
        "colab": {
          "base_uri": "https://localhost:8080/"
        },
        "id": "1RGUSApge8oa",
        "outputId": "3f2f219e-e1c4-441e-889f-c8d165f44601"
      },
      "execution_count": 73,
      "outputs": [
        {
          "output_type": "stream",
          "name": "stdout",
          "text": [
            "targtype1 0.076 +/- 0.008\n",
            "iyear 0.047 +/- 0.006\n",
            "extended 0.047 +/- 0.006\n",
            "region 0.016 +/- 0.003\n",
            "attacktype1 0.016 +/- 0.002\n",
            "natlty1 0.014 +/- 0.004\n"
          ]
        }
      ]
    },
    {
      "cell_type": "markdown",
      "source": [
        "legfontosabb változónak a permutation importance alapján a targtype1 (célpont típusa), extended (24 óránál tovább tartott-e), iyear (év) bizonyul"
      ],
      "metadata": {
        "id": "jGMEu3OoII5y"
      }
    },
    {
      "cell_type": "markdown",
      "source": [
        "Összességében tehát elmondható, hogy bármely szempontot is tekintjük az elkövetés éve és a célpont típusa egyértelműen fontos változónak számít, ha azt akarjuk megjósolni, hogy egy támadást az emberek többsége túlél-e vagy sem. Ezen felül az elkövetés helyszínére vonatkozó információk is lényegesek lehetnek."
      ],
      "metadata": {
        "id": "PXJIp6rbIM8M"
      }
    },
    {
      "cell_type": "markdown",
      "source": [
        "## Random Forest:"
      ],
      "metadata": {
        "id": "FeEdtoqgW2cT"
      }
    },
    {
      "cell_type": "code",
      "source": [
        "## véletlen erdő modellek építése, 5-szörös keresztvalidációval\n",
        "## grid search alkalmazása a következő hiperparamétereknél: n_estimators, max_depth, min_samples_leaf\n",
        "## alapértelmezetten az estimator scoring-ja alapján történik a legjobb modell kiválasztása -- ebben az esetben ez az accuracy\n",
        "\n",
        "parameters2 = {'n_estimators':[5,10,15,20,50], 'max_depth':range(1,11), 'random_state':[42], 'min_samples_leaf':range(1,10)}\n",
        "\n",
        "## szűkített halmazzal\n",
        "rf=RandomForestClassifier()\n",
        "rf_gs = GridSearchCV(rf, parameters2, cv=5)\n",
        "rf_gs.fit(X_train,Y_train)\n",
        "\n",
        "## bővített halmazzal\n",
        "rf_ext=RandomForestClassifier()\n",
        "rf_gs_ext = GridSearchCV(rf_ext, parameters2, cv=5)\n",
        "rf_gs_ext.fit(X_train_ext,Y_train_ext)"
      ],
      "metadata": {
        "colab": {
          "base_uri": "https://localhost:8080/"
        },
        "id": "8071aDVkkwBI",
        "outputId": "330435b8-aa5e-404c-a3c5-60702eee857e"
      },
      "execution_count": 74,
      "outputs": [
        {
          "output_type": "execute_result",
          "data": {
            "text/plain": [
              "GridSearchCV(cv=5, estimator=RandomForestClassifier(),\n",
              "             param_grid={'max_depth': range(1, 11),\n",
              "                         'min_samples_leaf': range(1, 10),\n",
              "                         'n_estimators': [5, 10, 15, 20, 50],\n",
              "                         'random_state': [42]})"
            ]
          },
          "metadata": {},
          "execution_count": 74
        }
      ]
    },
    {
      "cell_type": "code",
      "source": [
        "## legjobb modell a szűkített halmazzal\n",
        "best_rf=rf_gs.best_estimator_\n",
        "best_rf"
      ],
      "metadata": {
        "id": "ire6ukhDlqk0",
        "colab": {
          "base_uri": "https://localhost:8080/"
        },
        "outputId": "1c6b9877-2291-4619-90f6-77bd4a876cca"
      },
      "execution_count": 75,
      "outputs": [
        {
          "output_type": "execute_result",
          "data": {
            "text/plain": [
              "RandomForestClassifier(max_depth=10, min_samples_leaf=3, n_estimators=50,\n",
              "                       random_state=42)"
            ]
          },
          "metadata": {},
          "execution_count": 75
        }
      ]
    },
    {
      "cell_type": "code",
      "source": [
        "## legjobb modell a bővített halmazzal\n",
        "best_rf_ext=rf_gs_ext.best_estimator_\n",
        "best_rf_ext"
      ],
      "metadata": {
        "colab": {
          "base_uri": "https://localhost:8080/"
        },
        "id": "SNo6O9mTmSj1",
        "outputId": "c4365e43-4806-4788-b6c3-7589f0832911"
      },
      "execution_count": 76,
      "outputs": [
        {
          "output_type": "execute_result",
          "data": {
            "text/plain": [
              "RandomForestClassifier(max_depth=10, min_samples_leaf=3, n_estimators=50,\n",
              "                       random_state=42)"
            ]
          },
          "metadata": {},
          "execution_count": 76
        }
      ]
    },
    {
      "cell_type": "code",
      "source": [
        "## kiértékelés a teszt halmazon accuracy és AUC alapján\n",
        "\n",
        "## szűkített halmazzal\n",
        "prob2=best_rf.predict_proba(X_test)\n",
        "pred2=best_rf.predict(X_test)\n",
        "fpr,tpr,thresholds = metrics.roc_curve(Y_test, prob2[:,1], pos_label=1, sample_weight=None)\n",
        "auc=metrics.auc(fpr,tpr)\n",
        "accuracy=metrics.accuracy_score(Y_test, pred2)\n",
        "\n",
        "## bővített halmazzal\n",
        "prob2_ext=best_rf_ext.predict_proba(X_test_ext)\n",
        "pred2_ext=best_rf_ext.predict(X_test_ext)\n",
        "fpr_ext,tpr_ext,thresholds_ext = metrics.roc_curve(Y_test_ext, prob2_ext[:,1], pos_label=1, sample_weight=None)\n",
        "auc_ext=metrics.auc(fpr_ext,tpr_ext)\n",
        "accuracy_ext=metrics.accuracy_score(Y_test_ext, pred2_ext)"
      ],
      "metadata": {
        "id": "UOZScaNAmTpR"
      },
      "execution_count": 77,
      "outputs": []
    },
    {
      "cell_type": "code",
      "source": [
        "print(\"AUC a teszt halmazon (szűkített halmazzal): \"+str(auc)+\"\\n Accuracy a teszt halmazon (szűkített halmazzal): \"+ str(accuracy))"
      ],
      "metadata": {
        "colab": {
          "base_uri": "https://localhost:8080/"
        },
        "id": "cSVxrRyTmcv6",
        "outputId": "461a8414-a8cd-4782-e75d-aff38acd1041"
      },
      "execution_count": 78,
      "outputs": [
        {
          "output_type": "stream",
          "name": "stdout",
          "text": [
            "AUC a teszt halmazon (szűkített halmazzal): 0.8314370297537619\n",
            " Accuracy a teszt halmazon (szűkített halmazzal): 0.7563996696944674\n"
          ]
        }
      ]
    },
    {
      "cell_type": "code",
      "source": [
        "print(\"AUC a teszt halmazon (bővített halmazzal): \"+str(auc_ext)+\"\\n Accuracy a teszt halmazon (bővített halmazzal): \"+ str(accuracy_ext))"
      ],
      "metadata": {
        "colab": {
          "base_uri": "https://localhost:8080/"
        },
        "id": "ymQWklFwhXC5",
        "outputId": "1b890926-f0fa-4e10-947e-60d0bfa6cc8d"
      },
      "execution_count": 79,
      "outputs": [
        {
          "output_type": "stream",
          "name": "stdout",
          "text": [
            "AUC a teszt halmazon (bővített halmazzal): 0.8288132415471583\n",
            " Accuracy a teszt halmazon (bővített halmazzal): 0.7540439651596847\n"
          ]
        }
      ]
    },
    {
      "cell_type": "markdown",
      "source": [
        "### A szűkített magyarázó változó halmazzal épített modell értelmezése:"
      ],
      "metadata": {
        "id": "FHNQqLpJbbfS"
      }
    },
    {
      "cell_type": "code",
      "source": [
        "## fontos változók megállapítása a véletlen erdő modell saját fontossági értékei alapján\n",
        "feature_importance_rf = pd.DataFrame(\n",
        "    {'feature': list(features.columns),\n",
        "     'importance': best_rf.feature_importances_\n",
        "    })"
      ],
      "metadata": {
        "id": "vwAdr4dmnCyL"
      },
      "execution_count": 80,
      "outputs": []
    },
    {
      "cell_type": "code",
      "source": [
        "feature_importance_rf.sort_values(by=['importance'], ascending=False)"
      ],
      "metadata": {
        "colab": {
          "base_uri": "https://localhost:8080/",
          "height": 269
        },
        "id": "5BULXxqnnoqJ",
        "outputId": "2030ffc4-9da5-4648-b3c8-d86f5768e21c"
      },
      "execution_count": 81,
      "outputs": [
        {
          "output_type": "execute_result",
          "data": {
            "text/plain": [
              "     feature  importance\n",
              "0      iyear    0.233807\n",
              "5      gname    0.201483\n",
              "4  targtype1    0.196284\n",
              "2    country    0.132971\n",
              "3     region    0.095368\n",
              "1   extended    0.078826\n",
              "6  weaptype1    0.061261"
            ],
            "text/html": [
              "\n",
              "  <div id=\"df-20243aef-e36c-47c2-8632-3041120a0c81\">\n",
              "    <div class=\"colab-df-container\">\n",
              "      <div>\n",
              "<style scoped>\n",
              "    .dataframe tbody tr th:only-of-type {\n",
              "        vertical-align: middle;\n",
              "    }\n",
              "\n",
              "    .dataframe tbody tr th {\n",
              "        vertical-align: top;\n",
              "    }\n",
              "\n",
              "    .dataframe thead th {\n",
              "        text-align: right;\n",
              "    }\n",
              "</style>\n",
              "<table border=\"1\" class=\"dataframe\">\n",
              "  <thead>\n",
              "    <tr style=\"text-align: right;\">\n",
              "      <th></th>\n",
              "      <th>feature</th>\n",
              "      <th>importance</th>\n",
              "    </tr>\n",
              "  </thead>\n",
              "  <tbody>\n",
              "    <tr>\n",
              "      <th>0</th>\n",
              "      <td>iyear</td>\n",
              "      <td>0.233807</td>\n",
              "    </tr>\n",
              "    <tr>\n",
              "      <th>5</th>\n",
              "      <td>gname</td>\n",
              "      <td>0.201483</td>\n",
              "    </tr>\n",
              "    <tr>\n",
              "      <th>4</th>\n",
              "      <td>targtype1</td>\n",
              "      <td>0.196284</td>\n",
              "    </tr>\n",
              "    <tr>\n",
              "      <th>2</th>\n",
              "      <td>country</td>\n",
              "      <td>0.132971</td>\n",
              "    </tr>\n",
              "    <tr>\n",
              "      <th>3</th>\n",
              "      <td>region</td>\n",
              "      <td>0.095368</td>\n",
              "    </tr>\n",
              "    <tr>\n",
              "      <th>1</th>\n",
              "      <td>extended</td>\n",
              "      <td>0.078826</td>\n",
              "    </tr>\n",
              "    <tr>\n",
              "      <th>6</th>\n",
              "      <td>weaptype1</td>\n",
              "      <td>0.061261</td>\n",
              "    </tr>\n",
              "  </tbody>\n",
              "</table>\n",
              "</div>\n",
              "      <button class=\"colab-df-convert\" onclick=\"convertToInteractive('df-20243aef-e36c-47c2-8632-3041120a0c81')\"\n",
              "              title=\"Convert this dataframe to an interactive table.\"\n",
              "              style=\"display:none;\">\n",
              "        \n",
              "  <svg xmlns=\"http://www.w3.org/2000/svg\" height=\"24px\"viewBox=\"0 0 24 24\"\n",
              "       width=\"24px\">\n",
              "    <path d=\"M0 0h24v24H0V0z\" fill=\"none\"/>\n",
              "    <path d=\"M18.56 5.44l.94 2.06.94-2.06 2.06-.94-2.06-.94-.94-2.06-.94 2.06-2.06.94zm-11 1L8.5 8.5l.94-2.06 2.06-.94-2.06-.94L8.5 2.5l-.94 2.06-2.06.94zm10 10l.94 2.06.94-2.06 2.06-.94-2.06-.94-.94-2.06-.94 2.06-2.06.94z\"/><path d=\"M17.41 7.96l-1.37-1.37c-.4-.4-.92-.59-1.43-.59-.52 0-1.04.2-1.43.59L10.3 9.45l-7.72 7.72c-.78.78-.78 2.05 0 2.83L4 21.41c.39.39.9.59 1.41.59.51 0 1.02-.2 1.41-.59l7.78-7.78 2.81-2.81c.8-.78.8-2.07 0-2.86zM5.41 20L4 18.59l7.72-7.72 1.47 1.35L5.41 20z\"/>\n",
              "  </svg>\n",
              "      </button>\n",
              "      \n",
              "  <style>\n",
              "    .colab-df-container {\n",
              "      display:flex;\n",
              "      flex-wrap:wrap;\n",
              "      gap: 12px;\n",
              "    }\n",
              "\n",
              "    .colab-df-convert {\n",
              "      background-color: #E8F0FE;\n",
              "      border: none;\n",
              "      border-radius: 50%;\n",
              "      cursor: pointer;\n",
              "      display: none;\n",
              "      fill: #1967D2;\n",
              "      height: 32px;\n",
              "      padding: 0 0 0 0;\n",
              "      width: 32px;\n",
              "    }\n",
              "\n",
              "    .colab-df-convert:hover {\n",
              "      background-color: #E2EBFA;\n",
              "      box-shadow: 0px 1px 2px rgba(60, 64, 67, 0.3), 0px 1px 3px 1px rgba(60, 64, 67, 0.15);\n",
              "      fill: #174EA6;\n",
              "    }\n",
              "\n",
              "    [theme=dark] .colab-df-convert {\n",
              "      background-color: #3B4455;\n",
              "      fill: #D2E3FC;\n",
              "    }\n",
              "\n",
              "    [theme=dark] .colab-df-convert:hover {\n",
              "      background-color: #434B5C;\n",
              "      box-shadow: 0px 1px 3px 1px rgba(0, 0, 0, 0.15);\n",
              "      filter: drop-shadow(0px 1px 2px rgba(0, 0, 0, 0.3));\n",
              "      fill: #FFFFFF;\n",
              "    }\n",
              "  </style>\n",
              "\n",
              "      <script>\n",
              "        const buttonEl =\n",
              "          document.querySelector('#df-20243aef-e36c-47c2-8632-3041120a0c81 button.colab-df-convert');\n",
              "        buttonEl.style.display =\n",
              "          google.colab.kernel.accessAllowed ? 'block' : 'none';\n",
              "\n",
              "        async function convertToInteractive(key) {\n",
              "          const element = document.querySelector('#df-20243aef-e36c-47c2-8632-3041120a0c81');\n",
              "          const dataTable =\n",
              "            await google.colab.kernel.invokeFunction('convertToInteractive',\n",
              "                                                     [key], {});\n",
              "          if (!dataTable) return;\n",
              "\n",
              "          const docLinkHtml = 'Like what you see? Visit the ' +\n",
              "            '<a target=\"_blank\" href=https://colab.research.google.com/notebooks/data_table.ipynb>data table notebook</a>'\n",
              "            + ' to learn more about interactive tables.';\n",
              "          element.innerHTML = '';\n",
              "          dataTable['output_type'] = 'display_data';\n",
              "          await google.colab.output.renderOutput(dataTable, element);\n",
              "          const docLink = document.createElement('div');\n",
              "          docLink.innerHTML = docLinkHtml;\n",
              "          element.appendChild(docLink);\n",
              "        }\n",
              "      </script>\n",
              "    </div>\n",
              "  </div>\n",
              "  "
            ]
          },
          "metadata": {},
          "execution_count": 81
        }
      ]
    },
    {
      "cell_type": "markdown",
      "source": [
        "legfontosabb változók ez alapján: iyear (év), gname (elkövető szervezet neve), targtype1 (célpont típusa), country (ország)"
      ],
      "metadata": {
        "id": "cH2I1GXPKxa2"
      }
    },
    {
      "cell_type": "code",
      "source": [
        "## fontos változók megállapítása a permutation feature importance értékek alapján\n",
        "\n",
        "r2 = permutation_importance(best_rf, X_test, Y_test, n_repeats=30, random_state=42)\n",
        "\n",
        "for i in r2.importances_mean.argsort()[::-1]:\n",
        "    if r2.importances_mean[i] > 0.01:\n",
        "        print(X_test.columns[i],\n",
        "        f\"{r2.importances_mean[i]:.3f}\"\n",
        "        f\" +/- {r2.importances_std[i]:.3f}\")"
      ],
      "metadata": {
        "colab": {
          "base_uri": "https://localhost:8080/"
        },
        "id": "CrHRb8r3nR4H",
        "outputId": "4c6cdb7e-5a85-425c-c106-c621a0b38b29"
      },
      "execution_count": 82,
      "outputs": [
        {
          "output_type": "stream",
          "name": "stdout",
          "text": [
            "iyear 0.045 +/- 0.006\n",
            "targtype1 0.044 +/- 0.005\n",
            "gname 0.036 +/- 0.005\n",
            "extended 0.026 +/- 0.005\n",
            "region 0.022 +/- 0.005\n",
            "country 0.020 +/- 0.004\n",
            "weaptype1 0.010 +/- 0.004\n"
          ]
        }
      ]
    },
    {
      "cell_type": "markdown",
      "source": [
        "legfontosabb változók a permutation importance score-ok alapján: iyear (év), targtype1 (célpont típusa), gname (elkövető szervezet neve), extended (24 óránál tovább tartott-e)"
      ],
      "metadata": {
        "id": "kAhwVN2uLBXM"
      }
    },
    {
      "cell_type": "markdown",
      "source": [
        "#### Fontos változók megállapítása a SHAP értékek alapján:"
      ],
      "metadata": {
        "id": "ryQGCw6KuCCk"
      }
    },
    {
      "cell_type": "code",
      "source": [
        "## SHAP értékek megállapítása a globális fontosságok ábrázolásához\n",
        "explainer_rf = shap.Explainer(best_rf)\n",
        "shap_values_rf = explainer_rf(X_test)"
      ],
      "metadata": {
        "id": "4nVWKxrkngrk"
      },
      "execution_count": 83,
      "outputs": []
    },
    {
      "cell_type": "code",
      "source": [
        "shap.plots.bar(shap_values_rf[:, :, 1], show=False)\n",
        "plt.title(\"Változók abszolút fontossága a SHAP értékek alapján\")\n",
        "plt.ylabel(\"változó\")\n",
        "plt.xlabel(\"átlagos abszolút SHAP érték\")"
      ],
      "metadata": {
        "colab": {
          "base_uri": "https://localhost:8080/",
          "height": 370
        },
        "id": "8emFBQoTn3gJ",
        "outputId": "43415ad1-2fdf-478b-e814-1986c170f0ba"
      },
      "execution_count": 89,
      "outputs": [
        {
          "output_type": "execute_result",
          "data": {
            "text/plain": [
              "Text(0.5, 0, 'átlagos abszolút SHAP érték')"
            ]
          },
          "metadata": {},
          "execution_count": 89
        },
        {
          "output_type": "display_data",
          "data": {
            "text/plain": [
              "<Figure size 576x360 with 1 Axes>"
            ],
            "image/png": "[encoded data removed]"
          },
          "metadata": {}
        }
      ]
    },
    {
      "cell_type": "code",
      "source": [
        "shap.plots.beeswarm(shap_values_rf[:, :, 1], show=False)\n",
        "plt.title(\"Változók SHAP értéke a teljes teszt halmazon\")\n",
        "plt.ylabel(\"változó\")\n",
        "plt.xlabel(\"SHAP érték\")"
      ],
      "metadata": {
        "colab": {
          "base_uri": "https://localhost:8080/",
          "height": 332
        },
        "id": "r2dVk-m8n8kW",
        "outputId": "c4ea9509-8e04-4518-a801-93c7291eb3ba"
      },
      "execution_count": 93,
      "outputs": [
        {
          "output_type": "execute_result",
          "data": {
            "text/plain": [
              "Text(0.5, 0, 'SHAP érték')"
            ]
          },
          "metadata": {},
          "execution_count": 93
        },
        {
          "output_type": "display_data",
          "data": {
            "text/plain": [
              "<Figure size 576x309.6 with 2 Axes>"
            ],
            "image/png": "[encoded data removed]"
          },
          "metadata": {
            "needs_background": "light"
          }
        }
      ]
    },
    {
      "cell_type": "code",
      "source": [
        "## SHAP értékek megállapítása a lokális fontosságok ábrázolásához\n",
        "explainer_rf = shap.TreeExplainer(best_rf)\n",
        "shap_values_rf = explainer_rf.shap_values(X_test)"
      ],
      "metadata": {
        "id": "fLANiTwpoEFI"
      },
      "execution_count": 94,
      "outputs": []
    },
    {
      "cell_type": "code",
      "source": [
        "shap.force_plot(explainer_rf.expected_value[1], shap_values_rf[1][6], X_test.iloc[6], matplotlib=True, show=False)\n",
        "plt.suptitle(\"A döntést befolyásoló tényezők egy \\\"pozitívnak\\\" prediktált esetben\", y=1.4)"
      ],
      "metadata": {
        "colab": {
          "base_uri": "https://localhost:8080/",
          "height": 323
        },
        "id": "SUMtkEDioMDB",
        "outputId": "c3d78f14-b549-44c5-f467-0853819d337e"
      },
      "execution_count": 105,
      "outputs": [
        {
          "output_type": "execute_result",
          "data": {
            "text/plain": [
              "Text(0.5, 1.4, 'A döntést befolyásoló tényezők egy \"pozitívnak\" prediktált esetben')"
            ]
          },
          "metadata": {},
          "execution_count": 105
        },
        {
          "output_type": "display_data",
          "data": {
            "text/plain": [
              "<Figure size 1440x216 with 1 Axes>"
            ],
            "image/png": "[encoded data removed]"
          },
          "metadata": {
            "needs_background": "light"
          }
        }
      ]
    },
    {
      "cell_type": "code",
      "source": [
        "shap.force_plot(explainer_rf.expected_value[1], shap_values_rf[1][8], X_test.iloc[8], matplotlib=True, show=False)\n",
        "plt.suptitle(\"A döntést befolyásoló tényezők egy \\\"negatívnak\\\" prediktált esetben\", y=1.4)"
      ],
      "metadata": {
        "colab": {
          "base_uri": "https://localhost:8080/",
          "height": 323
        },
        "id": "_TBkysAdobzl",
        "outputId": "28029908-46a0-4756-e098-12b3cc4b2a78"
      },
      "execution_count": 106,
      "outputs": [
        {
          "output_type": "execute_result",
          "data": {
            "text/plain": [
              "Text(0.5, 1.4, 'A döntést befolyásoló tényezők egy \"negatívnak\" prediktált esetben')"
            ]
          },
          "metadata": {},
          "execution_count": 106
        },
        {
          "output_type": "display_data",
          "data": {
            "text/plain": [
              "<Figure size 1440x216 with 1 Axes>"
            ],
            "image/png": "[encoded data removed]"
          },
          "metadata": {
            "needs_background": "light"
          }
        }
      ]
    },
    {
      "cell_type": "markdown",
      "source": [
        "### A bővített magyarázó változó halmazzal épített modell értelmezése:"
      ],
      "metadata": {
        "id": "eISPKMqjbgks"
      }
    },
    {
      "cell_type": "code",
      "source": [
        "## fontos változók megállapítása a véletlen erdő modell saját fontossági értékei alapján\n",
        "feature_importance_rf_ext = pd.DataFrame(\n",
        "    {'feature': list(features_ext.columns),\n",
        "     'importance': best_rf_ext.feature_importances_\n",
        "    })"
      ],
      "metadata": {
        "id": "rii2x2h9h2o1"
      },
      "execution_count": 107,
      "outputs": []
    },
    {
      "cell_type": "code",
      "source": [
        "feature_importance_rf_ext.sort_values(by=['importance'], ascending=False)"
      ],
      "metadata": {
        "colab": {
          "base_uri": "https://localhost:8080/",
          "height": 739
        },
        "id": "jvAHM0NEh1qs",
        "outputId": "61955ea6-084d-48cf-a709-2b2eecd59d6a"
      },
      "execution_count": 108,
      "outputs": [
        {
          "output_type": "execute_result",
          "data": {
            "text/plain": [
              "        feature  importance\n",
              "0         iyear    0.118876\n",
              "15    targtype1    0.110321\n",
              "16      target1    0.109983\n",
              "6     provstate    0.105141\n",
              "18        gname    0.096982\n",
              "3      extended    0.070040\n",
              "17      natlty1    0.061775\n",
              "5        region    0.059467\n",
              "4       country    0.055868\n",
              "2          iday    0.040832\n",
              "21     INT_MISC    0.037460\n",
              "20    weaptype1    0.032570\n",
              "1        imonth    0.032026\n",
              "14  attacktype1    0.030240\n",
              "7   specificity    0.015759\n",
              "11        crit3    0.008014\n",
              "8      vicinity    0.006398\n",
              "12     multiple    0.005284\n",
              "9         crit1    0.001427\n",
              "13      suicide    0.000967\n",
              "10        crit2    0.000362\n",
              "19   individual    0.000206"
            ],
            "text/html": [
              "\n",
              "  <div id=\"df-d1954b27-1b7f-4dfd-9c15-0056f6eb096b\">\n",
              "    <div class=\"colab-df-container\">\n",
              "      <div>\n",
              "<style scoped>\n",
              "    .dataframe tbody tr th:only-of-type {\n",
              "        vertical-align: middle;\n",
              "    }\n",
              "\n",
              "    .dataframe tbody tr th {\n",
              "        vertical-align: top;\n",
              "    }\n",
              "\n",
              "    .dataframe thead th {\n",
              "        text-align: right;\n",
              "    }\n",
              "</style>\n",
              "<table border=\"1\" class=\"dataframe\">\n",
              "  <thead>\n",
              "    <tr style=\"text-align: right;\">\n",
              "      <th></th>\n",
              "      <th>feature</th>\n",
              "      <th>importance</th>\n",
              "    </tr>\n",
              "  </thead>\n",
              "  <tbody>\n",
              "    <tr>\n",
              "      <th>0</th>\n",
              "      <td>iyear</td>\n",
              "      <td>0.118876</td>\n",
              "    </tr>\n",
              "    <tr>\n",
              "      <th>15</th>\n",
              "      <td>targtype1</td>\n",
              "      <td>0.110321</td>\n",
              "    </tr>\n",
              "    <tr>\n",
              "      <th>16</th>\n",
              "      <td>target1</td>\n",
              "      <td>0.109983</td>\n",
              "    </tr>\n",
              "    <tr>\n",
              "      <th>6</th>\n",
              "      <td>provstate</td>\n",
              "      <td>0.105141</td>\n",
              "    </tr>\n",
              "    <tr>\n",
              "      <th>18</th>\n",
              "      <td>gname</td>\n",
              "      <td>0.096982</td>\n",
              "    </tr>\n",
              "    <tr>\n",
              "      <th>3</th>\n",
              "      <td>extended</td>\n",
              "      <td>0.070040</td>\n",
              "    </tr>\n",
              "    <tr>\n",
              "      <th>17</th>\n",
              "      <td>natlty1</td>\n",
              "      <td>0.061775</td>\n",
              "    </tr>\n",
              "    <tr>\n",
              "      <th>5</th>\n",
              "      <td>region</td>\n",
              "      <td>0.059467</td>\n",
              "    </tr>\n",
              "    <tr>\n",
              "      <th>4</th>\n",
              "      <td>country</td>\n",
              "      <td>0.055868</td>\n",
              "    </tr>\n",
              "    <tr>\n",
              "      <th>2</th>\n",
              "      <td>iday</td>\n",
              "      <td>0.040832</td>\n",
              "    </tr>\n",
              "    <tr>\n",
              "      <th>21</th>\n",
              "      <td>INT_MISC</td>\n",
              "      <td>0.037460</td>\n",
              "    </tr>\n",
              "    <tr>\n",
              "      <th>20</th>\n",
              "      <td>weaptype1</td>\n",
              "      <td>0.032570</td>\n",
              "    </tr>\n",
              "    <tr>\n",
              "      <th>1</th>\n",
              "      <td>imonth</td>\n",
              "      <td>0.032026</td>\n",
              "    </tr>\n",
              "    <tr>\n",
              "      <th>14</th>\n",
              "      <td>attacktype1</td>\n",
              "      <td>0.030240</td>\n",
              "    </tr>\n",
              "    <tr>\n",
              "      <th>7</th>\n",
              "      <td>specificity</td>\n",
              "      <td>0.015759</td>\n",
              "    </tr>\n",
              "    <tr>\n",
              "      <th>11</th>\n",
              "      <td>crit3</td>\n",
              "      <td>0.008014</td>\n",
              "    </tr>\n",
              "    <tr>\n",
              "      <th>8</th>\n",
              "      <td>vicinity</td>\n",
              "      <td>0.006398</td>\n",
              "    </tr>\n",
              "    <tr>\n",
              "      <th>12</th>\n",
              "      <td>multiple</td>\n",
              "      <td>0.005284</td>\n",
              "    </tr>\n",
              "    <tr>\n",
              "      <th>9</th>\n",
              "      <td>crit1</td>\n",
              "      <td>0.001427</td>\n",
              "    </tr>\n",
              "    <tr>\n",
              "      <th>13</th>\n",
              "      <td>suicide</td>\n",
              "      <td>0.000967</td>\n",
              "    </tr>\n",
              "    <tr>\n",
              "      <th>10</th>\n",
              "      <td>crit2</td>\n",
              "      <td>0.000362</td>\n",
              "    </tr>\n",
              "    <tr>\n",
              "      <th>19</th>\n",
              "      <td>individual</td>\n",
              "      <td>0.000206</td>\n",
              "    </tr>\n",
              "  </tbody>\n",
              "</table>\n",
              "</div>\n",
              "      <button class=\"colab-df-convert\" onclick=\"convertToInteractive('df-d1954b27-1b7f-4dfd-9c15-0056f6eb096b')\"\n",
              "              title=\"Convert this dataframe to an interactive table.\"\n",
              "              style=\"display:none;\">\n",
              "        \n",
              "  <svg xmlns=\"http://www.w3.org/2000/svg\" height=\"24px\"viewBox=\"0 0 24 24\"\n",
              "       width=\"24px\">\n",
              "    <path d=\"M0 0h24v24H0V0z\" fill=\"none\"/>\n",
              "    <path d=\"M18.56 5.44l.94 2.06.94-2.06 2.06-.94-2.06-.94-.94-2.06-.94 2.06-2.06.94zm-11 1L8.5 8.5l.94-2.06 2.06-.94-2.06-.94L8.5 2.5l-.94 2.06-2.06.94zm10 10l.94 2.06.94-2.06 2.06-.94-2.06-.94-.94-2.06-.94 2.06-2.06.94z\"/><path d=\"M17.41 7.96l-1.37-1.37c-.4-.4-.92-.59-1.43-.59-.52 0-1.04.2-1.43.59L10.3 9.45l-7.72 7.72c-.78.78-.78 2.05 0 2.83L4 21.41c.39.39.9.59 1.41.59.51 0 1.02-.2 1.41-.59l7.78-7.78 2.81-2.81c.8-.78.8-2.07 0-2.86zM5.41 20L4 18.59l7.72-7.72 1.47 1.35L5.41 20z\"/>\n",
              "  </svg>\n",
              "      </button>\n",
              "      \n",
              "  <style>\n",
              "    .colab-df-container {\n",
              "      display:flex;\n",
              "      flex-wrap:wrap;\n",
              "      gap: 12px;\n",
              "    }\n",
              "\n",
              "    .colab-df-convert {\n",
              "      background-color: #E8F0FE;\n",
              "      border: none;\n",
              "      border-radius: 50%;\n",
              "      cursor: pointer;\n",
              "      display: none;\n",
              "      fill: #1967D2;\n",
              "      height: 32px;\n",
              "      padding: 0 0 0 0;\n",
              "      width: 32px;\n",
              "    }\n",
              "\n",
              "    .colab-df-convert:hover {\n",
              "      background-color: #E2EBFA;\n",
              "      box-shadow: 0px 1px 2px rgba(60, 64, 67, 0.3), 0px 1px 3px 1px rgba(60, 64, 67, 0.15);\n",
              "      fill: #174EA6;\n",
              "    }\n",
              "\n",
              "    [theme=dark] .colab-df-convert {\n",
              "      background-color: #3B4455;\n",
              "      fill: #D2E3FC;\n",
              "    }\n",
              "\n",
              "    [theme=dark] .colab-df-convert:hover {\n",
              "      background-color: #434B5C;\n",
              "      box-shadow: 0px 1px 3px 1px rgba(0, 0, 0, 0.15);\n",
              "      filter: drop-shadow(0px 1px 2px rgba(0, 0, 0, 0.3));\n",
              "      fill: #FFFFFF;\n",
              "    }\n",
              "  </style>\n",
              "\n",
              "      <script>\n",
              "        const buttonEl =\n",
              "          document.querySelector('#df-d1954b27-1b7f-4dfd-9c15-0056f6eb096b button.colab-df-convert');\n",
              "        buttonEl.style.display =\n",
              "          google.colab.kernel.accessAllowed ? 'block' : 'none';\n",
              "\n",
              "        async function convertToInteractive(key) {\n",
              "          const element = document.querySelector('#df-d1954b27-1b7f-4dfd-9c15-0056f6eb096b');\n",
              "          const dataTable =\n",
              "            await google.colab.kernel.invokeFunction('convertToInteractive',\n",
              "                                                     [key], {});\n",
              "          if (!dataTable) return;\n",
              "\n",
              "          const docLinkHtml = 'Like what you see? Visit the ' +\n",
              "            '<a target=\"_blank\" href=https://colab.research.google.com/notebooks/data_table.ipynb>data table notebook</a>'\n",
              "            + ' to learn more about interactive tables.';\n",
              "          element.innerHTML = '';\n",
              "          dataTable['output_type'] = 'display_data';\n",
              "          await google.colab.output.renderOutput(dataTable, element);\n",
              "          const docLink = document.createElement('div');\n",
              "          docLink.innerHTML = docLinkHtml;\n",
              "          element.appendChild(docLink);\n",
              "        }\n",
              "      </script>\n",
              "    </div>\n",
              "  </div>\n",
              "  "
            ]
          },
          "metadata": {},
          "execution_count": 108
        }
      ]
    },
    {
      "cell_type": "markdown",
      "source": [
        "legfontosabb változók ez alapján: iyear (év), targtype1 (célpont típusa), target (pontos célpont megnevezése), provstate (helyszín - állam)"
      ],
      "metadata": {
        "id": "r3BJWs73O2Df"
      }
    },
    {
      "cell_type": "code",
      "source": [
        "## fontos változók megállapítása a permutation feature importance értékek alapján\n",
        "\n",
        "r2_ext = permutation_importance(best_rf_ext, X_test_ext, Y_test_ext, n_repeats=30, random_state=42)\n",
        "\n",
        "for i in r2_ext.importances_mean.argsort()[::-1]:\n",
        "    if r2_ext.importances_mean[i] > 0.01:\n",
        "        print(X_test_ext.columns[i],\n",
        "        f\"{r2_ext.importances_mean[i]:.3f}\"\n",
        "        f\" +/- {r2_ext.importances_std[i]:.3f}\")"
      ],
      "metadata": {
        "colab": {
          "base_uri": "https://localhost:8080/"
        },
        "id": "hcCEn5kGiAcq",
        "outputId": "42cc0ef5-dc09-42a9-d9c9-f4b6eb7a084d"
      },
      "execution_count": 109,
      "outputs": [
        {
          "output_type": "stream",
          "name": "stdout",
          "text": [
            "extended 0.033 +/- 0.005\n",
            "iyear 0.022 +/- 0.004\n",
            "targtype1 0.021 +/- 0.004\n",
            "gname 0.020 +/- 0.005\n",
            "region 0.015 +/- 0.004\n",
            "provstate 0.013 +/- 0.005\n",
            "INT_MISC 0.011 +/- 0.002\n"
          ]
        }
      ]
    },
    {
      "cell_type": "markdown",
      "source": [
        "legfontosabb változók a permutation importance score-ok alapján: extended (24 óránál tovább tartott-e), iyear (év), targtype1 (célpont típusa), gname (elkövető szervezet neve)"
      ],
      "metadata": {
        "id": "gw0UUXxBPt1N"
      }
    },
    {
      "cell_type": "markdown",
      "source": [
        "Összességében tehát az mondható, hogy ha azt szeretnénk megjósolni, hogy egy támadást az érintettek többsége túlél-e fontos információnak számít az elkövetés éve és a célpont típusa, valamint az is, hogy 24 óránál tovább tart/tartott-e a támadás, kik az elkövetők, és a helyszínre (ország, régió, állam) vonatkozó információk is hasznosak tudnak lenni."
      ],
      "metadata": {
        "id": "oxpYh3YiQC8A"
      }
    },
    {
      "cell_type": "markdown",
      "source": [
        "#### Fontos változók megállapítása a SHAP értékek alapján:"
      ],
      "metadata": {
        "id": "pAhwZngSu7hf"
      }
    },
    {
      "cell_type": "code",
      "source": [
        "## SHAP értékek megállapítása a globális fontosságok ábrázolásához\n",
        "explainer_rf_ext = shap.Explainer(best_rf_ext)\n",
        "shap_values_rf_ext = explainer_rf_ext(X_test_ext)"
      ],
      "metadata": {
        "id": "ZaXCSMqFjlHg"
      },
      "execution_count": 110,
      "outputs": []
    },
    {
      "cell_type": "code",
      "source": [
        "shap.plots.bar(shap_values_rf_ext[:, :, 1], show=False)\n",
        "plt.title(\"Változók abszolút fontossága a SHAP értékek alapján\")\n",
        "plt.ylabel(\"változó\")\n",
        "plt.xlabel(\"átlagos abszolút SHAP érték\")"
      ],
      "metadata": {
        "colab": {
          "base_uri": "https://localhost:8080/",
          "height": 451
        },
        "id": "gZy5TdELjlEV",
        "outputId": "391d900f-bf0a-4a89-ca51-b41739dee6ed"
      },
      "execution_count": 111,
      "outputs": [
        {
          "output_type": "execute_result",
          "data": {
            "text/plain": [
              "Text(0.5, 0, 'átlagos abszolút SHAP érték')"
            ]
          },
          "metadata": {},
          "execution_count": 111
        },
        {
          "output_type": "display_data",
          "data": {
            "text/plain": [
              "<Figure size 576x468 with 1 Axes>"
            ],
            "image/png": "[encoded data removed]"
          },
          "metadata": {}
        }
      ]
    },
    {
      "cell_type": "code",
      "source": [
        "shap.plots.beeswarm(shap_values_rf_ext[:, :, 1], show=False)\n",
        "plt.title(\"Változók SHAP értéke a teljes teszt halmazon\")\n",
        "plt.ylabel(\"változó\")\n",
        "plt.xlabel(\"SHAP érték\")"
      ],
      "metadata": {
        "colab": {
          "base_uri": "https://localhost:8080/",
          "height": 397
        },
        "id": "2n9PH9UPjlBh",
        "outputId": "22a7f509-1abe-49c9-9c63-532e26a9b33f"
      },
      "execution_count": 112,
      "outputs": [
        {
          "output_type": "execute_result",
          "data": {
            "text/plain": [
              "Text(0.5, 0, 'SHAP érték')"
            ]
          },
          "metadata": {},
          "execution_count": 112
        },
        {
          "output_type": "display_data",
          "data": {
            "text/plain": [
              "<Figure size 576x396 with 2 Axes>"
            ],
            "image/png": "[encoded data removed]"
          },
          "metadata": {
            "needs_background": "light"
          }
        }
      ]
    },
    {
      "cell_type": "code",
      "source": [
        "## SHAP értékek megállapítása a lokális fontosságok ábrázolásához\n",
        "explainer_rf_ext = shap.TreeExplainer(best_rf_ext)\n",
        "shap_values_rf_ext = explainer_rf_ext.shap_values(X_test_ext)"
      ],
      "metadata": {
        "id": "rAGVOGoFjk6N"
      },
      "execution_count": 113,
      "outputs": []
    },
    {
      "cell_type": "code",
      "source": [
        "shap.force_plot(explainer_rf_ext.expected_value[1], shap_values_rf_ext[1][0], X_test_ext.iloc[0], matplotlib=True, show=False)\n",
        "plt.suptitle(\"A döntést befolyásoló tényezők egy \\\"pozitívnak\\\" prediktált esetben\", y=1.4)"
      ],
      "metadata": {
        "id": "Tj9udIueo6WT",
        "colab": {
          "base_uri": "https://localhost:8080/",
          "height": 323
        },
        "outputId": "0519e24c-5d32-4978-c493-f813d49a2391"
      },
      "execution_count": 114,
      "outputs": [
        {
          "output_type": "execute_result",
          "data": {
            "text/plain": [
              "Text(0.5, 1.4, 'A döntést befolyásoló tényezők egy \"pozitívnak\" prediktált esetben')"
            ]
          },
          "metadata": {},
          "execution_count": 114
        },
        {
          "output_type": "display_data",
          "data": {
            "text/plain": [
              "<Figure size 1440x216 with 1 Axes>"
            ],
            "image/png": "[encoded data removed]"
          },
          "metadata": {
            "needs_background": "light"
          }
        }
      ]
    },
    {
      "cell_type": "markdown",
      "source": [
        "Főbb negatív hatások:\n",
        "\n",
        "\n",
        "*   támadás típusa: 14 - konkrét személy elleni támadás/nyilvánosság ellen és/vagy nyilvános területen elkövetett támadás\n",
        "*   támadás célpontja (konkrét ember vagy épület/helyszín): 1565 - Civilians\n",
        "\n",
        "Főbb pozitív hatások:\n",
        "\n",
        "\n",
        "*   régió: 3 - Dél Amerika\n",
        "*   szervezet: 21 - National Liberation Army of Colombia (ELN)"
      ],
      "metadata": {
        "id": "gB9LqzBQky-_"
      }
    },
    {
      "cell_type": "code",
      "source": [
        "shap.force_plot(explainer_rf_ext.expected_value[1], shap_values_rf_ext[1][7], X_test_ext.iloc[7], matplotlib=True, show=False)\n",
        "plt.suptitle(\"A döntést befolyásoló tényezők egy \\\"negatívnak\\\" prediktált esetben\", y=1.4)"
      ],
      "metadata": {
        "colab": {
          "base_uri": "https://localhost:8080/",
          "height": 323
        },
        "id": "2w6dG5K1kWog",
        "outputId": "d288388d-6360-4ef1-af4a-e723a387e086"
      },
      "execution_count": 115,
      "outputs": [
        {
          "output_type": "execute_result",
          "data": {
            "text/plain": [
              "Text(0.5, 1.4, 'A döntést befolyásoló tényezők egy \"negatívnak\" prediktált esetben')"
            ]
          },
          "metadata": {},
          "execution_count": 115
        },
        {
          "output_type": "display_data",
          "data": {
            "text/plain": [
              "<Figure size 1440x216 with 1 Axes>"
            ],
            "image/png": "[encoded data removed]"
          },
          "metadata": {
            "needs_background": "light"
          }
        }
      ]
    },
    {
      "cell_type": "markdown",
      "source": [
        "![kép_2022-12-13_171947577.png](data:image/png;base64,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)"
      ],
      "metadata": {
        "id": "LVOfpG11SOli"
      }
    },
    {
      "cell_type": "markdown",
      "source": [
        "Főbb pozitív hatás:\n",
        "\n",
        "\n",
        "*   imonth = 3 --> márciusban történt a támadás\n",
        "\n",
        "Főbb negatív hatások:\n",
        "\n",
        "\n",
        "*   extended = 0 --> nem tartott 24 óránál tovább\n",
        "*   gname = 437 --> szervezet: Islamic State of Iraq and the Levant (ISIL)\n",
        "*   targtype1 = 14 --> támadás típusa: konkrét személy elleni támadás/nyilvánosság ellen és/vagy nyilvános területen elkövetett támadás"
      ],
      "metadata": {
        "id": "7MXg5Juenr6w"
      }
    },
    {
      "cell_type": "markdown",
      "source": [
        "#### Kódolt változók jelentésének visszakeresése (a fenti esetekre):"
      ],
      "metadata": {
        "id": "nfXsAwUycEGY"
      }
    },
    {
      "cell_type": "code",
      "source": [
        "label_gname[437]"
      ],
      "metadata": {
        "colab": {
          "base_uri": "https://localhost:8080/",
          "height": 36
        },
        "id": "I2dtkNCVTjnw",
        "outputId": "0acbfd94-dde0-44e2-e59c-1471a2ed8541"
      },
      "execution_count": 125,
      "outputs": [
        {
          "output_type": "execute_result",
          "data": {
            "text/plain": [
              "'Islamic State of Iraq and the Levant (ISIL)'"
            ],
            "application/vnd.google.colaboratory.intrinsic+json": {
              "type": "string"
            }
          },
          "metadata": {},
          "execution_count": 125
        }
      ]
    },
    {
      "cell_type": "code",
      "source": [
        "label_gname[21]"
      ],
      "metadata": {
        "colab": {
          "base_uri": "https://localhost:8080/",
          "height": 36
        },
        "id": "SI5FHCHLVCQD",
        "outputId": "b38a3478-fe00-4479-e46d-7ed74bd81699"
      },
      "execution_count": 128,
      "outputs": [
        {
          "output_type": "execute_result",
          "data": {
            "text/plain": [
              "'National Liberation Army of Colombia (ELN)'"
            ],
            "application/vnd.google.colaboratory.intrinsic+json": {
              "type": "string"
            }
          },
          "metadata": {},
          "execution_count": 128
        }
      ]
    },
    {
      "cell_type": "code",
      "source": [
        "label_target1[1565]"
      ],
      "metadata": {
        "colab": {
          "base_uri": "https://localhost:8080/",
          "height": 36
        },
        "id": "Z9qLdY6IUryg",
        "outputId": "ff442098-f595-42fd-986b-5d05780697c9"
      },
      "execution_count": 126,
      "outputs": [
        {
          "output_type": "execute_result",
          "data": {
            "text/plain": [
              "'Civilians'"
            ],
            "application/vnd.google.colaboratory.intrinsic+json": {
              "type": "string"
            }
          },
          "metadata": {},
          "execution_count": 126
        }
      ]
    }
  ]
}